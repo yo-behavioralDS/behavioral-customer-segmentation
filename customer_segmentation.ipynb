{
 "cells": [
  {
   "cell_type": "markdown",
   "id": "905d64d9",
   "metadata": {},
   "source": [
    "# Customer Segmentation & Profiling\n",
    "As a Behavioral Data Scientist, the project focuses on identifying customer behavior patterns within a UK online gift retailer’s transaction data using RFM metrics and K-Means clustering to inform personalized marketing strategies.\n",
    "\n",
    "#### Goal\n",
    "Identify and group customers based on their purchase behavior using unsupervised machine learning techniques, then interpret each cluster through a **behavioral psychology lens** to inform marketing decisions.\n",
    "\n",
    "*An e-commerce dataset containing transactions from 2010 and 2011 from a UK-based online retailer will be used*\n"
   ]
  },
  {
   "cell_type": "markdown",
   "id": "1ecdea9b",
   "metadata": {},
   "source": [
    "# Table of Contents\n",
    "\n",
    "1. [Data Understanding](#1-data-understanding)  \n",
    "   *Overview of dataset structure, columns, and sample exploration.*\n",
    "\n",
    "2. [Data Cleaning & Preparation](#2-data-cleaning--preparation)  \n",
    "   *Handling missing values, dropping columns, and filtering valid transactions.*\n",
    "\n",
    "3. [RFM Feature Engineering](#3-rfm-feature-engineering)  \n",
    "   *Calculation of Recency, Frequency, and Monetary metrics per customer.*\n",
    "\n",
    "4. [Data Preprocessing for Clustering](#4-data-preprocessing-for-clustering)  \n",
    "   *Log transformation and feature standardization to normalize scale.*\n",
    "\n",
    "5. [K-Means Clustering](#5-k-means-clustering)  \n",
    "   *Applying K-Means with Elbow and Silhouette methods for optimal k.*\n",
    "\n",
    "6. [Behavioral, Psychological & Business Interpretation](#6-behavioral-psychological--business-interpretation)  \n",
    "   *Explaining customer cluster behaviors, and segment meaning.*\n",
    "\n",
    "7. [Visualization & Storytelling](#7-visualization--storytelling)  \n",
    "   *Heatmap, bar plots, and visual insights summarizing customer segments.*\n",
    "\n",
    "8. [Conclusion](#8-conclusion)  \n",
    "   *Key findings.*"
   ]
  },
  {
   "cell_type": "markdown",
   "id": "ed173edd",
   "metadata": {},
   "source": [
    "## 1. Data Understanding\n",
    "First, let's explore and understand patterns within the dataset to get a clear mental picture."
   ]
  },
  {
   "cell_type": "code",
   "execution_count": 96,
   "id": "e613fd9e",
   "metadata": {},
   "outputs": [],
   "source": [
    "import pandas as pd\n",
    "import numpy as np\n",
    "import matplotlib.pyplot as plt\n",
    "%matplotlib inline"
   ]
  },
  {
   "cell_type": "code",
   "execution_count": 97,
   "id": "03134a6b",
   "metadata": {},
   "outputs": [
    {
     "data": {
      "text/html": [
       "<div>\n",
       "<style scoped>\n",
       "    .dataframe tbody tr th:only-of-type {\n",
       "        vertical-align: middle;\n",
       "    }\n",
       "\n",
       "    .dataframe tbody tr th {\n",
       "        vertical-align: top;\n",
       "    }\n",
       "\n",
       "    .dataframe thead th {\n",
       "        text-align: right;\n",
       "    }\n",
       "</style>\n",
       "<table border=\"1\" class=\"dataframe\">\n",
       "  <thead>\n",
       "    <tr style=\"text-align: right;\">\n",
       "      <th></th>\n",
       "      <th>InvoiceNo</th>\n",
       "      <th>StockCode</th>\n",
       "      <th>Description</th>\n",
       "      <th>Quantity</th>\n",
       "      <th>InvoiceDate</th>\n",
       "      <th>UnitPrice</th>\n",
       "      <th>CustomerID</th>\n",
       "      <th>Country</th>\n",
       "    </tr>\n",
       "  </thead>\n",
       "  <tbody>\n",
       "    <tr>\n",
       "      <th>0</th>\n",
       "      <td>536365</td>\n",
       "      <td>85123A</td>\n",
       "      <td>WHITE HANGING HEART T-LIGHT HOLDER</td>\n",
       "      <td>6</td>\n",
       "      <td>12/1/2010 8:26</td>\n",
       "      <td>2.55</td>\n",
       "      <td>17850.0</td>\n",
       "      <td>United Kingdom</td>\n",
       "    </tr>\n",
       "    <tr>\n",
       "      <th>1</th>\n",
       "      <td>536365</td>\n",
       "      <td>71053</td>\n",
       "      <td>WHITE METAL LANTERN</td>\n",
       "      <td>6</td>\n",
       "      <td>12/1/2010 8:26</td>\n",
       "      <td>3.39</td>\n",
       "      <td>17850.0</td>\n",
       "      <td>United Kingdom</td>\n",
       "    </tr>\n",
       "    <tr>\n",
       "      <th>2</th>\n",
       "      <td>536365</td>\n",
       "      <td>84406B</td>\n",
       "      <td>CREAM CUPID HEARTS COAT HANGER</td>\n",
       "      <td>8</td>\n",
       "      <td>12/1/2010 8:26</td>\n",
       "      <td>2.75</td>\n",
       "      <td>17850.0</td>\n",
       "      <td>United Kingdom</td>\n",
       "    </tr>\n",
       "    <tr>\n",
       "      <th>3</th>\n",
       "      <td>536365</td>\n",
       "      <td>84029G</td>\n",
       "      <td>KNITTED UNION FLAG HOT WATER BOTTLE</td>\n",
       "      <td>6</td>\n",
       "      <td>12/1/2010 8:26</td>\n",
       "      <td>3.39</td>\n",
       "      <td>17850.0</td>\n",
       "      <td>United Kingdom</td>\n",
       "    </tr>\n",
       "    <tr>\n",
       "      <th>4</th>\n",
       "      <td>536365</td>\n",
       "      <td>84029E</td>\n",
       "      <td>RED WOOLLY HOTTIE WHITE HEART.</td>\n",
       "      <td>6</td>\n",
       "      <td>12/1/2010 8:26</td>\n",
       "      <td>3.39</td>\n",
       "      <td>17850.0</td>\n",
       "      <td>United Kingdom</td>\n",
       "    </tr>\n",
       "  </tbody>\n",
       "</table>\n",
       "</div>"
      ],
      "text/plain": [
       "  InvoiceNo StockCode                          Description  Quantity  \\\n",
       "0    536365    85123A   WHITE HANGING HEART T-LIGHT HOLDER         6   \n",
       "1    536365     71053                  WHITE METAL LANTERN         6   \n",
       "2    536365    84406B       CREAM CUPID HEARTS COAT HANGER         8   \n",
       "3    536365    84029G  KNITTED UNION FLAG HOT WATER BOTTLE         6   \n",
       "4    536365    84029E       RED WOOLLY HOTTIE WHITE HEART.         6   \n",
       "\n",
       "      InvoiceDate  UnitPrice  CustomerID         Country  \n",
       "0  12/1/2010 8:26       2.55     17850.0  United Kingdom  \n",
       "1  12/1/2010 8:26       3.39     17850.0  United Kingdom  \n",
       "2  12/1/2010 8:26       2.75     17850.0  United Kingdom  \n",
       "3  12/1/2010 8:26       3.39     17850.0  United Kingdom  \n",
       "4  12/1/2010 8:26       3.39     17850.0  United Kingdom  "
      ]
     },
     "execution_count": 97,
     "metadata": {},
     "output_type": "execute_result"
    }
   ],
   "source": [
    "df=pd.read_csv('ecommerce_data.csv', encoding='latin1')\n",
    "df.head()"
   ]
  },
  {
   "cell_type": "markdown",
   "id": "e54f8edf",
   "metadata": {},
   "source": [
    "The following columns include:\n",
    "+ InvoiceNo - unique invoice number  \n",
    "+ StockCode - is the product identifier\n",
    "+ Description - product name or item description\n",
    "+ Quantity - number of unit of that product that is purchased in that transaction\n",
    "+ InvoiceDate - date & time of the transaction \n",
    "+ UnitPrice - price per unit of the product\n",
    "+ CustomerID - unique customer id\n",
    "+ Country - customer location"
   ]
  },
  {
   "cell_type": "code",
   "execution_count": 98,
   "id": "44eb2afb",
   "metadata": {},
   "outputs": [
    {
     "data": {
      "text/html": [
       "<div>\n",
       "<style scoped>\n",
       "    .dataframe tbody tr th:only-of-type {\n",
       "        vertical-align: middle;\n",
       "    }\n",
       "\n",
       "    .dataframe tbody tr th {\n",
       "        vertical-align: top;\n",
       "    }\n",
       "\n",
       "    .dataframe thead th {\n",
       "        text-align: right;\n",
       "    }\n",
       "</style>\n",
       "<table border=\"1\" class=\"dataframe\">\n",
       "  <thead>\n",
       "    <tr style=\"text-align: right;\">\n",
       "      <th></th>\n",
       "      <th>Quantity</th>\n",
       "      <th>UnitPrice</th>\n",
       "      <th>CustomerID</th>\n",
       "    </tr>\n",
       "  </thead>\n",
       "  <tbody>\n",
       "    <tr>\n",
       "      <th>count</th>\n",
       "      <td>541909.000000</td>\n",
       "      <td>541909.000000</td>\n",
       "      <td>406829.000000</td>\n",
       "    </tr>\n",
       "    <tr>\n",
       "      <th>mean</th>\n",
       "      <td>9.552250</td>\n",
       "      <td>4.611114</td>\n",
       "      <td>15287.690570</td>\n",
       "    </tr>\n",
       "    <tr>\n",
       "      <th>std</th>\n",
       "      <td>218.081158</td>\n",
       "      <td>96.759853</td>\n",
       "      <td>1713.600303</td>\n",
       "    </tr>\n",
       "    <tr>\n",
       "      <th>min</th>\n",
       "      <td>-80995.000000</td>\n",
       "      <td>-11062.060000</td>\n",
       "      <td>12346.000000</td>\n",
       "    </tr>\n",
       "    <tr>\n",
       "      <th>25%</th>\n",
       "      <td>1.000000</td>\n",
       "      <td>1.250000</td>\n",
       "      <td>13953.000000</td>\n",
       "    </tr>\n",
       "    <tr>\n",
       "      <th>50%</th>\n",
       "      <td>3.000000</td>\n",
       "      <td>2.080000</td>\n",
       "      <td>15152.000000</td>\n",
       "    </tr>\n",
       "    <tr>\n",
       "      <th>75%</th>\n",
       "      <td>10.000000</td>\n",
       "      <td>4.130000</td>\n",
       "      <td>16791.000000</td>\n",
       "    </tr>\n",
       "    <tr>\n",
       "      <th>max</th>\n",
       "      <td>80995.000000</td>\n",
       "      <td>38970.000000</td>\n",
       "      <td>18287.000000</td>\n",
       "    </tr>\n",
       "  </tbody>\n",
       "</table>\n",
       "</div>"
      ],
      "text/plain": [
       "            Quantity      UnitPrice     CustomerID\n",
       "count  541909.000000  541909.000000  406829.000000\n",
       "mean        9.552250       4.611114   15287.690570\n",
       "std       218.081158      96.759853    1713.600303\n",
       "min    -80995.000000  -11062.060000   12346.000000\n",
       "25%         1.000000       1.250000   13953.000000\n",
       "50%         3.000000       2.080000   15152.000000\n",
       "75%        10.000000       4.130000   16791.000000\n",
       "max     80995.000000   38970.000000   18287.000000"
      ]
     },
     "execution_count": 98,
     "metadata": {},
     "output_type": "execute_result"
    }
   ],
   "source": [
    "df.describe()"
   ]
  },
  {
   "cell_type": "markdown",
   "id": "b5460055",
   "metadata": {},
   "source": [
    "The **Quantity** variable shows significant variablity, with a mean of 9.55 and a high standard deviation of 218, indicating the presence of outliers or very large orders. The minimum value is in negative (-80,995), representing either a return or an error. Behavior can't be analyzed if returns stay in the dataset, thus it will be removed as it might distort findings; a customer might look like a low spender because he returned a big order.\n",
    "\n",
    "The **'UnitPrice'** variable shows unrealistic negative values in the min, indicating an entry error. It will be investigated and will be filtered out later.\n",
    "\n",
    "The **CustomerID** contains a lot of missing values (406,829 non-null), about a quarter of the transactions(exactly 135,080 missing records), suggesting that some purchases may have been made by unregistered or guest users. Missing ID's will likely be dropped later as we can't track the customer's behavior."
   ]
  },
  {
   "cell_type": "markdown",
   "id": "20c83347",
   "metadata": {},
   "source": [
    "### **UnitPrice**\n",
    "Let's investigate the -ve & 0 values in UnitPrices"
   ]
  },
  {
   "cell_type": "code",
   "execution_count": 99,
   "id": "40b667f6",
   "metadata": {},
   "outputs": [
    {
     "data": {
      "text/plain": [
       "np.int64(2515)"
      ]
     },
     "execution_count": 99,
     "metadata": {},
     "output_type": "execute_result"
    }
   ],
   "source": [
    "(df['UnitPrice']==0).sum()"
   ]
  },
  {
   "cell_type": "code",
   "execution_count": 100,
   "id": "d8703704",
   "metadata": {},
   "outputs": [
    {
     "name": "stdout",
     "output_type": "stream",
     "text": [
      "Total numbers with UnitPrice =0: 2515\n"
     ]
    },
    {
     "data": {
      "text/html": [
       "<div>\n",
       "<style scoped>\n",
       "    .dataframe tbody tr th:only-of-type {\n",
       "        vertical-align: middle;\n",
       "    }\n",
       "\n",
       "    .dataframe tbody tr th {\n",
       "        vertical-align: top;\n",
       "    }\n",
       "\n",
       "    .dataframe thead th {\n",
       "        text-align: right;\n",
       "    }\n",
       "</style>\n",
       "<table border=\"1\" class=\"dataframe\">\n",
       "  <thead>\n",
       "    <tr style=\"text-align: right;\">\n",
       "      <th></th>\n",
       "      <th>InvoiceNo</th>\n",
       "      <th>StockCode</th>\n",
       "      <th>Description</th>\n",
       "      <th>Quantity</th>\n",
       "      <th>InvoiceDate</th>\n",
       "      <th>UnitPrice</th>\n",
       "      <th>CustomerID</th>\n",
       "      <th>Country</th>\n",
       "    </tr>\n",
       "  </thead>\n",
       "  <tbody>\n",
       "    <tr>\n",
       "      <th>622</th>\n",
       "      <td>536414</td>\n",
       "      <td>22139</td>\n",
       "      <td>NaN</td>\n",
       "      <td>56</td>\n",
       "      <td>12/1/2010 11:52</td>\n",
       "      <td>0.0</td>\n",
       "      <td>NaN</td>\n",
       "      <td>United Kingdom</td>\n",
       "    </tr>\n",
       "    <tr>\n",
       "      <th>1970</th>\n",
       "      <td>536545</td>\n",
       "      <td>21134</td>\n",
       "      <td>NaN</td>\n",
       "      <td>1</td>\n",
       "      <td>12/1/2010 14:32</td>\n",
       "      <td>0.0</td>\n",
       "      <td>NaN</td>\n",
       "      <td>United Kingdom</td>\n",
       "    </tr>\n",
       "    <tr>\n",
       "      <th>1971</th>\n",
       "      <td>536546</td>\n",
       "      <td>22145</td>\n",
       "      <td>NaN</td>\n",
       "      <td>1</td>\n",
       "      <td>12/1/2010 14:33</td>\n",
       "      <td>0.0</td>\n",
       "      <td>NaN</td>\n",
       "      <td>United Kingdom</td>\n",
       "    </tr>\n",
       "    <tr>\n",
       "      <th>1972</th>\n",
       "      <td>536547</td>\n",
       "      <td>37509</td>\n",
       "      <td>NaN</td>\n",
       "      <td>1</td>\n",
       "      <td>12/1/2010 14:33</td>\n",
       "      <td>0.0</td>\n",
       "      <td>NaN</td>\n",
       "      <td>United Kingdom</td>\n",
       "    </tr>\n",
       "    <tr>\n",
       "      <th>1987</th>\n",
       "      <td>536549</td>\n",
       "      <td>85226A</td>\n",
       "      <td>NaN</td>\n",
       "      <td>1</td>\n",
       "      <td>12/1/2010 14:34</td>\n",
       "      <td>0.0</td>\n",
       "      <td>NaN</td>\n",
       "      <td>United Kingdom</td>\n",
       "    </tr>\n",
       "    <tr>\n",
       "      <th>...</th>\n",
       "      <td>...</td>\n",
       "      <td>...</td>\n",
       "      <td>...</td>\n",
       "      <td>...</td>\n",
       "      <td>...</td>\n",
       "      <td>...</td>\n",
       "      <td>...</td>\n",
       "      <td>...</td>\n",
       "    </tr>\n",
       "    <tr>\n",
       "      <th>536981</th>\n",
       "      <td>581234</td>\n",
       "      <td>72817</td>\n",
       "      <td>NaN</td>\n",
       "      <td>27</td>\n",
       "      <td>12/8/2011 10:33</td>\n",
       "      <td>0.0</td>\n",
       "      <td>NaN</td>\n",
       "      <td>United Kingdom</td>\n",
       "    </tr>\n",
       "    <tr>\n",
       "      <th>538504</th>\n",
       "      <td>581406</td>\n",
       "      <td>46000M</td>\n",
       "      <td>POLYESTER FILLER PAD 45x45cm</td>\n",
       "      <td>240</td>\n",
       "      <td>12/8/2011 13:58</td>\n",
       "      <td>0.0</td>\n",
       "      <td>NaN</td>\n",
       "      <td>United Kingdom</td>\n",
       "    </tr>\n",
       "    <tr>\n",
       "      <th>538505</th>\n",
       "      <td>581406</td>\n",
       "      <td>46000S</td>\n",
       "      <td>POLYESTER FILLER PAD 40x40cm</td>\n",
       "      <td>300</td>\n",
       "      <td>12/8/2011 13:58</td>\n",
       "      <td>0.0</td>\n",
       "      <td>NaN</td>\n",
       "      <td>United Kingdom</td>\n",
       "    </tr>\n",
       "    <tr>\n",
       "      <th>538554</th>\n",
       "      <td>581408</td>\n",
       "      <td>85175</td>\n",
       "      <td>NaN</td>\n",
       "      <td>20</td>\n",
       "      <td>12/8/2011 14:06</td>\n",
       "      <td>0.0</td>\n",
       "      <td>NaN</td>\n",
       "      <td>United Kingdom</td>\n",
       "    </tr>\n",
       "    <tr>\n",
       "      <th>538919</th>\n",
       "      <td>581422</td>\n",
       "      <td>23169</td>\n",
       "      <td>smashed</td>\n",
       "      <td>-235</td>\n",
       "      <td>12/8/2011 15:24</td>\n",
       "      <td>0.0</td>\n",
       "      <td>NaN</td>\n",
       "      <td>United Kingdom</td>\n",
       "    </tr>\n",
       "  </tbody>\n",
       "</table>\n",
       "<p>2515 rows × 8 columns</p>\n",
       "</div>"
      ],
      "text/plain": [
       "       InvoiceNo StockCode                   Description  Quantity  \\\n",
       "622       536414     22139                           NaN        56   \n",
       "1970      536545     21134                           NaN         1   \n",
       "1971      536546     22145                           NaN         1   \n",
       "1972      536547     37509                           NaN         1   \n",
       "1987      536549    85226A                           NaN         1   \n",
       "...          ...       ...                           ...       ...   \n",
       "536981    581234     72817                           NaN        27   \n",
       "538504    581406    46000M  POLYESTER FILLER PAD 45x45cm       240   \n",
       "538505    581406    46000S  POLYESTER FILLER PAD 40x40cm       300   \n",
       "538554    581408     85175                           NaN        20   \n",
       "538919    581422     23169                       smashed      -235   \n",
       "\n",
       "            InvoiceDate  UnitPrice  CustomerID         Country  \n",
       "622     12/1/2010 11:52        0.0         NaN  United Kingdom  \n",
       "1970    12/1/2010 14:32        0.0         NaN  United Kingdom  \n",
       "1971    12/1/2010 14:33        0.0         NaN  United Kingdom  \n",
       "1972    12/1/2010 14:33        0.0         NaN  United Kingdom  \n",
       "1987    12/1/2010 14:34        0.0         NaN  United Kingdom  \n",
       "...                 ...        ...         ...             ...  \n",
       "536981  12/8/2011 10:33        0.0         NaN  United Kingdom  \n",
       "538504  12/8/2011 13:58        0.0         NaN  United Kingdom  \n",
       "538505  12/8/2011 13:58        0.0         NaN  United Kingdom  \n",
       "538554  12/8/2011 14:06        0.0         NaN  United Kingdom  \n",
       "538919  12/8/2011 15:24        0.0         NaN  United Kingdom  \n",
       "\n",
       "[2515 rows x 8 columns]"
      ]
     },
     "execution_count": 100,
     "metadata": {},
     "output_type": "execute_result"
    }
   ],
   "source": [
    "print('Total numbers with UnitPrice =0:', (df['UnitPrice']==0).sum())\n",
    "df[df['UnitPrice']==0]"
   ]
  },
  {
   "cell_type": "code",
   "execution_count": 101,
   "id": "fb1cbf26",
   "metadata": {},
   "outputs": [
    {
     "data": {
      "text/html": [
       "<div>\n",
       "<style scoped>\n",
       "    .dataframe tbody tr th:only-of-type {\n",
       "        vertical-align: middle;\n",
       "    }\n",
       "\n",
       "    .dataframe tbody tr th {\n",
       "        vertical-align: top;\n",
       "    }\n",
       "\n",
       "    .dataframe thead th {\n",
       "        text-align: right;\n",
       "    }\n",
       "</style>\n",
       "<table border=\"1\" class=\"dataframe\">\n",
       "  <thead>\n",
       "    <tr style=\"text-align: right;\">\n",
       "      <th></th>\n",
       "      <th>InvoiceNo</th>\n",
       "      <th>StockCode</th>\n",
       "      <th>Description</th>\n",
       "      <th>Quantity</th>\n",
       "      <th>InvoiceDate</th>\n",
       "      <th>UnitPrice</th>\n",
       "      <th>CustomerID</th>\n",
       "      <th>Country</th>\n",
       "    </tr>\n",
       "  </thead>\n",
       "  <tbody>\n",
       "    <tr>\n",
       "      <th>299983</th>\n",
       "      <td>A563186</td>\n",
       "      <td>B</td>\n",
       "      <td>Adjust bad debt</td>\n",
       "      <td>1</td>\n",
       "      <td>8/12/2011 14:51</td>\n",
       "      <td>-11062.06</td>\n",
       "      <td>NaN</td>\n",
       "      <td>United Kingdom</td>\n",
       "    </tr>\n",
       "    <tr>\n",
       "      <th>299984</th>\n",
       "      <td>A563187</td>\n",
       "      <td>B</td>\n",
       "      <td>Adjust bad debt</td>\n",
       "      <td>1</td>\n",
       "      <td>8/12/2011 14:52</td>\n",
       "      <td>-11062.06</td>\n",
       "      <td>NaN</td>\n",
       "      <td>United Kingdom</td>\n",
       "    </tr>\n",
       "  </tbody>\n",
       "</table>\n",
       "</div>"
      ],
      "text/plain": [
       "       InvoiceNo StockCode      Description  Quantity      InvoiceDate  \\\n",
       "299983   A563186         B  Adjust bad debt         1  8/12/2011 14:51   \n",
       "299984   A563187         B  Adjust bad debt         1  8/12/2011 14:52   \n",
       "\n",
       "        UnitPrice  CustomerID         Country  \n",
       "299983  -11062.06         NaN  United Kingdom  \n",
       "299984  -11062.06         NaN  United Kingdom  "
      ]
     },
     "execution_count": 101,
     "metadata": {},
     "output_type": "execute_result"
    }
   ],
   "source": [
    "df[df['UnitPrice']<0]"
   ]
  },
  {
   "cell_type": "markdown",
   "id": "8e03f4b3",
   "metadata": {},
   "source": [
    "To ensure accurate calculation of customer behavior, 2515 transactions with **UnitPrice = 0** will be removed as they likely represent data entry errors or non-monetary transactions (like free samples)."
   ]
  },
  {
   "cell_type": "markdown",
   "id": "8240daf7",
   "metadata": {},
   "source": [
    "### **Quantity**\n",
    "Let's check the negative values"
   ]
  },
  {
   "cell_type": "code",
   "execution_count": 102,
   "id": "508f18d5",
   "metadata": {},
   "outputs": [
    {
     "data": {
      "text/html": [
       "<div>\n",
       "<style scoped>\n",
       "    .dataframe tbody tr th:only-of-type {\n",
       "        vertical-align: middle;\n",
       "    }\n",
       "\n",
       "    .dataframe tbody tr th {\n",
       "        vertical-align: top;\n",
       "    }\n",
       "\n",
       "    .dataframe thead th {\n",
       "        text-align: right;\n",
       "    }\n",
       "</style>\n",
       "<table border=\"1\" class=\"dataframe\">\n",
       "  <thead>\n",
       "    <tr style=\"text-align: right;\">\n",
       "      <th></th>\n",
       "      <th>InvoiceNo</th>\n",
       "      <th>StockCode</th>\n",
       "      <th>Description</th>\n",
       "      <th>Quantity</th>\n",
       "      <th>InvoiceDate</th>\n",
       "      <th>UnitPrice</th>\n",
       "      <th>CustomerID</th>\n",
       "      <th>Country</th>\n",
       "    </tr>\n",
       "  </thead>\n",
       "  <tbody>\n",
       "    <tr>\n",
       "      <th>141</th>\n",
       "      <td>C536379</td>\n",
       "      <td>D</td>\n",
       "      <td>Discount</td>\n",
       "      <td>-1</td>\n",
       "      <td>12/1/2010 9:41</td>\n",
       "      <td>27.50</td>\n",
       "      <td>14527.0</td>\n",
       "      <td>United Kingdom</td>\n",
       "    </tr>\n",
       "    <tr>\n",
       "      <th>154</th>\n",
       "      <td>C536383</td>\n",
       "      <td>35004C</td>\n",
       "      <td>SET OF 3 COLOURED  FLYING DUCKS</td>\n",
       "      <td>-1</td>\n",
       "      <td>12/1/2010 9:49</td>\n",
       "      <td>4.65</td>\n",
       "      <td>15311.0</td>\n",
       "      <td>United Kingdom</td>\n",
       "    </tr>\n",
       "    <tr>\n",
       "      <th>235</th>\n",
       "      <td>C536391</td>\n",
       "      <td>22556</td>\n",
       "      <td>PLASTERS IN TIN CIRCUS PARADE</td>\n",
       "      <td>-12</td>\n",
       "      <td>12/1/2010 10:24</td>\n",
       "      <td>1.65</td>\n",
       "      <td>17548.0</td>\n",
       "      <td>United Kingdom</td>\n",
       "    </tr>\n",
       "    <tr>\n",
       "      <th>236</th>\n",
       "      <td>C536391</td>\n",
       "      <td>21984</td>\n",
       "      <td>PACK OF 12 PINK PAISLEY TISSUES</td>\n",
       "      <td>-24</td>\n",
       "      <td>12/1/2010 10:24</td>\n",
       "      <td>0.29</td>\n",
       "      <td>17548.0</td>\n",
       "      <td>United Kingdom</td>\n",
       "    </tr>\n",
       "    <tr>\n",
       "      <th>237</th>\n",
       "      <td>C536391</td>\n",
       "      <td>21983</td>\n",
       "      <td>PACK OF 12 BLUE PAISLEY TISSUES</td>\n",
       "      <td>-24</td>\n",
       "      <td>12/1/2010 10:24</td>\n",
       "      <td>0.29</td>\n",
       "      <td>17548.0</td>\n",
       "      <td>United Kingdom</td>\n",
       "    </tr>\n",
       "    <tr>\n",
       "      <th>...</th>\n",
       "      <td>...</td>\n",
       "      <td>...</td>\n",
       "      <td>...</td>\n",
       "      <td>...</td>\n",
       "      <td>...</td>\n",
       "      <td>...</td>\n",
       "      <td>...</td>\n",
       "      <td>...</td>\n",
       "    </tr>\n",
       "    <tr>\n",
       "      <th>540449</th>\n",
       "      <td>C581490</td>\n",
       "      <td>23144</td>\n",
       "      <td>ZINC T-LIGHT HOLDER STARS SMALL</td>\n",
       "      <td>-11</td>\n",
       "      <td>12/9/2011 9:57</td>\n",
       "      <td>0.83</td>\n",
       "      <td>14397.0</td>\n",
       "      <td>United Kingdom</td>\n",
       "    </tr>\n",
       "    <tr>\n",
       "      <th>541541</th>\n",
       "      <td>C581499</td>\n",
       "      <td>M</td>\n",
       "      <td>Manual</td>\n",
       "      <td>-1</td>\n",
       "      <td>12/9/2011 10:28</td>\n",
       "      <td>224.69</td>\n",
       "      <td>15498.0</td>\n",
       "      <td>United Kingdom</td>\n",
       "    </tr>\n",
       "    <tr>\n",
       "      <th>541715</th>\n",
       "      <td>C581568</td>\n",
       "      <td>21258</td>\n",
       "      <td>VICTORIAN SEWING BOX LARGE</td>\n",
       "      <td>-5</td>\n",
       "      <td>12/9/2011 11:57</td>\n",
       "      <td>10.95</td>\n",
       "      <td>15311.0</td>\n",
       "      <td>United Kingdom</td>\n",
       "    </tr>\n",
       "    <tr>\n",
       "      <th>541716</th>\n",
       "      <td>C581569</td>\n",
       "      <td>84978</td>\n",
       "      <td>HANGING HEART JAR T-LIGHT HOLDER</td>\n",
       "      <td>-1</td>\n",
       "      <td>12/9/2011 11:58</td>\n",
       "      <td>1.25</td>\n",
       "      <td>17315.0</td>\n",
       "      <td>United Kingdom</td>\n",
       "    </tr>\n",
       "    <tr>\n",
       "      <th>541717</th>\n",
       "      <td>C581569</td>\n",
       "      <td>20979</td>\n",
       "      <td>36 PENCILS TUBE RED RETROSPOT</td>\n",
       "      <td>-5</td>\n",
       "      <td>12/9/2011 11:58</td>\n",
       "      <td>1.25</td>\n",
       "      <td>17315.0</td>\n",
       "      <td>United Kingdom</td>\n",
       "    </tr>\n",
       "  </tbody>\n",
       "</table>\n",
       "<p>10624 rows × 8 columns</p>\n",
       "</div>"
      ],
      "text/plain": [
       "       InvoiceNo StockCode                       Description  Quantity  \\\n",
       "141      C536379         D                          Discount        -1   \n",
       "154      C536383    35004C   SET OF 3 COLOURED  FLYING DUCKS        -1   \n",
       "235      C536391     22556    PLASTERS IN TIN CIRCUS PARADE        -12   \n",
       "236      C536391     21984  PACK OF 12 PINK PAISLEY TISSUES        -24   \n",
       "237      C536391     21983  PACK OF 12 BLUE PAISLEY TISSUES        -24   \n",
       "...          ...       ...                               ...       ...   \n",
       "540449   C581490     23144   ZINC T-LIGHT HOLDER STARS SMALL       -11   \n",
       "541541   C581499         M                            Manual        -1   \n",
       "541715   C581568     21258        VICTORIAN SEWING BOX LARGE        -5   \n",
       "541716   C581569     84978  HANGING HEART JAR T-LIGHT HOLDER        -1   \n",
       "541717   C581569     20979     36 PENCILS TUBE RED RETROSPOT        -5   \n",
       "\n",
       "            InvoiceDate  UnitPrice  CustomerID         Country  \n",
       "141      12/1/2010 9:41      27.50     14527.0  United Kingdom  \n",
       "154      12/1/2010 9:49       4.65     15311.0  United Kingdom  \n",
       "235     12/1/2010 10:24       1.65     17548.0  United Kingdom  \n",
       "236     12/1/2010 10:24       0.29     17548.0  United Kingdom  \n",
       "237     12/1/2010 10:24       0.29     17548.0  United Kingdom  \n",
       "...                 ...        ...         ...             ...  \n",
       "540449   12/9/2011 9:57       0.83     14397.0  United Kingdom  \n",
       "541541  12/9/2011 10:28     224.69     15498.0  United Kingdom  \n",
       "541715  12/9/2011 11:57      10.95     15311.0  United Kingdom  \n",
       "541716  12/9/2011 11:58       1.25     17315.0  United Kingdom  \n",
       "541717  12/9/2011 11:58       1.25     17315.0  United Kingdom  \n",
       "\n",
       "[10624 rows x 8 columns]"
      ]
     },
     "execution_count": 102,
     "metadata": {},
     "output_type": "execute_result"
    }
   ],
   "source": [
    "df[df['Quantity']<0]"
   ]
  },
  {
   "cell_type": "markdown",
   "id": "d00c96ac",
   "metadata": {},
   "source": [
    "As seen above, the negative values in the **Quantity** ariables correspond to **InvoiceNo** entries that all begin with the letter **'C'**, indicating that these are cancelled transactions. Those are to be removed in the data cleaning procedure."
   ]
  },
  {
   "cell_type": "code",
   "execution_count": 103,
   "id": "4c9f31bb",
   "metadata": {},
   "outputs": [
    {
     "data": {
      "text/plain": [
       "(541909, 8)"
      ]
     },
     "execution_count": 103,
     "metadata": {},
     "output_type": "execute_result"
    }
   ],
   "source": [
    "df.shape"
   ]
  },
  {
   "cell_type": "code",
   "execution_count": 104,
   "id": "21865dd4",
   "metadata": {},
   "outputs": [
    {
     "name": "stdout",
     "output_type": "stream",
     "text": [
      "<class 'pandas.core.frame.DataFrame'>\n",
      "RangeIndex: 541909 entries, 0 to 541908\n",
      "Data columns (total 8 columns):\n",
      " #   Column       Non-Null Count   Dtype  \n",
      "---  ------       --------------   -----  \n",
      " 0   InvoiceNo    541909 non-null  object \n",
      " 1   StockCode    541909 non-null  object \n",
      " 2   Description  540455 non-null  object \n",
      " 3   Quantity     541909 non-null  int64  \n",
      " 4   InvoiceDate  541909 non-null  object \n",
      " 5   UnitPrice    541909 non-null  float64\n",
      " 6   CustomerID   406829 non-null  float64\n",
      " 7   Country      541909 non-null  object \n",
      "dtypes: float64(2), int64(1), object(5)\n",
      "memory usage: 33.1+ MB\n"
     ]
    }
   ],
   "source": [
    "df.info()"
   ]
  },
  {
   "cell_type": "markdown",
   "id": "4c29c7f7",
   "metadata": {},
   "source": [
    "The **Description** contains 540,455 non-null entries, meaning about 1,454 missing product descriptions. As mentioned before, missing values are also present in the **CustomerID** variable. These will need to be addressed during data cleaning. \n",
    "\n",
    "The **InvoiceDate** is stored as an object/string not a real timestamp. This will prevent us from correctly comparing it using correct chronological order. It will be converted to datetimes."
   ]
  },
  {
   "cell_type": "markdown",
   "id": "9db184cf",
   "metadata": {},
   "source": [
    "### **\"Countries\"**"
   ]
  },
  {
   "cell_type": "code",
   "execution_count": 105,
   "id": "648e5610",
   "metadata": {},
   "outputs": [
    {
     "name": "stdout",
     "output_type": "stream",
     "text": [
      "all countries: ['United Kingdom' 'France' 'Australia' 'Netherlands' 'Germany' 'Norway'\n",
      " 'EIRE' 'Switzerland' 'Spain' 'Poland' 'Portugal' 'Italy' 'Belgium'\n",
      " 'Lithuania' 'Japan' 'Iceland' 'Channel Islands' 'Denmark' 'Cyprus'\n",
      " 'Sweden' 'Austria' 'Israel' 'Finland' 'Bahrain' 'Greece' 'Hong Kong'\n",
      " 'Singapore' 'Lebanon' 'United Arab Emirates' 'Saudi Arabia'\n",
      " 'Czech Republic' 'Canada' 'Unspecified' 'Brazil' 'USA'\n",
      " 'European Community' 'Malta' 'RSA']\n",
      "Number of countries: 38\n"
     ]
    },
    {
     "data": {
      "text/plain": [
       "Country\n",
       "United Kingdom          495478\n",
       "Germany                   9495\n",
       "France                    8557\n",
       "EIRE                      8196\n",
       "Spain                     2533\n",
       "Netherlands               2371\n",
       "Belgium                   2069\n",
       "Switzerland               2002\n",
       "Portugal                  1519\n",
       "Australia                 1259\n",
       "Norway                    1086\n",
       "Italy                      803\n",
       "Channel Islands            758\n",
       "Finland                    695\n",
       "Cyprus                     622\n",
       "Sweden                     462\n",
       "Unspecified                446\n",
       "Austria                    401\n",
       "Denmark                    389\n",
       "Japan                      358\n",
       "Poland                     341\n",
       "Israel                     297\n",
       "USA                        291\n",
       "Hong Kong                  288\n",
       "Singapore                  229\n",
       "Iceland                    182\n",
       "Canada                     151\n",
       "Greece                     146\n",
       "Malta                      127\n",
       "United Arab Emirates        68\n",
       "European Community          61\n",
       "RSA                         58\n",
       "Lebanon                     45\n",
       "Lithuania                   35\n",
       "Brazil                      32\n",
       "Czech Republic              30\n",
       "Bahrain                     19\n",
       "Saudi Arabia                10\n",
       "Name: count, dtype: int64"
      ]
     },
     "execution_count": 105,
     "metadata": {},
     "output_type": "execute_result"
    }
   ],
   "source": [
    "print('all countries:', df['Country'].unique()) #all countries\n",
    "print('Number of countries:', df['Country'].nunique()) #number of the countries\n",
    "df['Country'].value_counts() #in order"
   ]
  },
  {
   "cell_type": "markdown",
   "id": "8bdaca81",
   "metadata": {},
   "source": [
    "For the purpose of this analysis, the focus will be on the UK customer's only."
   ]
  },
  {
   "cell_type": "markdown",
   "id": "fa47167f",
   "metadata": {},
   "source": [
    "### Let's understand the business patterns in the dataset by answering the following questions:\n",
    "1. Which products are sold most frequently?\n",
    "2. Are there many small purchases or a few large ones?\n",
    "3. Are most customers one-time buyers or repeat buyers?"
   ]
  },
  {
   "cell_type": "markdown",
   "id": "ab3398ea",
   "metadata": {},
   "source": [
    "#### **1. Which products are sold more frequently?**"
   ]
  },
  {
   "cell_type": "code",
   "execution_count": 106,
   "id": "3c58264a",
   "metadata": {},
   "outputs": [
    {
     "data": {
      "text/plain": [
       "StockCode  Description                       \n",
       "84077      WORLD WAR 2 GLIDERS ASSTD DESIGNS     53847\n",
       "85099B     JUMBO BAG RED RETROSPOT               47363\n",
       "84879      ASSORTED COLOUR BIRD ORNAMENT         36381\n",
       "22197      POPCORN HOLDER                        36334\n",
       "21212      PACK OF 72 RETROSPOT CAKE CASES       36039\n",
       "85123A     WHITE HANGING HEART T-LIGHT HOLDER    35025\n",
       "23084      RABBIT NIGHT LIGHT                    30680\n",
       "22492      MINI PAINT SET VINTAGE                26437\n",
       "22616      PACK OF 12 LONDON TISSUES             26315\n",
       "21977      PACK OF 60 PINK PAISLEY CAKE CASES    24753\n",
       "Name: Quantity, dtype: int64"
      ]
     },
     "execution_count": 106,
     "metadata": {},
     "output_type": "execute_result"
    }
   ],
   "source": [
    "top_products= (df.groupby(['StockCode', 'Description'])['Quantity']\n",
    "               .sum()\n",
    "               .sort_values(ascending=False)\n",
    "               .head(10))\n",
    "top_products"
   ]
  },
  {
   "cell_type": "code",
   "execution_count": 107,
   "id": "a710b050",
   "metadata": {},
   "outputs": [
    {
     "name": "stdout",
     "output_type": "stream",
     "text": [
      "         StockCode  Description\n",
      "1            10080            2\n",
      "8            10133            2\n",
      "26          15058A            2\n",
      "28          15058C            2\n",
      "31           16008            2\n",
      "...            ...          ...\n",
      "3972        90195A            2\n",
      "4008        90210D            2\n",
      "4043      DCGS0003            2\n",
      "4050      DCGS0069            2\n",
      "4065  gift_0001_20            2\n",
      "\n",
      "[650 rows x 2 columns]\n"
     ]
    }
   ],
   "source": [
    "#Let's check if any StockCodes have inconsistent descriptions (more than one)\n",
    "inconsistent = (df.groupby('StockCode')['Description']\n",
    "                .nunique()\n",
    "                .reset_index()\n",
    "                .query('Description > 1')\n",
    "                )\n",
    "print(inconsistent)\n"
   ]
  },
  {
   "cell_type": "markdown",
   "id": "a7ea0721",
   "metadata": {},
   "source": [
    "There are about 650 unique **StockCodes** that have more than one distinct **Description**. The top_products ranking might not be accurate because if a StockCode has multiple names, you’ll see duplicates, more than one description.\n",
    "\n",
    "Let's check some of the discrepancies further:"
   ]
  },
  {
   "cell_type": "code",
   "execution_count": 108,
   "id": "72ecaf15",
   "metadata": {},
   "outputs": [
    {
     "data": {
      "text/plain": [
       "array(['GROOVY CACTUS INFLATABLE', nan, 'check'], dtype=object)"
      ]
     },
     "execution_count": 108,
     "metadata": {},
     "output_type": "execute_result"
    }
   ],
   "source": [
    "df[df['StockCode']=='10080']['Description'].unique()"
   ]
  },
  {
   "cell_type": "code",
   "execution_count": 109,
   "id": "2043e1a6",
   "metadata": {},
   "outputs": [
    {
     "data": {
      "text/plain": [
       "array(['COLOURING PENCILS BROWN TUBE', 'damaged'], dtype=object)"
      ]
     },
     "execution_count": 109,
     "metadata": {},
     "output_type": "execute_result"
    }
   ],
   "source": [
    "df[df['StockCode']=='10133']['Description'].unique()"
   ]
  },
  {
   "cell_type": "code",
   "execution_count": 110,
   "id": "b59de234",
   "metadata": {},
   "outputs": [
    {
     "data": {
      "text/plain": [
       "array(['SMALL FOLDING SCISSOR(POINTED EDGE)', 'check'], dtype=object)"
      ]
     },
     "execution_count": 110,
     "metadata": {},
     "output_type": "execute_result"
    }
   ],
   "source": [
    "df[df['StockCode']=='16008']['Description'].unique()"
   ]
  },
  {
   "cell_type": "code",
   "execution_count": 111,
   "id": "4b0bf677",
   "metadata": {},
   "outputs": [
    {
     "data": {
      "text/plain": [
       "array(['SMALL POPCORN HOLDER', 'POPCORN HOLDER'], dtype=object)"
      ]
     },
     "execution_count": 111,
     "metadata": {},
     "output_type": "execute_result"
    }
   ],
   "source": [
    "df[df['StockCode']=='22197']['Description'].unique()"
   ]
  },
  {
   "cell_type": "code",
   "execution_count": 112,
   "id": "89308035",
   "metadata": {},
   "outputs": [
    {
     "data": {
      "text/plain": [
       "array(['BLUE POLKADOT GARDEN PARASOL', nan, 'wet/rusty'], dtype=object)"
      ]
     },
     "execution_count": 112,
     "metadata": {},
     "output_type": "execute_result"
    }
   ],
   "source": [
    "df[df['StockCode']=='15058A']['Description'].unique()"
   ]
  },
  {
   "cell_type": "code",
   "execution_count": 113,
   "id": "fe80f2d2",
   "metadata": {},
   "outputs": [
    {
     "data": {
      "text/plain": [
       "array(['OOH LA LA DOGS COLLAR', 'ebay'], dtype=object)"
      ]
     },
     "execution_count": 113,
     "metadata": {},
     "output_type": "execute_result"
    }
   ],
   "source": [
    "df[df['StockCode']=='DCGS0069']['Description'].unique()"
   ]
  },
  {
   "cell_type": "markdown",
   "id": "c7aa8d70",
   "metadata": {},
   "source": [
    "Most are *not real product sales* but bookkeeping entries. These *anomalies* will be handled later. "
   ]
  },
  {
   "cell_type": "markdown",
   "id": "28459e4a",
   "metadata": {},
   "source": [
    "For a more accurate representation of products, let's group by **StockCode** only and add a **Decsription**"
   ]
  },
  {
   "cell_type": "code",
   "execution_count": 114,
   "id": "e7720cb3",
   "metadata": {},
   "outputs": [
    {
     "data": {
      "text/plain": [
       "StockCode\n",
       "22197     56450\n",
       "84077     53847\n",
       "85099B    47363\n",
       "85123A    38830\n",
       "84879     36221\n",
       "21212     36039\n",
       "23084     30646\n",
       "22492     26437\n",
       "22616     26315\n",
       "21977     24753\n",
       "Name: Quantity, dtype: int64"
      ]
     },
     "execution_count": 114,
     "metadata": {},
     "output_type": "execute_result"
    }
   ],
   "source": [
    "top_ten=(df.groupby('StockCode')['Quantity']\n",
    "         .sum()\n",
    "         .sort_values(ascending=False)\n",
    "         .head(10)\n",
    "         )\n",
    "top_ten"
   ]
  },
  {
   "cell_type": "code",
   "execution_count": 115,
   "id": "75c2d2e0",
   "metadata": {},
   "outputs": [
    {
     "name": "stdout",
     "output_type": "stream",
     "text": [
      "           Quantity                         Description\n",
      "StockCode                                              \n",
      "22197         56450                      POPCORN HOLDER\n",
      "84077         53847   WORLD WAR 2 GLIDERS ASSTD DESIGNS\n",
      "85099B        47363             JUMBO BAG RED RETROSPOT\n",
      "85123A        38830  WHITE HANGING HEART T-LIGHT HOLDER\n",
      "84879         36221       ASSORTED COLOUR BIRD ORNAMENT\n",
      "21212         36039     PACK OF 72 RETROSPOT CAKE CASES\n",
      "23084         30646                  RABBIT NIGHT LIGHT\n",
      "22492         26437             MINI PAINT SET VINTAGE \n",
      "22616         26315          PACK OF 12 LONDON TISSUES \n",
      "21977         24753  PACK OF 60 PINK PAISLEY CAKE CASES\n"
     ]
    }
   ],
   "source": [
    "# add most frequent description to top_ten\n",
    "\n",
    "def most_frequent_description(x):\n",
    "    counts = x.value_counts()\n",
    "    if len(counts) == 0:\n",
    "        return None \n",
    "    else:\n",
    "        return counts.index[0]\n",
    "\n",
    "desc_map = (\n",
    "    df.groupby('StockCode')['Description']\n",
    "      .apply(most_frequent_description)\n",
    ")\n",
    "top_ten = top_ten.to_frame().join(desc_map)\n",
    "print(top_ten)\n"
   ]
  },
  {
   "cell_type": "markdown",
   "id": "88cb8e45",
   "metadata": {},
   "source": [
    "#### **2. Are there many small purchases or a few large ones?**"
   ]
  },
  {
   "cell_type": "code",
   "execution_count": 116,
   "id": "bd7b5ae4",
   "metadata": {},
   "outputs": [
    {
     "data": {
      "text/plain": [
       "Text(0, 0.5, 'Number of invoices')"
      ]
     },
     "execution_count": 116,
     "metadata": {},
     "output_type": "execute_result"
    },
    {
     "data": {
      "image/png": "[encoded data removed]",
      "text/plain": [
       "<Figure size 640x480 with 1 Axes>"
      ]
     },
     "metadata": {},
     "output_type": "display_data"
    }
   ],
   "source": [
    "# Create a variable of total price\n",
    "df['TotalPrice']=df['Quantity'] * df['UnitPrice']\n",
    "\n",
    "#now groupby entire invoice (order) to understand the total spending per transaction \n",
    "ttl_invoice=df.groupby('InvoiceNo')['TotalPrice'].sum()\n",
    "\n",
    "ttl_invoice.hist(bins=10)\n",
    "plt.xlabel('Total amount spent per invoice (in currency)')\n",
    "plt.ylabel('Number of invoices')\n"
   ]
  },
  {
   "cell_type": "markdown",
   "id": "67b3f72d",
   "metadata": {},
   "source": [
    "As seen, the invoice-level total spending distribution is extremely skewed, with extreme values on both positives and negatives. This indicates that the dataset includes a large number of many small transactions (tall bars), a few very large purchases, and negative totals indicating product returns or cancellations."
   ]
  },
  {
   "cell_type": "code",
   "execution_count": 117,
   "id": "b5cc6abb",
   "metadata": {},
   "outputs": [
    {
     "data": {
      "text/plain": [
       "count     25900.000000\n",
       "mean        376.360924\n",
       "std        2013.261050\n",
       "min     -168469.600000\n",
       "25%          11.775000\n",
       "50%         207.535000\n",
       "75%         409.085000\n",
       "max      168469.600000\n",
       "Name: TotalPrice, dtype: float64"
      ]
     },
     "execution_count": 117,
     "metadata": {},
     "output_type": "execute_result"
    }
   ],
   "source": [
    "# numerical proof\n",
    "ttl_invoice.describe()"
   ]
  },
  {
   "cell_type": "markdown",
   "id": "4d7258cd",
   "metadata": {},
   "source": [
    "#### **3. Are most customers one-time buyers or repeat buyers?**"
   ]
  },
  {
   "cell_type": "code",
   "execution_count": 118,
   "id": "fa35674e",
   "metadata": {},
   "outputs": [
    {
     "data": {
      "text/plain": [
       "CustomerID\n",
       "12346.0     2\n",
       "12347.0     7\n",
       "12348.0     4\n",
       "12349.0     1\n",
       "12350.0     1\n",
       "           ..\n",
       "18280.0     1\n",
       "18281.0     1\n",
       "18282.0     3\n",
       "18283.0    16\n",
       "18287.0     3\n",
       "Name: InvoiceNo, Length: 4372, dtype: int64"
      ]
     },
     "execution_count": 118,
     "metadata": {},
     "output_type": "execute_result"
    }
   ],
   "source": [
    "#count how many unique invoices per customer\n",
    "customers_orders= df.groupby('CustomerID')['InvoiceNo'].nunique()\n",
    "customers_orders\n"
   ]
  },
  {
   "cell_type": "code",
   "execution_count": 119,
   "id": "51035e16",
   "metadata": {},
   "outputs": [
    {
     "data": {
      "image/png": "[encoded data removed]",
      "text/plain": [
       "<Figure size 1200x500 with 1 Axes>"
      ]
     },
     "metadata": {},
     "output_type": "display_data"
    }
   ],
   "source": [
    "customers_orders.value_counts().sort_index().plot(kind='bar', figsize=(12,5))\n",
    "plt.xlabel('number of purchases per customer')\n",
    "plt.ylabel('number of customers')\n",
    "plt.xticks(rotation=40)\n",
    "plt.show()"
   ]
  },
  {
   "cell_type": "markdown",
   "id": "18bc030e",
   "metadata": {},
   "source": [
    "As observed, most customers are one-time buyers, while a small number made multiple purchases. "
   ]
  },
  {
   "cell_type": "markdown",
   "id": "848ec0b3",
   "metadata": {},
   "source": [
    "## 2. Data Cleaning & Preparation\n",
    "Now let's clean and prepare the data, one variable at a time."
   ]
  },
  {
   "cell_type": "code",
   "execution_count": 120,
   "id": "a2c9ab2d",
   "metadata": {},
   "outputs": [
    {
     "data": {
      "text/plain": [
       "Index(['InvoiceNo', 'StockCode', 'Description', 'Quantity', 'InvoiceDate',\n",
       "       'UnitPrice', 'CustomerID', 'Country', 'TotalPrice'],\n",
       "      dtype='object')"
      ]
     },
     "execution_count": 120,
     "metadata": {},
     "output_type": "execute_result"
    }
   ],
   "source": [
    "df.columns"
   ]
  },
  {
   "cell_type": "markdown",
   "id": "f02058fe",
   "metadata": {},
   "source": [
    "### **1. Country**\n",
    "For the purpose of this project, we'll eliminate transactions from non-UK countries. Why? UK customers form the majority of the dataset, contributing 495,478 out of 540,000, which is approximately 91% of the data. Furthermore, keeping the other countries might form clusters just because of region not of true behavioral patterns. To ensure homogeneity in customer behavior, only UK will be kept."
   ]
  },
  {
   "cell_type": "code",
   "execution_count": 121,
   "id": "3b36f803",
   "metadata": {},
   "outputs": [],
   "source": [
    "df= df[df['Country']=='United Kingdom'].copy()"
   ]
  },
  {
   "cell_type": "code",
   "execution_count": 122,
   "id": "00e6e553",
   "metadata": {},
   "outputs": [
    {
     "data": {
      "text/plain": [
       "Country\n",
       "United Kingdom    495478\n",
       "Name: count, dtype: int64"
      ]
     },
     "execution_count": 122,
     "metadata": {},
     "output_type": "execute_result"
    }
   ],
   "source": [
    "df['Country'].value_counts() #confirm change"
   ]
  },
  {
   "cell_type": "markdown",
   "id": "d55ff8b6",
   "metadata": {},
   "source": [
    "### **2. InvoiceDate**\n",
    "Let's convert date from object(strings) to datetime"
   ]
  },
  {
   "cell_type": "code",
   "execution_count": 123,
   "id": "13634ba6",
   "metadata": {},
   "outputs": [],
   "source": [
    "df['InvoiceDate']=pd.to_datetime(df['InvoiceDate'])"
   ]
  },
  {
   "cell_type": "code",
   "execution_count": 124,
   "id": "120847c9",
   "metadata": {},
   "outputs": [],
   "source": [
    "#remove time\n",
    "df['InvoiceDate'] = df['InvoiceDate'].dt.date"
   ]
  },
  {
   "cell_type": "code",
   "execution_count": 125,
   "id": "5982c026",
   "metadata": {},
   "outputs": [],
   "source": [
    "df['InvoiceDate']=pd.to_datetime(df['InvoiceDate'])"
   ]
  },
  {
   "cell_type": "code",
   "execution_count": 126,
   "id": "fb3de6c6",
   "metadata": {},
   "outputs": [
    {
     "data": {
      "text/plain": [
       "0   2010-12-01\n",
       "1   2010-12-01\n",
       "2   2010-12-01\n",
       "3   2010-12-01\n",
       "4   2010-12-01\n",
       "Name: InvoiceDate, dtype: datetime64[ns]"
      ]
     },
     "execution_count": 126,
     "metadata": {},
     "output_type": "execute_result"
    }
   ],
   "source": [
    "df['InvoiceDate'].head() #confirm change\n"
   ]
  },
  {
   "cell_type": "markdown",
   "id": "940b50ee",
   "metadata": {},
   "source": [
    "### **3. CustomerID**\n",
    "Null CustomerID's will be dropped because we can't compute loyalty or recency without a customer identifier.\n"
   ]
  },
  {
   "cell_type": "code",
   "execution_count": 127,
   "id": "1a70fc5d",
   "metadata": {},
   "outputs": [
    {
     "data": {
      "text/plain": [
       "np.int64(133600)"
      ]
     },
     "execution_count": 127,
     "metadata": {},
     "output_type": "execute_result"
    }
   ],
   "source": [
    "df['CustomerID'].isnull().sum()"
   ]
  },
  {
   "cell_type": "code",
   "execution_count": 128,
   "id": "84c8baeb",
   "metadata": {},
   "outputs": [],
   "source": [
    "df.dropna(subset=['CustomerID'], axis=0, inplace=True)"
   ]
  },
  {
   "cell_type": "code",
   "execution_count": 129,
   "id": "4a7a09fd",
   "metadata": {},
   "outputs": [
    {
     "data": {
      "text/plain": [
       "np.int64(0)"
      ]
     },
     "execution_count": 129,
     "metadata": {},
     "output_type": "execute_result"
    }
   ],
   "source": [
    "df['CustomerID'].isnull().sum()"
   ]
  },
  {
   "cell_type": "markdown",
   "id": "cdf2aed5",
   "metadata": {},
   "source": [
    "### **4. Invoice No**\n",
    "The cancelled transactions will be removed. Simultaneously removing -ve values in **Quantity**."
   ]
  },
  {
   "cell_type": "code",
   "execution_count": 130,
   "id": "2a614c20",
   "metadata": {},
   "outputs": [
    {
     "data": {
      "text/plain": [
       "np.int64(7533)"
      ]
     },
     "execution_count": 130,
     "metadata": {},
     "output_type": "execute_result"
    }
   ],
   "source": [
    "df['InvoiceNo'].str.startswith('C').sum()"
   ]
  },
  {
   "cell_type": "code",
   "execution_count": 131,
   "id": "7c98c2b2",
   "metadata": {},
   "outputs": [],
   "source": [
    "df=df[~df['InvoiceNo'].str.startswith('C')]"
   ]
  },
  {
   "cell_type": "code",
   "execution_count": 132,
   "id": "0defd2b0",
   "metadata": {},
   "outputs": [
    {
     "data": {
      "text/plain": [
       "np.int64(0)"
      ]
     },
     "execution_count": 132,
     "metadata": {},
     "output_type": "execute_result"
    }
   ],
   "source": [
    "df['InvoiceNo'].str.startswith('C').sum()"
   ]
  },
  {
   "cell_type": "code",
   "execution_count": 133,
   "id": "6e4170a4",
   "metadata": {},
   "outputs": [
    {
     "data": {
      "text/html": [
       "<div>\n",
       "<style scoped>\n",
       "    .dataframe tbody tr th:only-of-type {\n",
       "        vertical-align: middle;\n",
       "    }\n",
       "\n",
       "    .dataframe tbody tr th {\n",
       "        vertical-align: top;\n",
       "    }\n",
       "\n",
       "    .dataframe thead th {\n",
       "        text-align: right;\n",
       "    }\n",
       "</style>\n",
       "<table border=\"1\" class=\"dataframe\">\n",
       "  <thead>\n",
       "    <tr style=\"text-align: right;\">\n",
       "      <th></th>\n",
       "      <th>InvoiceNo</th>\n",
       "      <th>StockCode</th>\n",
       "      <th>Description</th>\n",
       "      <th>Quantity</th>\n",
       "      <th>InvoiceDate</th>\n",
       "      <th>UnitPrice</th>\n",
       "      <th>CustomerID</th>\n",
       "      <th>Country</th>\n",
       "      <th>TotalPrice</th>\n",
       "    </tr>\n",
       "  </thead>\n",
       "  <tbody>\n",
       "  </tbody>\n",
       "</table>\n",
       "</div>"
      ],
      "text/plain": [
       "Empty DataFrame\n",
       "Columns: [InvoiceNo, StockCode, Description, Quantity, InvoiceDate, UnitPrice, CustomerID, Country, TotalPrice]\n",
       "Index: []"
      ]
     },
     "execution_count": 133,
     "metadata": {},
     "output_type": "execute_result"
    }
   ],
   "source": [
    "df[df['Quantity']<0] #let's confirm that -ve values in Quantity was also removed"
   ]
  },
  {
   "cell_type": "code",
   "execution_count": 134,
   "id": "a24fa78c",
   "metadata": {},
   "outputs": [
    {
     "data": {
      "text/html": [
       "<div>\n",
       "<style scoped>\n",
       "    .dataframe tbody tr th:only-of-type {\n",
       "        vertical-align: middle;\n",
       "    }\n",
       "\n",
       "    .dataframe tbody tr th {\n",
       "        vertical-align: top;\n",
       "    }\n",
       "\n",
       "    .dataframe thead th {\n",
       "        text-align: right;\n",
       "    }\n",
       "</style>\n",
       "<table border=\"1\" class=\"dataframe\">\n",
       "  <thead>\n",
       "    <tr style=\"text-align: right;\">\n",
       "      <th></th>\n",
       "      <th>InvoiceNo</th>\n",
       "      <th>StockCode</th>\n",
       "      <th>Description</th>\n",
       "      <th>Quantity</th>\n",
       "      <th>InvoiceDate</th>\n",
       "      <th>UnitPrice</th>\n",
       "      <th>CustomerID</th>\n",
       "      <th>Country</th>\n",
       "      <th>TotalPrice</th>\n",
       "    </tr>\n",
       "  </thead>\n",
       "  <tbody>\n",
       "  </tbody>\n",
       "</table>\n",
       "</div>"
      ],
      "text/plain": [
       "Empty DataFrame\n",
       "Columns: [InvoiceNo, StockCode, Description, Quantity, InvoiceDate, UnitPrice, CustomerID, Country, TotalPrice]\n",
       "Index: []"
      ]
     },
     "execution_count": 134,
     "metadata": {},
     "output_type": "execute_result"
    }
   ],
   "source": [
    "df[df['Quantity']==0] #or 0 Quantity"
   ]
  },
  {
   "cell_type": "markdown",
   "id": "771ee3f7",
   "metadata": {},
   "source": [
    "### **5. UnitPrice**\n",
    "Now the -ve & zero values in the **UnitPrice** will be dropped."
   ]
  },
  {
   "cell_type": "code",
   "execution_count": 135,
   "id": "c1a51edf",
   "metadata": {},
   "outputs": [
    {
     "data": {
      "text/plain": [
       "np.int64(0)"
      ]
     },
     "execution_count": 135,
     "metadata": {},
     "output_type": "execute_result"
    }
   ],
   "source": [
    "(df['UnitPrice']<0).sum()"
   ]
  },
  {
   "cell_type": "markdown",
   "id": "acd6367e",
   "metadata": {},
   "source": [
    "The **UnitPrice** in negatives were removed as we cleansed the data above."
   ]
  },
  {
   "cell_type": "code",
   "execution_count": 136,
   "id": "dc60638e",
   "metadata": {},
   "outputs": [
    {
     "data": {
      "text/plain": [
       "np.int64(24)"
      ]
     },
     "execution_count": 136,
     "metadata": {},
     "output_type": "execute_result"
    }
   ],
   "source": [
    "(df['UnitPrice']==0).sum()"
   ]
  },
  {
   "cell_type": "code",
   "execution_count": 137,
   "id": "5e766b78",
   "metadata": {},
   "outputs": [],
   "source": [
    "df=df[df['UnitPrice']>0]"
   ]
  },
  {
   "cell_type": "code",
   "execution_count": 138,
   "id": "f6055f79",
   "metadata": {},
   "outputs": [
    {
     "data": {
      "text/plain": [
       "np.int64(0)"
      ]
     },
     "execution_count": 138,
     "metadata": {},
     "output_type": "execute_result"
    }
   ],
   "source": [
    "(df['UnitPrice']<=0).sum() # to confirm changes"
   ]
  },
  {
   "cell_type": "markdown",
   "id": "132f0bfa",
   "metadata": {},
   "source": [
    "### **6.Description**\n",
    "The **Description** column will be dropped as it's not relevant for the behavioral analysis which is on a customer-level, not product-level. This column focuses on individual columns, whereas the RFM segmentation focuses on customer purchase level. But for future possible usages, a copy of the dataset will be kept with the **Description** to enable future product-level analysis, or in other words marketing/product exploration (word cloud visualization for example). "
   ]
  },
  {
   "cell_type": "code",
   "execution_count": 139,
   "id": "eea05f55",
   "metadata": {},
   "outputs": [],
   "source": [
    "df_products=df.copy() #Full backup for product analysis(with Description)"
   ]
  },
  {
   "cell_type": "markdown",
   "id": "331debe5",
   "metadata": {},
   "source": [
    "For customer segmentation, a simplified dataset will be created by removing the **Description**, focusing only on customer behavior metrics."
   ]
  },
  {
   "cell_type": "code",
   "execution_count": 140,
   "id": "63ac4f4a",
   "metadata": {},
   "outputs": [],
   "source": [
    "#RFM dataset (explanation later as to why this model was chosen)\n",
    "df_rfm=df.drop(columns=['Description']).copy()"
   ]
  },
  {
   "cell_type": "code",
   "execution_count": 141,
   "id": "53650ab6",
   "metadata": {},
   "outputs": [
    {
     "name": "stdout",
     "output_type": "stream",
     "text": [
      "Original Cleaned dataset columns: ['InvoiceNo', 'StockCode', 'Description', 'Quantity', 'InvoiceDate', 'UnitPrice', 'CustomerID', 'Country', 'TotalPrice']\n",
      "Products dataset columns: ['InvoiceNo', 'StockCode', 'Description', 'Quantity', 'InvoiceDate', 'UnitPrice', 'CustomerID', 'Country', 'TotalPrice']\n",
      "RFM dataset columns: ['InvoiceNo', 'StockCode', 'Quantity', 'InvoiceDate', 'UnitPrice', 'CustomerID', 'Country', 'TotalPrice']\n"
     ]
    }
   ],
   "source": [
    "#For Confirmation\n",
    "print(\"Original Cleaned dataset columns:\", df.columns.tolist())\n",
    "print(\"Products dataset columns:\", df_products.columns.tolist())\n",
    "print(\"RFM dataset columns:\", df_rfm.columns.tolist())"
   ]
  },
  {
   "cell_type": "markdown",
   "id": "1b53709c",
   "metadata": {},
   "source": [
    "### **Last Checkup**\n",
    "Let's check one last time the columns are correctly formatted"
   ]
  },
  {
   "cell_type": "code",
   "execution_count": 142,
   "id": "50e399bd",
   "metadata": {},
   "outputs": [
    {
     "name": "stdout",
     "output_type": "stream",
     "text": [
      "<class 'pandas.core.frame.DataFrame'>\n",
      "Index: 354321 entries, 0 to 541893\n",
      "Data columns (total 9 columns):\n",
      " #   Column       Non-Null Count   Dtype         \n",
      "---  ------       --------------   -----         \n",
      " 0   InvoiceNo    354321 non-null  object        \n",
      " 1   StockCode    354321 non-null  object        \n",
      " 2   Description  354321 non-null  object        \n",
      " 3   Quantity     354321 non-null  int64         \n",
      " 4   InvoiceDate  354321 non-null  datetime64[ns]\n",
      " 5   UnitPrice    354321 non-null  float64       \n",
      " 6   CustomerID   354321 non-null  float64       \n",
      " 7   Country      354321 non-null  object        \n",
      " 8   TotalPrice   354321 non-null  float64       \n",
      "dtypes: datetime64[ns](1), float64(3), int64(1), object(4)\n",
      "memory usage: 27.0+ MB\n"
     ]
    }
   ],
   "source": [
    "df.info()\n"
   ]
  },
  {
   "cell_type": "markdown",
   "id": "161d6d72",
   "metadata": {},
   "source": [
    "perfect."
   ]
  },
  {
   "cell_type": "code",
   "execution_count": 143,
   "id": "366cf5a6",
   "metadata": {},
   "outputs": [
    {
     "data": {
      "text/html": [
       "<div>\n",
       "<style scoped>\n",
       "    .dataframe tbody tr th:only-of-type {\n",
       "        vertical-align: middle;\n",
       "    }\n",
       "\n",
       "    .dataframe tbody tr th {\n",
       "        vertical-align: top;\n",
       "    }\n",
       "\n",
       "    .dataframe thead th {\n",
       "        text-align: right;\n",
       "    }\n",
       "</style>\n",
       "<table border=\"1\" class=\"dataframe\">\n",
       "  <thead>\n",
       "    <tr style=\"text-align: right;\">\n",
       "      <th></th>\n",
       "      <th>InvoiceNo</th>\n",
       "      <th>StockCode</th>\n",
       "      <th>Quantity</th>\n",
       "      <th>InvoiceDate</th>\n",
       "      <th>UnitPrice</th>\n",
       "      <th>CustomerID</th>\n",
       "      <th>Country</th>\n",
       "      <th>TotalPrice</th>\n",
       "    </tr>\n",
       "  </thead>\n",
       "  <tbody>\n",
       "    <tr>\n",
       "      <th>449359</th>\n",
       "      <td>575117</td>\n",
       "      <td>22522</td>\n",
       "      <td>1</td>\n",
       "      <td>2011-11-08</td>\n",
       "      <td>0.85</td>\n",
       "      <td>12748.0</td>\n",
       "      <td>United Kingdom</td>\n",
       "      <td>0.85</td>\n",
       "    </tr>\n",
       "    <tr>\n",
       "      <th>290425</th>\n",
       "      <td>562377</td>\n",
       "      <td>84997B</td>\n",
       "      <td>1</td>\n",
       "      <td>2011-08-04</td>\n",
       "      <td>4.15</td>\n",
       "      <td>14535.0</td>\n",
       "      <td>United Kingdom</td>\n",
       "      <td>4.15</td>\n",
       "    </tr>\n",
       "    <tr>\n",
       "      <th>454164</th>\n",
       "      <td>575512</td>\n",
       "      <td>23570</td>\n",
       "      <td>12</td>\n",
       "      <td>2011-11-10</td>\n",
       "      <td>1.25</td>\n",
       "      <td>14121.0</td>\n",
       "      <td>United Kingdom</td>\n",
       "      <td>15.00</td>\n",
       "    </tr>\n",
       "    <tr>\n",
       "      <th>151095</th>\n",
       "      <td>549542</td>\n",
       "      <td>37446</td>\n",
       "      <td>32</td>\n",
       "      <td>2011-04-10</td>\n",
       "      <td>1.25</td>\n",
       "      <td>15311.0</td>\n",
       "      <td>United Kingdom</td>\n",
       "      <td>40.00</td>\n",
       "    </tr>\n",
       "    <tr>\n",
       "      <th>147535</th>\n",
       "      <td>549120</td>\n",
       "      <td>20725</td>\n",
       "      <td>4</td>\n",
       "      <td>2011-04-06</td>\n",
       "      <td>1.65</td>\n",
       "      <td>14587.0</td>\n",
       "      <td>United Kingdom</td>\n",
       "      <td>6.60</td>\n",
       "    </tr>\n",
       "  </tbody>\n",
       "</table>\n",
       "</div>"
      ],
      "text/plain": [
       "       InvoiceNo StockCode  Quantity InvoiceDate  UnitPrice  CustomerID  \\\n",
       "449359    575117     22522         1  2011-11-08       0.85     12748.0   \n",
       "290425    562377    84997B         1  2011-08-04       4.15     14535.0   \n",
       "454164    575512     23570        12  2011-11-10       1.25     14121.0   \n",
       "151095    549542     37446        32  2011-04-10       1.25     15311.0   \n",
       "147535    549120     20725         4  2011-04-06       1.65     14587.0   \n",
       "\n",
       "               Country  TotalPrice  \n",
       "449359  United Kingdom        0.85  \n",
       "290425  United Kingdom        4.15  \n",
       "454164  United Kingdom       15.00  \n",
       "151095  United Kingdom       40.00  \n",
       "147535  United Kingdom        6.60  "
      ]
     },
     "execution_count": 143,
     "metadata": {},
     "output_type": "execute_result"
    }
   ],
   "source": [
    "df_rfm.sample(5)"
   ]
  },
  {
   "cell_type": "markdown",
   "id": "5a41476e",
   "metadata": {},
   "source": [
    "## 3. RFM Feature Engineering\n",
    "Because we have the purchase date (**InvoiceDate**), number of purchases per customer(**InvoiceNo**), and total spending amount per transaction(**TotalPrice**), we can analyze the customer purchase behavior over time, thus the RFM (Recency, Frequency, Monetary) model will be conducted.\n",
    "The dataset should be reshaped into a form where each row represents one customer. And the following three columns will be changed to derive the RFM features:\n",
    "+ InvoiceDate = used to calculate **Recency** (how recent their last purchase was). (datetime)\n",
    "+ InvoiceNo = used to calculate **Frequency** (how many unique invoices per customer). (string or numeric)\n",
    "+ TotalPrice = used to calculate **Monetary** (total spending). (numeric or positive)\n",
    "\n",
    "This will allow the clustering model to find patterns."
   ]
  },
  {
   "cell_type": "markdown",
   "id": "00ce0d45",
   "metadata": {},
   "source": [
    "### **Recency**\n",
    "How recently they made a purchase? Let's define what recent is: it's the days between the customer's last purchase date and X."
   ]
  },
  {
   "cell_type": "code",
   "execution_count": 144,
   "id": "55e82feb",
   "metadata": {},
   "outputs": [
    {
     "data": {
      "text/plain": [
       "Timestamp('2010-12-01 00:00:00')"
      ]
     },
     "execution_count": 144,
     "metadata": {},
     "output_type": "execute_result"
    }
   ],
   "source": [
    "df_rfm['InvoiceDate'].min() #latest time"
   ]
  },
  {
   "cell_type": "code",
   "execution_count": 145,
   "id": "1a1da2d7",
   "metadata": {},
   "outputs": [
    {
     "data": {
      "text/plain": [
       "Timestamp('2011-12-09 00:00:00')"
      ]
     },
     "execution_count": 145,
     "metadata": {},
     "output_type": "execute_result"
    }
   ],
   "source": [
    "df_rfm['InvoiceDate'].max() #most recent"
   ]
  },
  {
   "cell_type": "markdown",
   "id": "7bf7f3f3",
   "metadata": {},
   "source": [
    "Recency will be measured by how many days since the customer's *most recent purchase* in relation to the latest date in the dataset + a day, which will be 2011-12-10. A day was added so the most recent customer who purchased on 2011-12-09 would not have 0 days, so their recency becomes 1 day."
   ]
  },
  {
   "cell_type": "code",
   "execution_count": 146,
   "id": "afd985dd",
   "metadata": {},
   "outputs": [
    {
     "data": {
      "text/plain": [
       "Timestamp('2011-12-10 00:00:00')"
      ]
     },
     "execution_count": 146,
     "metadata": {},
     "output_type": "execute_result"
    }
   ],
   "source": [
    "today_date = df_rfm['InvoiceDate'].max() + pd.Timedelta(days=1) #add one day\n",
    "today_date"
   ]
  },
  {
   "cell_type": "markdown",
   "id": "11df9a1b",
   "metadata": {},
   "source": [
    "### **CustomerID**\n",
    "aggregate to get the three columns RFM & rename columns"
   ]
  },
  {
   "cell_type": "code",
   "execution_count": 147,
   "id": "3af54d1e",
   "metadata": {},
   "outputs": [
    {
     "data": {
      "text/html": [
       "<div>\n",
       "<style scoped>\n",
       "    .dataframe tbody tr th:only-of-type {\n",
       "        vertical-align: middle;\n",
       "    }\n",
       "\n",
       "    .dataframe tbody tr th {\n",
       "        vertical-align: top;\n",
       "    }\n",
       "\n",
       "    .dataframe thead th {\n",
       "        text-align: right;\n",
       "    }\n",
       "</style>\n",
       "<table border=\"1\" class=\"dataframe\">\n",
       "  <thead>\n",
       "    <tr style=\"text-align: right;\">\n",
       "      <th></th>\n",
       "      <th>CustomerID</th>\n",
       "      <th>InvoiceDate</th>\n",
       "      <th>InvoiceNo</th>\n",
       "      <th>TotalPrice</th>\n",
       "    </tr>\n",
       "  </thead>\n",
       "  <tbody>\n",
       "    <tr>\n",
       "      <th>0</th>\n",
       "      <td>12346.0</td>\n",
       "      <td>326</td>\n",
       "      <td>1</td>\n",
       "      <td>77183.60</td>\n",
       "    </tr>\n",
       "    <tr>\n",
       "      <th>1</th>\n",
       "      <td>12747.0</td>\n",
       "      <td>3</td>\n",
       "      <td>11</td>\n",
       "      <td>4196.01</td>\n",
       "    </tr>\n",
       "    <tr>\n",
       "      <th>2</th>\n",
       "      <td>12748.0</td>\n",
       "      <td>1</td>\n",
       "      <td>209</td>\n",
       "      <td>33719.73</td>\n",
       "    </tr>\n",
       "    <tr>\n",
       "      <th>3</th>\n",
       "      <td>12749.0</td>\n",
       "      <td>4</td>\n",
       "      <td>5</td>\n",
       "      <td>4090.88</td>\n",
       "    </tr>\n",
       "    <tr>\n",
       "      <th>4</th>\n",
       "      <td>12820.0</td>\n",
       "      <td>4</td>\n",
       "      <td>4</td>\n",
       "      <td>942.34</td>\n",
       "    </tr>\n",
       "    <tr>\n",
       "      <th>...</th>\n",
       "      <td>...</td>\n",
       "      <td>...</td>\n",
       "      <td>...</td>\n",
       "      <td>...</td>\n",
       "    </tr>\n",
       "    <tr>\n",
       "      <th>3915</th>\n",
       "      <td>18280.0</td>\n",
       "      <td>278</td>\n",
       "      <td>1</td>\n",
       "      <td>180.60</td>\n",
       "    </tr>\n",
       "    <tr>\n",
       "      <th>3916</th>\n",
       "      <td>18281.0</td>\n",
       "      <td>181</td>\n",
       "      <td>1</td>\n",
       "      <td>80.82</td>\n",
       "    </tr>\n",
       "    <tr>\n",
       "      <th>3917</th>\n",
       "      <td>18282.0</td>\n",
       "      <td>8</td>\n",
       "      <td>2</td>\n",
       "      <td>178.05</td>\n",
       "    </tr>\n",
       "    <tr>\n",
       "      <th>3918</th>\n",
       "      <td>18283.0</td>\n",
       "      <td>4</td>\n",
       "      <td>16</td>\n",
       "      <td>2094.88</td>\n",
       "    </tr>\n",
       "    <tr>\n",
       "      <th>3919</th>\n",
       "      <td>18287.0</td>\n",
       "      <td>43</td>\n",
       "      <td>3</td>\n",
       "      <td>1837.28</td>\n",
       "    </tr>\n",
       "  </tbody>\n",
       "</table>\n",
       "<p>3920 rows × 4 columns</p>\n",
       "</div>"
      ],
      "text/plain": [
       "      CustomerID  InvoiceDate  InvoiceNo  TotalPrice\n",
       "0        12346.0          326          1    77183.60\n",
       "1        12747.0            3         11     4196.01\n",
       "2        12748.0            1        209    33719.73\n",
       "3        12749.0            4          5     4090.88\n",
       "4        12820.0            4          4      942.34\n",
       "...          ...          ...        ...         ...\n",
       "3915     18280.0          278          1      180.60\n",
       "3916     18281.0          181          1       80.82\n",
       "3917     18282.0            8          2      178.05\n",
       "3918     18283.0            4         16     2094.88\n",
       "3919     18287.0           43          3     1837.28\n",
       "\n",
       "[3920 rows x 4 columns]"
      ]
     },
     "execution_count": 147,
     "metadata": {},
     "output_type": "execute_result"
    }
   ],
   "source": [
    "rfm=df_rfm.groupby('CustomerID').agg({\n",
    "    'InvoiceDate': lambda x: (today_date - x.max()).days, #Recency in days\n",
    "    'InvoiceNo' : 'nunique',   #frewuency\n",
    "    'TotalPrice' : 'sum' #Monetary\n",
    "}).reset_index()\n",
    "\n",
    "rfm"
   ]
  },
  {
   "cell_type": "code",
   "execution_count": 148,
   "id": "0dec98b8",
   "metadata": {},
   "outputs": [
    {
     "data": {
      "text/html": [
       "<div>\n",
       "<style scoped>\n",
       "    .dataframe tbody tr th:only-of-type {\n",
       "        vertical-align: middle;\n",
       "    }\n",
       "\n",
       "    .dataframe tbody tr th {\n",
       "        vertical-align: top;\n",
       "    }\n",
       "\n",
       "    .dataframe thead th {\n",
       "        text-align: right;\n",
       "    }\n",
       "</style>\n",
       "<table border=\"1\" class=\"dataframe\">\n",
       "  <thead>\n",
       "    <tr style=\"text-align: right;\">\n",
       "      <th></th>\n",
       "      <th>CustomerID</th>\n",
       "      <th>Recency</th>\n",
       "      <th>Frequency</th>\n",
       "      <th>Monetary</th>\n",
       "    </tr>\n",
       "  </thead>\n",
       "  <tbody>\n",
       "    <tr>\n",
       "      <th>0</th>\n",
       "      <td>12346.0</td>\n",
       "      <td>326</td>\n",
       "      <td>1</td>\n",
       "      <td>77183.60</td>\n",
       "    </tr>\n",
       "    <tr>\n",
       "      <th>1</th>\n",
       "      <td>12747.0</td>\n",
       "      <td>3</td>\n",
       "      <td>11</td>\n",
       "      <td>4196.01</td>\n",
       "    </tr>\n",
       "    <tr>\n",
       "      <th>2</th>\n",
       "      <td>12748.0</td>\n",
       "      <td>1</td>\n",
       "      <td>209</td>\n",
       "      <td>33719.73</td>\n",
       "    </tr>\n",
       "    <tr>\n",
       "      <th>3</th>\n",
       "      <td>12749.0</td>\n",
       "      <td>4</td>\n",
       "      <td>5</td>\n",
       "      <td>4090.88</td>\n",
       "    </tr>\n",
       "    <tr>\n",
       "      <th>4</th>\n",
       "      <td>12820.0</td>\n",
       "      <td>4</td>\n",
       "      <td>4</td>\n",
       "      <td>942.34</td>\n",
       "    </tr>\n",
       "    <tr>\n",
       "      <th>...</th>\n",
       "      <td>...</td>\n",
       "      <td>...</td>\n",
       "      <td>...</td>\n",
       "      <td>...</td>\n",
       "    </tr>\n",
       "    <tr>\n",
       "      <th>3915</th>\n",
       "      <td>18280.0</td>\n",
       "      <td>278</td>\n",
       "      <td>1</td>\n",
       "      <td>180.60</td>\n",
       "    </tr>\n",
       "    <tr>\n",
       "      <th>3916</th>\n",
       "      <td>18281.0</td>\n",
       "      <td>181</td>\n",
       "      <td>1</td>\n",
       "      <td>80.82</td>\n",
       "    </tr>\n",
       "    <tr>\n",
       "      <th>3917</th>\n",
       "      <td>18282.0</td>\n",
       "      <td>8</td>\n",
       "      <td>2</td>\n",
       "      <td>178.05</td>\n",
       "    </tr>\n",
       "    <tr>\n",
       "      <th>3918</th>\n",
       "      <td>18283.0</td>\n",
       "      <td>4</td>\n",
       "      <td>16</td>\n",
       "      <td>2094.88</td>\n",
       "    </tr>\n",
       "    <tr>\n",
       "      <th>3919</th>\n",
       "      <td>18287.0</td>\n",
       "      <td>43</td>\n",
       "      <td>3</td>\n",
       "      <td>1837.28</td>\n",
       "    </tr>\n",
       "  </tbody>\n",
       "</table>\n",
       "<p>3920 rows × 4 columns</p>\n",
       "</div>"
      ],
      "text/plain": [
       "      CustomerID  Recency  Frequency  Monetary\n",
       "0        12346.0      326          1  77183.60\n",
       "1        12747.0        3         11   4196.01\n",
       "2        12748.0        1        209  33719.73\n",
       "3        12749.0        4          5   4090.88\n",
       "4        12820.0        4          4    942.34\n",
       "...          ...      ...        ...       ...\n",
       "3915     18280.0      278          1    180.60\n",
       "3916     18281.0      181          1     80.82\n",
       "3917     18282.0        8          2    178.05\n",
       "3918     18283.0        4         16   2094.88\n",
       "3919     18287.0       43          3   1837.28\n",
       "\n",
       "[3920 rows x 4 columns]"
      ]
     },
     "execution_count": 148,
     "metadata": {},
     "output_type": "execute_result"
    }
   ],
   "source": [
    "rfm.rename(columns={'InvoiceDate':'Recency',\n",
    "                    'InvoiceNo' : 'Frequency',\n",
    "                    'TotalPrice':'Monetary'}, inplace=True)\n",
    "rfm"
   ]
  },
  {
   "cell_type": "code",
   "execution_count": 149,
   "id": "29442566",
   "metadata": {},
   "outputs": [
    {
     "name": "stdout",
     "output_type": "stream",
     "text": [
      "<class 'pandas.core.frame.DataFrame'>\n",
      "RangeIndex: 3920 entries, 0 to 3919\n",
      "Data columns (total 4 columns):\n",
      " #   Column      Non-Null Count  Dtype  \n",
      "---  ------      --------------  -----  \n",
      " 0   CustomerID  3920 non-null   float64\n",
      " 1   Recency     3920 non-null   int64  \n",
      " 2   Frequency   3920 non-null   int64  \n",
      " 3   Monetary    3920 non-null   float64\n",
      "dtypes: float64(2), int64(2)\n",
      "memory usage: 122.6 KB\n",
      "None\n"
     ]
    }
   ],
   "source": [
    "print(rfm.info())"
   ]
  },
  {
   "cell_type": "code",
   "execution_count": 150,
   "id": "357b635b",
   "metadata": {},
   "outputs": [],
   "source": [
    "# CustomerID to integer\n",
    "rfm['CustomerID'] = rfm['CustomerID'].astype(int)"
   ]
  },
  {
   "cell_type": "code",
   "execution_count": 151,
   "id": "5e4e40ed",
   "metadata": {},
   "outputs": [
    {
     "name": "stdout",
     "output_type": "stream",
     "text": [
      "<class 'pandas.core.frame.DataFrame'>\n",
      "RangeIndex: 3920 entries, 0 to 3919\n",
      "Data columns (total 4 columns):\n",
      " #   Column      Non-Null Count  Dtype  \n",
      "---  ------      --------------  -----  \n",
      " 0   CustomerID  3920 non-null   int64  \n",
      " 1   Recency     3920 non-null   int64  \n",
      " 2   Frequency   3920 non-null   int64  \n",
      " 3   Monetary    3920 non-null   float64\n",
      "dtypes: float64(1), int64(3)\n",
      "memory usage: 122.6 KB\n",
      "None\n",
      "         CustomerID      Recency    Frequency       Monetary\n",
      "count   3920.000000  3920.000000  3920.000000    3920.000000\n",
      "mean   15562.059694    92.742092     4.246429    1864.385601\n",
      "std     1576.594671    99.533485     7.199202    7482.817477\n",
      "min    12346.000000     1.000000     1.000000       3.750000\n",
      "25%    14208.750000    18.000000     1.000000     300.280000\n",
      "50%    15569.500000    51.000000     2.000000     652.280000\n",
      "75%    16913.250000   143.000000     5.000000    1576.585000\n",
      "max    18287.000000   374.000000   209.000000  259657.300000\n"
     ]
    }
   ],
   "source": [
    "print(rfm.info())\n",
    "print(rfm.describe())"
   ]
  },
  {
   "cell_type": "markdown",
   "id": "6d0fd871",
   "metadata": {},
   "source": [
    "To summarize, customer-level features have been engineered using the RFM model. Recency was computed as the number of days since the customer's recent purchase, Frequency as the count of the unique Invoices (transactions), and Monetary as the total spending amount per customer. This transformation reduced the dataset from about 354000 transactional records to 3920 customer profile. The dataset is now ready for segmentation analysis."
   ]
  },
  {
   "cell_type": "markdown",
   "id": "e5485bbd",
   "metadata": {},
   "source": [
    "### Analyzing distribution by quick Visualization\n"
   ]
  },
  {
   "cell_type": "code",
   "execution_count": 152,
   "id": "08c2621e",
   "metadata": {},
   "outputs": [
    {
     "data": {
      "image/png": "[encoded data removed]",
      "text/plain": [
       "<Figure size 1500x400 with 3 Axes>"
      ]
     },
     "metadata": {},
     "output_type": "display_data"
    }
   ],
   "source": [
    "#hist\n",
    "\n",
    "fig, axs=plt.subplots(1, 3, figsize=(15,4))\n",
    "axs[0].hist(rfm['Recency'], bins=20, color='pink')\n",
    "axs[0].set_title('Recency Distribution')\n",
    "\n",
    "axs[1].hist(rfm['Frequency'], bins=20, color='skyblue')\n",
    "axs[1].set_title('Frequency Distribution')\n",
    "\n",
    "axs[2].hist(rfm['Monetary'], bins=20, color='yellow')\n",
    "axs[2].set_title('Monetary Distribution')\n",
    "\n",
    "plt.tight_layout()\n",
    "plt.show()"
   ]
  },
  {
   "cell_type": "markdown",
   "id": "8ae4685a",
   "metadata": {},
   "source": [
    "**Recency**: Most customers made a purchase recently and less haven't made a purchase in a long time.\n",
    "\n",
    "**Frequency**: The majority of customers made a purchase once or thrice, while a few bought hundreds of times. (extremely right-skewed)\n",
    "\n",
    "**Monetary**: Majority aren't big spenders, while a few are. (extremely right-skewed)\n",
    "\n",
    "Because of the heavily skewed distribution, we will log transform the **Monetary** and **Frequency** then Standardize them all before employing K-Means(clustering)."
   ]
  },
  {
   "cell_type": "markdown",
   "id": "afa70d9c",
   "metadata": {},
   "source": [
    "## 4. Data Preprocessing for Clustering\n",
    "Let's prepare data for the algorthims. The skewness will be handled by using Log transformation and scale features using Standardization"
   ]
  },
  {
   "cell_type": "code",
   "execution_count": 153,
   "id": "97bdc9a2",
   "metadata": {},
   "outputs": [],
   "source": [
    "rfm_log=rfm.copy()\n",
    "\n",
    "rfm_log['Frequency']=np.log1p(rfm_log['Frequency'])\n",
    "rfm_log['Monetary']=np.log1p(rfm_log['Monetary'])"
   ]
  },
  {
   "cell_type": "code",
   "execution_count": 154,
   "id": "2a85fba0",
   "metadata": {},
   "outputs": [],
   "source": [
    "from sklearn.preprocessing import StandardScaler\n",
    "scaler=StandardScaler()\n",
    "rfm_scaled=scaler.fit_transform(rfm_log[['Recency','Frequency','Monetary']])\n",
    "\n",
    "#from numpy array back to dataframe\n",
    "rfm_scaled=pd.DataFrame(rfm_scaled, columns=['Recency','Frequency','Monetary'])"
   ]
  },
  {
   "cell_type": "code",
   "execution_count": 155,
   "id": "851dccfb",
   "metadata": {},
   "outputs": [
    {
     "data": {
      "image/png": "[encoded data removed]",
      "text/plain": [
       "<Figure size 1200x400 with 4 Axes>"
      ]
     },
     "metadata": {},
     "output_type": "display_data"
    }
   ],
   "source": [
    "rfm_scaled.hist(bins=20, figsize=(12,4)) #to confirm balanced distribution\n",
    "plt.show()"
   ]
  },
  {
   "cell_type": "markdown",
   "id": "2109d8f6",
   "metadata": {},
   "source": [
    "After log transformation and standardization, all three RFM features are centered around zero and the spread is balanced. Although the Frequency and Recency are still slightly skewed but clustering can handle it."
   ]
  },
  {
   "cell_type": "markdown",
   "id": "e01aeb1c",
   "metadata": {},
   "source": [
    "## 5. K-Means Clustering\n",
    "K-means clustering will be used for the customer segmentation due to its suitability for numerical, continous variables such as Recency, Frequency, Monetary.\n",
    "\n",
    "steps:\n",
    "1. Selecting Optimal Number of Clusters (k)\n",
    "2. Applying K-Means Model\n",
    "3. Cluster Analysis & Interpretation"
   ]
  },
  {
   "cell_type": "markdown",
   "id": "cb4bc6f3",
   "metadata": {},
   "source": [
    "### **1. Selecting Optimal Number of Clusters (k)**\n",
    "Two methods will be utilized to determine the number of clusters: 1) Elbow Method and 2) Silhuoette Score"
   ]
  },
  {
   "cell_type": "code",
   "execution_count": 156,
   "id": "35db6cae",
   "metadata": {},
   "outputs": [
    {
     "name": "stdout",
     "output_type": "stream",
     "text": [
      "For k=1, elbow methods inertia (WCSS) = 11760.00\n",
      "For k=2, elbow methods inertia (WCSS) = 6157.86\n",
      "For k=3, elbow methods inertia (WCSS) = 3846.82\n",
      "For k=4, elbow methods inertia (WCSS) = 3456.18\n",
      "For k=5, elbow methods inertia (WCSS) = 2517.32\n",
      "For k=6, elbow methods inertia (WCSS) = 2114.41\n",
      "For k=7, elbow methods inertia (WCSS) = 1914.24\n",
      "For k=8, elbow methods inertia (WCSS) = 1789.51\n",
      "For k=9, elbow methods inertia (WCSS) = 1607.12\n",
      "For k=2, silhouette score = 0.4100\n",
      "For k=3, silhouette score = 0.4165\n",
      "For k=4, silhouette score = 0.3517\n",
      "For k=5, silhouette score = 0.3605\n",
      "For k=6, silhouette score = 0.3346\n",
      "For k=7, silhouette score = 0.3029\n",
      "For k=8, silhouette score = 0.2921\n",
      "For k=9, silhouette score = 0.2954\n"
     ]
    },
    {
     "data": {
      "image/png": "[encoded data removed]",
      "text/plain": [
       "<Figure size 1200x400 with 2 Axes>"
      ]
     },
     "metadata": {},
     "output_type": "display_data"
    }
   ],
   "source": [
    "from sklearn.cluster import KMeans\n",
    "from sklearn.metrics import silhouette_score\n",
    "\n",
    "X= rfm_scaled\n",
    "\n",
    "#       1.Elbow Method\n",
    "inertia=[]\n",
    "K=range(1,10)\n",
    "\n",
    "for k in K:\n",
    "    kmeans=KMeans(n_clusters=k, random_state=13)\n",
    "    kmeans.fit(X)\n",
    "    inertia.append(kmeans.inertia_) #save\n",
    "    print(f'For k={k}, elbow methods inertia (WCSS) = {kmeans.inertia_:.2f}')\n",
    "    \n",
    "#       2.Silhouette score\n",
    "\n",
    "silhouette_scores = []\n",
    "\n",
    "K2=range(2,10)\n",
    "\n",
    "for k in K2:\n",
    "    kmean=KMeans(n_clusters=k, random_state=13)\n",
    "    kmean.fit(X)\n",
    "    score=silhouette_score(X, kmean.labels_)\n",
    "    silhouette_scores.append(score)\n",
    "    print(f'For k={k}, silhouette score = {score:.4f}')\n",
    "\n",
    "#Plot\n",
    "fig, ax=plt.subplots(1,2, figsize=(12,4))\n",
    "\n",
    "#Elbow Plot: plot line graph k numbers against inertia (WCSS)\n",
    "ax[0].plot(K, inertia, marker='o', color='teal')\n",
    "ax[0].set_title('Elbow Method for Optimal k')\n",
    "ax[0].set_xlabel('number of clusters(k)')\n",
    "ax[0].set_ylabel('inertia (WCSS)')\n",
    "\n",
    "#Silhouette Plot: plot cluster number (k) against silhouette score\n",
    "ax[1].plot(K2, silhouette_scores, marker='o', color='purple')\n",
    "ax[1].set_title('Silhouette Method for Optimal K')\n",
    "ax[1].set_xlabel('number of clusters (k)')\n",
    "ax[1].set_ylabel('silhouette score')\n",
    "\n",
    "plt.tight_layout()\n",
    "plt.show()"
   ]
  },
  {
   "cell_type": "markdown",
   "id": "b82d1428",
   "metadata": {},
   "source": [
    "Elbow Method:\n",
    "+ Big drop from k=1 to k=3, making elbow point at k=3\n",
    "+ After k=3, the inertia decreases slowly\n",
    "+ Thus, optimal **k = 3**\n",
    "\n",
    "Silhouette Method:\n",
    "+ Highest score is at k=3\n",
    "+ Then it drops from there\n",
    "+ Thus, optimal **k = 3**\n",
    "\n",
    "Both methods agree that the number of clusters, **k = 3**"
   ]
  },
  {
   "cell_type": "markdown",
   "id": "4a638720",
   "metadata": {},
   "source": [
    "### **2. Applying K-Means Model**\n",
    "The optimal number of clusters was determined using the Elbow and Silhouette methods. k=3. \n",
    "The K-Means algorithm will be applied to the standardized RFM dataset."
   ]
  },
  {
   "cell_type": "code",
   "execution_count": 157,
   "id": "14c13e23",
   "metadata": {},
   "outputs": [
    {
     "data": {
      "text/html": [
       "<style>#sk-container-id-2 {\n",
       "  /* Definition of color scheme common for light and dark mode */\n",
       "  --sklearn-color-text: #000;\n",
       "  --sklearn-color-text-muted: #666;\n",
       "  --sklearn-color-line: gray;\n",
       "  /* Definition of color scheme for unfitted estimators */\n",
       "  --sklearn-color-unfitted-level-0: #fff5e6;\n",
       "  --sklearn-color-unfitted-level-1: #f6e4d2;\n",
       "  --sklearn-color-unfitted-level-2: #ffe0b3;\n",
       "  --sklearn-color-unfitted-level-3: chocolate;\n",
       "  /* Definition of color scheme for fitted estimators */\n",
       "  --sklearn-color-fitted-level-0: #f0f8ff;\n",
       "  --sklearn-color-fitted-level-1: #d4ebff;\n",
       "  --sklearn-color-fitted-level-2: #b3dbfd;\n",
       "  --sklearn-color-fitted-level-3: cornflowerblue;\n",
       "\n",
       "  /* Specific color for light theme */\n",
       "  --sklearn-color-text-on-default-background: var(--sg-text-color, var(--theme-code-foreground, var(--jp-content-font-color1, black)));\n",
       "  --sklearn-color-background: var(--sg-background-color, var(--theme-background, var(--jp-layout-color0, white)));\n",
       "  --sklearn-color-border-box: var(--sg-text-color, var(--theme-code-foreground, var(--jp-content-font-color1, black)));\n",
       "  --sklearn-color-icon: #696969;\n",
       "\n",
       "  @media (prefers-color-scheme: dark) {\n",
       "    /* Redefinition of color scheme for dark theme */\n",
       "    --sklearn-color-text-on-default-background: var(--sg-text-color, var(--theme-code-foreground, var(--jp-content-font-color1, white)));\n",
       "    --sklearn-color-background: var(--sg-background-color, var(--theme-background, var(--jp-layout-color0, #111)));\n",
       "    --sklearn-color-border-box: var(--sg-text-color, var(--theme-code-foreground, var(--jp-content-font-color1, white)));\n",
       "    --sklearn-color-icon: #878787;\n",
       "  }\n",
       "}\n",
       "\n",
       "#sk-container-id-2 {\n",
       "  color: var(--sklearn-color-text);\n",
       "}\n",
       "\n",
       "#sk-container-id-2 pre {\n",
       "  padding: 0;\n",
       "}\n",
       "\n",
       "#sk-container-id-2 input.sk-hidden--visually {\n",
       "  border: 0;\n",
       "  clip: rect(1px 1px 1px 1px);\n",
       "  clip: rect(1px, 1px, 1px, 1px);\n",
       "  height: 1px;\n",
       "  margin: -1px;\n",
       "  overflow: hidden;\n",
       "  padding: 0;\n",
       "  position: absolute;\n",
       "  width: 1px;\n",
       "}\n",
       "\n",
       "#sk-container-id-2 div.sk-dashed-wrapped {\n",
       "  border: 1px dashed var(--sklearn-color-line);\n",
       "  margin: 0 0.4em 0.5em 0.4em;\n",
       "  box-sizing: border-box;\n",
       "  padding-bottom: 0.4em;\n",
       "  background-color: var(--sklearn-color-background);\n",
       "}\n",
       "\n",
       "#sk-container-id-2 div.sk-container {\n",
       "  /* jupyter's `normalize.less` sets `[hidden] { display: none; }`\n",
       "     but bootstrap.min.css set `[hidden] { display: none !important; }`\n",
       "     so we also need the `!important` here to be able to override the\n",
       "     default hidden behavior on the sphinx rendered scikit-learn.org.\n",
       "     See: https://github.com/scikit-learn/scikit-learn/issues/21755 */\n",
       "  display: inline-block !important;\n",
       "  position: relative;\n",
       "}\n",
       "\n",
       "#sk-container-id-2 div.sk-text-repr-fallback {\n",
       "  display: none;\n",
       "}\n",
       "\n",
       "div.sk-parallel-item,\n",
       "div.sk-serial,\n",
       "div.sk-item {\n",
       "  /* draw centered vertical line to link estimators */\n",
       "  background-image: linear-gradient(var(--sklearn-color-text-on-default-background), var(--sklearn-color-text-on-default-background));\n",
       "  background-size: 2px 100%;\n",
       "  background-repeat: no-repeat;\n",
       "  background-position: center center;\n",
       "}\n",
       "\n",
       "/* Parallel-specific style estimator block */\n",
       "\n",
       "#sk-container-id-2 div.sk-parallel-item::after {\n",
       "  content: \"\";\n",
       "  width: 100%;\n",
       "  border-bottom: 2px solid var(--sklearn-color-text-on-default-background);\n",
       "  flex-grow: 1;\n",
       "}\n",
       "\n",
       "#sk-container-id-2 div.sk-parallel {\n",
       "  display: flex;\n",
       "  align-items: stretch;\n",
       "  justify-content: center;\n",
       "  background-color: var(--sklearn-color-background);\n",
       "  position: relative;\n",
       "}\n",
       "\n",
       "#sk-container-id-2 div.sk-parallel-item {\n",
       "  display: flex;\n",
       "  flex-direction: column;\n",
       "}\n",
       "\n",
       "#sk-container-id-2 div.sk-parallel-item:first-child::after {\n",
       "  align-self: flex-end;\n",
       "  width: 50%;\n",
       "}\n",
       "\n",
       "#sk-container-id-2 div.sk-parallel-item:last-child::after {\n",
       "  align-self: flex-start;\n",
       "  width: 50%;\n",
       "}\n",
       "\n",
       "#sk-container-id-2 div.sk-parallel-item:only-child::after {\n",
       "  width: 0;\n",
       "}\n",
       "\n",
       "/* Serial-specific style estimator block */\n",
       "\n",
       "#sk-container-id-2 div.sk-serial {\n",
       "  display: flex;\n",
       "  flex-direction: column;\n",
       "  align-items: center;\n",
       "  background-color: var(--sklearn-color-background);\n",
       "  padding-right: 1em;\n",
       "  padding-left: 1em;\n",
       "}\n",
       "\n",
       "\n",
       "/* Toggleable style: style used for estimator/Pipeline/ColumnTransformer box that is\n",
       "clickable and can be expanded/collapsed.\n",
       "- Pipeline and ColumnTransformer use this feature and define the default style\n",
       "- Estimators will overwrite some part of the style using the `sk-estimator` class\n",
       "*/\n",
       "\n",
       "/* Pipeline and ColumnTransformer style (default) */\n",
       "\n",
       "#sk-container-id-2 div.sk-toggleable {\n",
       "  /* Default theme specific background. It is overwritten whether we have a\n",
       "  specific estimator or a Pipeline/ColumnTransformer */\n",
       "  background-color: var(--sklearn-color-background);\n",
       "}\n",
       "\n",
       "/* Toggleable label */\n",
       "#sk-container-id-2 label.sk-toggleable__label {\n",
       "  cursor: pointer;\n",
       "  display: flex;\n",
       "  width: 100%;\n",
       "  margin-bottom: 0;\n",
       "  padding: 0.5em;\n",
       "  box-sizing: border-box;\n",
       "  text-align: center;\n",
       "  align-items: start;\n",
       "  justify-content: space-between;\n",
       "  gap: 0.5em;\n",
       "}\n",
       "\n",
       "#sk-container-id-2 label.sk-toggleable__label .caption {\n",
       "  font-size: 0.6rem;\n",
       "  font-weight: lighter;\n",
       "  color: var(--sklearn-color-text-muted);\n",
       "}\n",
       "\n",
       "#sk-container-id-2 label.sk-toggleable__label-arrow:before {\n",
       "  /* Arrow on the left of the label */\n",
       "  content: \"▸\";\n",
       "  float: left;\n",
       "  margin-right: 0.25em;\n",
       "  color: var(--sklearn-color-icon);\n",
       "}\n",
       "\n",
       "#sk-container-id-2 label.sk-toggleable__label-arrow:hover:before {\n",
       "  color: var(--sklearn-color-text);\n",
       "}\n",
       "\n",
       "/* Toggleable content - dropdown */\n",
       "\n",
       "#sk-container-id-2 div.sk-toggleable__content {\n",
       "  display: none;\n",
       "  text-align: left;\n",
       "  /* unfitted */\n",
       "  background-color: var(--sklearn-color-unfitted-level-0);\n",
       "}\n",
       "\n",
       "#sk-container-id-2 div.sk-toggleable__content.fitted {\n",
       "  /* fitted */\n",
       "  background-color: var(--sklearn-color-fitted-level-0);\n",
       "}\n",
       "\n",
       "#sk-container-id-2 div.sk-toggleable__content pre {\n",
       "  margin: 0.2em;\n",
       "  border-radius: 0.25em;\n",
       "  color: var(--sklearn-color-text);\n",
       "  /* unfitted */\n",
       "  background-color: var(--sklearn-color-unfitted-level-0);\n",
       "}\n",
       "\n",
       "#sk-container-id-2 div.sk-toggleable__content.fitted pre {\n",
       "  /* unfitted */\n",
       "  background-color: var(--sklearn-color-fitted-level-0);\n",
       "}\n",
       "\n",
       "#sk-container-id-2 input.sk-toggleable__control:checked~div.sk-toggleable__content {\n",
       "  /* Expand drop-down */\n",
       "  display: block;\n",
       "  width: 100%;\n",
       "  overflow: visible;\n",
       "}\n",
       "\n",
       "#sk-container-id-2 input.sk-toggleable__control:checked~label.sk-toggleable__label-arrow:before {\n",
       "  content: \"▾\";\n",
       "}\n",
       "\n",
       "/* Pipeline/ColumnTransformer-specific style */\n",
       "\n",
       "#sk-container-id-2 div.sk-label input.sk-toggleable__control:checked~label.sk-toggleable__label {\n",
       "  color: var(--sklearn-color-text);\n",
       "  background-color: var(--sklearn-color-unfitted-level-2);\n",
       "}\n",
       "\n",
       "#sk-container-id-2 div.sk-label.fitted input.sk-toggleable__control:checked~label.sk-toggleable__label {\n",
       "  background-color: var(--sklearn-color-fitted-level-2);\n",
       "}\n",
       "\n",
       "/* Estimator-specific style */\n",
       "\n",
       "/* Colorize estimator box */\n",
       "#sk-container-id-2 div.sk-estimator input.sk-toggleable__control:checked~label.sk-toggleable__label {\n",
       "  /* unfitted */\n",
       "  background-color: var(--sklearn-color-unfitted-level-2);\n",
       "}\n",
       "\n",
       "#sk-container-id-2 div.sk-estimator.fitted input.sk-toggleable__control:checked~label.sk-toggleable__label {\n",
       "  /* fitted */\n",
       "  background-color: var(--sklearn-color-fitted-level-2);\n",
       "}\n",
       "\n",
       "#sk-container-id-2 div.sk-label label.sk-toggleable__label,\n",
       "#sk-container-id-2 div.sk-label label {\n",
       "  /* The background is the default theme color */\n",
       "  color: var(--sklearn-color-text-on-default-background);\n",
       "}\n",
       "\n",
       "/* On hover, darken the color of the background */\n",
       "#sk-container-id-2 div.sk-label:hover label.sk-toggleable__label {\n",
       "  color: var(--sklearn-color-text);\n",
       "  background-color: var(--sklearn-color-unfitted-level-2);\n",
       "}\n",
       "\n",
       "/* Label box, darken color on hover, fitted */\n",
       "#sk-container-id-2 div.sk-label.fitted:hover label.sk-toggleable__label.fitted {\n",
       "  color: var(--sklearn-color-text);\n",
       "  background-color: var(--sklearn-color-fitted-level-2);\n",
       "}\n",
       "\n",
       "/* Estimator label */\n",
       "\n",
       "#sk-container-id-2 div.sk-label label {\n",
       "  font-family: monospace;\n",
       "  font-weight: bold;\n",
       "  display: inline-block;\n",
       "  line-height: 1.2em;\n",
       "}\n",
       "\n",
       "#sk-container-id-2 div.sk-label-container {\n",
       "  text-align: center;\n",
       "}\n",
       "\n",
       "/* Estimator-specific */\n",
       "#sk-container-id-2 div.sk-estimator {\n",
       "  font-family: monospace;\n",
       "  border: 1px dotted var(--sklearn-color-border-box);\n",
       "  border-radius: 0.25em;\n",
       "  box-sizing: border-box;\n",
       "  margin-bottom: 0.5em;\n",
       "  /* unfitted */\n",
       "  background-color: var(--sklearn-color-unfitted-level-0);\n",
       "}\n",
       "\n",
       "#sk-container-id-2 div.sk-estimator.fitted {\n",
       "  /* fitted */\n",
       "  background-color: var(--sklearn-color-fitted-level-0);\n",
       "}\n",
       "\n",
       "/* on hover */\n",
       "#sk-container-id-2 div.sk-estimator:hover {\n",
       "  /* unfitted */\n",
       "  background-color: var(--sklearn-color-unfitted-level-2);\n",
       "}\n",
       "\n",
       "#sk-container-id-2 div.sk-estimator.fitted:hover {\n",
       "  /* fitted */\n",
       "  background-color: var(--sklearn-color-fitted-level-2);\n",
       "}\n",
       "\n",
       "/* Specification for estimator info (e.g. \"i\" and \"?\") */\n",
       "\n",
       "/* Common style for \"i\" and \"?\" */\n",
       "\n",
       ".sk-estimator-doc-link,\n",
       "a:link.sk-estimator-doc-link,\n",
       "a:visited.sk-estimator-doc-link {\n",
       "  float: right;\n",
       "  font-size: smaller;\n",
       "  line-height: 1em;\n",
       "  font-family: monospace;\n",
       "  background-color: var(--sklearn-color-background);\n",
       "  border-radius: 1em;\n",
       "  height: 1em;\n",
       "  width: 1em;\n",
       "  text-decoration: none !important;\n",
       "  margin-left: 0.5em;\n",
       "  text-align: center;\n",
       "  /* unfitted */\n",
       "  border: var(--sklearn-color-unfitted-level-1) 1pt solid;\n",
       "  color: var(--sklearn-color-unfitted-level-1);\n",
       "}\n",
       "\n",
       ".sk-estimator-doc-link.fitted,\n",
       "a:link.sk-estimator-doc-link.fitted,\n",
       "a:visited.sk-estimator-doc-link.fitted {\n",
       "  /* fitted */\n",
       "  border: var(--sklearn-color-fitted-level-1) 1pt solid;\n",
       "  color: var(--sklearn-color-fitted-level-1);\n",
       "}\n",
       "\n",
       "/* On hover */\n",
       "div.sk-estimator:hover .sk-estimator-doc-link:hover,\n",
       ".sk-estimator-doc-link:hover,\n",
       "div.sk-label-container:hover .sk-estimator-doc-link:hover,\n",
       ".sk-estimator-doc-link:hover {\n",
       "  /* unfitted */\n",
       "  background-color: var(--sklearn-color-unfitted-level-3);\n",
       "  color: var(--sklearn-color-background);\n",
       "  text-decoration: none;\n",
       "}\n",
       "\n",
       "div.sk-estimator.fitted:hover .sk-estimator-doc-link.fitted:hover,\n",
       ".sk-estimator-doc-link.fitted:hover,\n",
       "div.sk-label-container:hover .sk-estimator-doc-link.fitted:hover,\n",
       ".sk-estimator-doc-link.fitted:hover {\n",
       "  /* fitted */\n",
       "  background-color: var(--sklearn-color-fitted-level-3);\n",
       "  color: var(--sklearn-color-background);\n",
       "  text-decoration: none;\n",
       "}\n",
       "\n",
       "/* Span, style for the box shown on hovering the info icon */\n",
       ".sk-estimator-doc-link span {\n",
       "  display: none;\n",
       "  z-index: 9999;\n",
       "  position: relative;\n",
       "  font-weight: normal;\n",
       "  right: .2ex;\n",
       "  padding: .5ex;\n",
       "  margin: .5ex;\n",
       "  width: min-content;\n",
       "  min-width: 20ex;\n",
       "  max-width: 50ex;\n",
       "  color: var(--sklearn-color-text);\n",
       "  box-shadow: 2pt 2pt 4pt #999;\n",
       "  /* unfitted */\n",
       "  background: var(--sklearn-color-unfitted-level-0);\n",
       "  border: .5pt solid var(--sklearn-color-unfitted-level-3);\n",
       "}\n",
       "\n",
       ".sk-estimator-doc-link.fitted span {\n",
       "  /* fitted */\n",
       "  background: var(--sklearn-color-fitted-level-0);\n",
       "  border: var(--sklearn-color-fitted-level-3);\n",
       "}\n",
       "\n",
       ".sk-estimator-doc-link:hover span {\n",
       "  display: block;\n",
       "}\n",
       "\n",
       "/* \"?\"-specific style due to the `<a>` HTML tag */\n",
       "\n",
       "#sk-container-id-2 a.estimator_doc_link {\n",
       "  float: right;\n",
       "  font-size: 1rem;\n",
       "  line-height: 1em;\n",
       "  font-family: monospace;\n",
       "  background-color: var(--sklearn-color-background);\n",
       "  border-radius: 1rem;\n",
       "  height: 1rem;\n",
       "  width: 1rem;\n",
       "  text-decoration: none;\n",
       "  /* unfitted */\n",
       "  color: var(--sklearn-color-unfitted-level-1);\n",
       "  border: var(--sklearn-color-unfitted-level-1) 1pt solid;\n",
       "}\n",
       "\n",
       "#sk-container-id-2 a.estimator_doc_link.fitted {\n",
       "  /* fitted */\n",
       "  border: var(--sklearn-color-fitted-level-1) 1pt solid;\n",
       "  color: var(--sklearn-color-fitted-level-1);\n",
       "}\n",
       "\n",
       "/* On hover */\n",
       "#sk-container-id-2 a.estimator_doc_link:hover {\n",
       "  /* unfitted */\n",
       "  background-color: var(--sklearn-color-unfitted-level-3);\n",
       "  color: var(--sklearn-color-background);\n",
       "  text-decoration: none;\n",
       "}\n",
       "\n",
       "#sk-container-id-2 a.estimator_doc_link.fitted:hover {\n",
       "  /* fitted */\n",
       "  background-color: var(--sklearn-color-fitted-level-3);\n",
       "}\n",
       "\n",
       ".estimator-table summary {\n",
       "    padding: .5rem;\n",
       "    font-family: monospace;\n",
       "    cursor: pointer;\n",
       "}\n",
       "\n",
       ".estimator-table details[open] {\n",
       "    padding-left: 0.1rem;\n",
       "    padding-right: 0.1rem;\n",
       "    padding-bottom: 0.3rem;\n",
       "}\n",
       "\n",
       ".estimator-table .parameters-table {\n",
       "    margin-left: auto !important;\n",
       "    margin-right: auto !important;\n",
       "}\n",
       "\n",
       ".estimator-table .parameters-table tr:nth-child(odd) {\n",
       "    background-color: #fff;\n",
       "}\n",
       "\n",
       ".estimator-table .parameters-table tr:nth-child(even) {\n",
       "    background-color: #f6f6f6;\n",
       "}\n",
       "\n",
       ".estimator-table .parameters-table tr:hover {\n",
       "    background-color: #e0e0e0;\n",
       "}\n",
       "\n",
       ".estimator-table table td {\n",
       "    border: 1px solid rgba(106, 105, 104, 0.232);\n",
       "}\n",
       "\n",
       ".user-set td {\n",
       "    color:rgb(255, 94, 0);\n",
       "    text-align: left;\n",
       "}\n",
       "\n",
       ".user-set td.value pre {\n",
       "    color:rgb(255, 94, 0) !important;\n",
       "    background-color: transparent !important;\n",
       "}\n",
       "\n",
       ".default td {\n",
       "    color: black;\n",
       "    text-align: left;\n",
       "}\n",
       "\n",
       ".user-set td i,\n",
       ".default td i {\n",
       "    color: black;\n",
       "}\n",
       "\n",
       ".copy-paste-icon {\n",
       "    background-image: url(data:image/svg+xml;base64,PHN2ZyB4bWxucz0iaHR0cDovL3d3dy53My5vcmcvMjAwMC9zdmciIHZpZXdCb3g9IjAgMCA0NDggNTEyIj48IS0tIUZvbnQgQXdlc29tZSBGcmVlIDYuNy4yIGJ5IEBmb250YXdlc29tZSAtIGh0dHBzOi8vZm9udGF3ZXNvbWUuY29tIExpY2Vuc2UgLSBodHRwczovL2ZvbnRhd2Vzb21lLmNvbS9saWNlbnNlL2ZyZWUgQ29weXJpZ2h0IDIwMjUgRm9udGljb25zLCBJbmMuLS0+PHBhdGggZD0iTTIwOCAwTDMzMi4xIDBjMTIuNyAwIDI0LjkgNS4xIDMzLjkgMTQuMWw2Ny45IDY3LjljOSA5IDE0LjEgMjEuMiAxNC4xIDMzLjlMNDQ4IDMzNmMwIDI2LjUtMjEuNSA0OC00OCA0OGwtMTkyIDBjLTI2LjUgMC00OC0yMS41LTQ4LTQ4bDAtMjg4YzAtMjYuNSAyMS41LTQ4IDQ4LTQ4ek00OCAxMjhsODAgMCAwIDY0LTY0IDAgMCAyNTYgMTkyIDAgMC0zMiA2NCAwIDAgNDhjMCAyNi41LTIxLjUgNDgtNDggNDhMNDggNTEyYy0yNi41IDAtNDgtMjEuNS00OC00OEwwIDE3NmMwLTI2LjUgMjEuNS00OCA0OC00OHoiLz48L3N2Zz4=);\n",
       "    background-repeat: no-repeat;\n",
       "    background-size: 14px 14px;\n",
       "    background-position: 0;\n",
       "    display: inline-block;\n",
       "    width: 14px;\n",
       "    height: 14px;\n",
       "    cursor: pointer;\n",
       "}\n",
       "</style><body><div id=\"sk-container-id-2\" class=\"sk-top-container\"><div class=\"sk-text-repr-fallback\"><pre>KMeans(n_clusters=3, n_init=12)</pre><b>In a Jupyter environment, please rerun this cell to show the HTML representation or trust the notebook. <br />On GitHub, the HTML representation is unable to render, please try loading this page with nbviewer.org.</b></div><div class=\"sk-container\" hidden><div class=\"sk-item\"><div class=\"sk-estimator fitted sk-toggleable\"><input class=\"sk-toggleable__control sk-hidden--visually\" id=\"sk-estimator-id-2\" type=\"checkbox\" checked><label for=\"sk-estimator-id-2\" class=\"sk-toggleable__label fitted sk-toggleable__label-arrow\"><div><div>KMeans</div></div><div><a class=\"sk-estimator-doc-link fitted\" rel=\"noreferrer\" target=\"_blank\" href=\"https://scikit-learn.org/1.7/modules/generated/sklearn.cluster.KMeans.html\">?<span>Documentation for KMeans</span></a><span class=\"sk-estimator-doc-link fitted\">i<span>Fitted</span></span></div></label><div class=\"sk-toggleable__content fitted\" data-param-prefix=\"\">\n",
       "        <div class=\"estimator-table\">\n",
       "            <details>\n",
       "                <summary>Parameters</summary>\n",
       "                <table class=\"parameters-table\">\n",
       "                  <tbody>\n",
       "                    \n",
       "        <tr class=\"user-set\">\n",
       "            <td><i class=\"copy-paste-icon\"\n",
       "                 onclick=\"copyToClipboard('n_clusters',\n",
       "                          this.parentElement.nextElementSibling)\"\n",
       "            ></i></td>\n",
       "            <td class=\"param\">n_clusters&nbsp;</td>\n",
       "            <td class=\"value\">3</td>\n",
       "        </tr>\n",
       "    \n",
       "\n",
       "        <tr class=\"default\">\n",
       "            <td><i class=\"copy-paste-icon\"\n",
       "                 onclick=\"copyToClipboard('init',\n",
       "                          this.parentElement.nextElementSibling)\"\n",
       "            ></i></td>\n",
       "            <td class=\"param\">init&nbsp;</td>\n",
       "            <td class=\"value\">&#x27;k-means++&#x27;</td>\n",
       "        </tr>\n",
       "    \n",
       "\n",
       "        <tr class=\"user-set\">\n",
       "            <td><i class=\"copy-paste-icon\"\n",
       "                 onclick=\"copyToClipboard('n_init',\n",
       "                          this.parentElement.nextElementSibling)\"\n",
       "            ></i></td>\n",
       "            <td class=\"param\">n_init&nbsp;</td>\n",
       "            <td class=\"value\">12</td>\n",
       "        </tr>\n",
       "    \n",
       "\n",
       "        <tr class=\"default\">\n",
       "            <td><i class=\"copy-paste-icon\"\n",
       "                 onclick=\"copyToClipboard('max_iter',\n",
       "                          this.parentElement.nextElementSibling)\"\n",
       "            ></i></td>\n",
       "            <td class=\"param\">max_iter&nbsp;</td>\n",
       "            <td class=\"value\">300</td>\n",
       "        </tr>\n",
       "    \n",
       "\n",
       "        <tr class=\"default\">\n",
       "            <td><i class=\"copy-paste-icon\"\n",
       "                 onclick=\"copyToClipboard('tol',\n",
       "                          this.parentElement.nextElementSibling)\"\n",
       "            ></i></td>\n",
       "            <td class=\"param\">tol&nbsp;</td>\n",
       "            <td class=\"value\">0.0001</td>\n",
       "        </tr>\n",
       "    \n",
       "\n",
       "        <tr class=\"default\">\n",
       "            <td><i class=\"copy-paste-icon\"\n",
       "                 onclick=\"copyToClipboard('verbose',\n",
       "                          this.parentElement.nextElementSibling)\"\n",
       "            ></i></td>\n",
       "            <td class=\"param\">verbose&nbsp;</td>\n",
       "            <td class=\"value\">0</td>\n",
       "        </tr>\n",
       "    \n",
       "\n",
       "        <tr class=\"default\">\n",
       "            <td><i class=\"copy-paste-icon\"\n",
       "                 onclick=\"copyToClipboard('random_state',\n",
       "                          this.parentElement.nextElementSibling)\"\n",
       "            ></i></td>\n",
       "            <td class=\"param\">random_state&nbsp;</td>\n",
       "            <td class=\"value\">None</td>\n",
       "        </tr>\n",
       "    \n",
       "\n",
       "        <tr class=\"default\">\n",
       "            <td><i class=\"copy-paste-icon\"\n",
       "                 onclick=\"copyToClipboard('copy_x',\n",
       "                          this.parentElement.nextElementSibling)\"\n",
       "            ></i></td>\n",
       "            <td class=\"param\">copy_x&nbsp;</td>\n",
       "            <td class=\"value\">True</td>\n",
       "        </tr>\n",
       "    \n",
       "\n",
       "        <tr class=\"default\">\n",
       "            <td><i class=\"copy-paste-icon\"\n",
       "                 onclick=\"copyToClipboard('algorithm',\n",
       "                          this.parentElement.nextElementSibling)\"\n",
       "            ></i></td>\n",
       "            <td class=\"param\">algorithm&nbsp;</td>\n",
       "            <td class=\"value\">&#x27;lloyd&#x27;</td>\n",
       "        </tr>\n",
       "    \n",
       "                  </tbody>\n",
       "                </table>\n",
       "            </details>\n",
       "        </div>\n",
       "    </div></div></div></div></div><script>function copyToClipboard(text, element) {\n",
       "    // Get the parameter prefix from the closest toggleable content\n",
       "    const toggleableContent = element.closest('.sk-toggleable__content');\n",
       "    const paramPrefix = toggleableContent ? toggleableContent.dataset.paramPrefix : '';\n",
       "    const fullParamName = paramPrefix ? `${paramPrefix}${text}` : text;\n",
       "\n",
       "    const originalStyle = element.style;\n",
       "    const computedStyle = window.getComputedStyle(element);\n",
       "    const originalWidth = computedStyle.width;\n",
       "    const originalHTML = element.innerHTML.replace('Copied!', '');\n",
       "\n",
       "    navigator.clipboard.writeText(fullParamName)\n",
       "        .then(() => {\n",
       "            element.style.width = originalWidth;\n",
       "            element.style.color = 'green';\n",
       "            element.innerHTML = \"Copied!\";\n",
       "\n",
       "            setTimeout(() => {\n",
       "                element.innerHTML = originalHTML;\n",
       "                element.style = originalStyle;\n",
       "            }, 2000);\n",
       "        })\n",
       "        .catch(err => {\n",
       "            console.error('Failed to copy:', err);\n",
       "            element.style.color = 'red';\n",
       "            element.innerHTML = \"Failed!\";\n",
       "            setTimeout(() => {\n",
       "                element.innerHTML = originalHTML;\n",
       "                element.style = originalStyle;\n",
       "            }, 2000);\n",
       "        });\n",
       "    return false;\n",
       "}\n",
       "\n",
       "document.querySelectorAll('.fa-regular.fa-copy').forEach(function(element) {\n",
       "    const toggleableContent = element.closest('.sk-toggleable__content');\n",
       "    const paramPrefix = toggleableContent ? toggleableContent.dataset.paramPrefix : '';\n",
       "    const paramName = element.parentElement.nextElementSibling.textContent.trim();\n",
       "    const fullParamName = paramPrefix ? `${paramPrefix}${paramName}` : paramName;\n",
       "\n",
       "    element.setAttribute('title', fullParamName);\n",
       "});\n",
       "</script></body>"
      ],
      "text/plain": [
       "KMeans(n_clusters=3, n_init=12)"
      ]
     },
     "execution_count": 157,
     "metadata": {},
     "output_type": "execute_result"
    }
   ],
   "source": [
    "k_means=KMeans(init='k-means++', n_clusters=3, n_init=12) \n",
    "k_means.fit(X) "
   ]
  },
  {
   "cell_type": "code",
   "execution_count": 158,
   "id": "e9b2994b",
   "metadata": {},
   "outputs": [
    {
     "data": {
      "text/plain": [
       "array([0, 0, 0, ..., 1, 0, 0], shape=(3920,), dtype=int32)"
      ]
     },
     "execution_count": 158,
     "metadata": {},
     "output_type": "execute_result"
    }
   ],
   "source": [
    "labels=k_means.labels_ #extracts the cluster number assigned to each data point\n",
    "labels"
   ]
  },
  {
   "cell_type": "code",
   "execution_count": 159,
   "id": "152998ed",
   "metadata": {},
   "outputs": [
    {
     "data": {
      "text/plain": [
       "array([[-0.61825796,  1.19556747,  1.1201995 ],\n",
       "       [-0.38018184, -0.42667874, -0.36309365],\n",
       "       [ 1.61773596, -0.75107762, -0.77879511]])"
      ]
     },
     "execution_count": 159,
     "metadata": {},
     "output_type": "execute_result"
    }
   ],
   "source": [
    "k_means_clusters_centers=k_means.cluster_centers_ #get coordinates of the centroids\n",
    "k_means_clusters_centers"
   ]
  },
  {
   "cell_type": "code",
   "execution_count": 160,
   "id": "adb9ba09",
   "metadata": {},
   "outputs": [
    {
     "data": {
      "text/html": [
       "<div>\n",
       "<style scoped>\n",
       "    .dataframe tbody tr th:only-of-type {\n",
       "        vertical-align: middle;\n",
       "    }\n",
       "\n",
       "    .dataframe tbody tr th {\n",
       "        vertical-align: top;\n",
       "    }\n",
       "\n",
       "    .dataframe thead th {\n",
       "        text-align: right;\n",
       "    }\n",
       "</style>\n",
       "<table border=\"1\" class=\"dataframe\">\n",
       "  <thead>\n",
       "    <tr style=\"text-align: right;\">\n",
       "      <th></th>\n",
       "      <th>CustomerID</th>\n",
       "      <th>Recency</th>\n",
       "      <th>Frequency</th>\n",
       "      <th>Monetary</th>\n",
       "      <th>Cluster</th>\n",
       "    </tr>\n",
       "  </thead>\n",
       "  <tbody>\n",
       "    <tr>\n",
       "      <th>0</th>\n",
       "      <td>12346</td>\n",
       "      <td>326</td>\n",
       "      <td>1</td>\n",
       "      <td>77183.60</td>\n",
       "      <td>0</td>\n",
       "    </tr>\n",
       "    <tr>\n",
       "      <th>1</th>\n",
       "      <td>12747</td>\n",
       "      <td>3</td>\n",
       "      <td>11</td>\n",
       "      <td>4196.01</td>\n",
       "      <td>0</td>\n",
       "    </tr>\n",
       "    <tr>\n",
       "      <th>2</th>\n",
       "      <td>12748</td>\n",
       "      <td>1</td>\n",
       "      <td>209</td>\n",
       "      <td>33719.73</td>\n",
       "      <td>0</td>\n",
       "    </tr>\n",
       "    <tr>\n",
       "      <th>3</th>\n",
       "      <td>12749</td>\n",
       "      <td>4</td>\n",
       "      <td>5</td>\n",
       "      <td>4090.88</td>\n",
       "      <td>0</td>\n",
       "    </tr>\n",
       "    <tr>\n",
       "      <th>4</th>\n",
       "      <td>12820</td>\n",
       "      <td>4</td>\n",
       "      <td>4</td>\n",
       "      <td>942.34</td>\n",
       "      <td>1</td>\n",
       "    </tr>\n",
       "  </tbody>\n",
       "</table>\n",
       "</div>"
      ],
      "text/plain": [
       "   CustomerID  Recency  Frequency  Monetary  Cluster\n",
       "0       12346      326          1  77183.60        0\n",
       "1       12747        3         11   4196.01        0\n",
       "2       12748        1        209  33719.73        0\n",
       "3       12749        4          5   4090.88        0\n",
       "4       12820        4          4    942.34        1"
      ]
     },
     "execution_count": 160,
     "metadata": {},
     "output_type": "execute_result"
    }
   ],
   "source": [
    "#assign the labels back to the dataframe rfm (that contains the CustomerID and prior to the preprocessing)\n",
    "rfm_final=rfm.copy()\n",
    "rfm_final['Cluster']=labels\n",
    "rfm_final.to_csv('rfm_final_clusters.csv', index=False) #saving it\n",
    "rfm_final.head()"
   ]
  },
  {
   "cell_type": "markdown",
   "id": "cacc2210",
   "metadata": {},
   "source": [
    "### **3. Cluster Analysis & Visualization & Interpretation**\n",
    "Now each cluster will be analyzed to reveal distinct customer segments and behavioral patterns"
   ]
  },
  {
   "cell_type": "code",
   "execution_count": 161,
   "id": "8caa4fdd",
   "metadata": {},
   "outputs": [
    {
     "name": "stdout",
     "output_type": "stream",
     "text": [
      "Requirement already satisfied: plotly in d:\\datascience_projects\\portfolio_env\\lib\\site-packages (6.3.1)\n",
      "Requirement already satisfied: narwhals>=1.15.1 in d:\\datascience_projects\\portfolio_env\\lib\\site-packages (from plotly) (2.9.0)\n",
      "Requirement already satisfied: packaging in d:\\datascience_projects\\portfolio_env\\lib\\site-packages (from plotly) (25.0)\n",
      "successfully installed\n"
     ]
    },
    {
     "name": "stderr",
     "output_type": "stream",
     "text": [
      "\n",
      "[notice] A new release of pip is available: 25.1.1 -> 25.2\n",
      "[notice] To update, run: python.exe -m pip install --upgrade pip\n"
     ]
    }
   ],
   "source": [
    "!pip install plotly\n",
    "print('successfully installed')"
   ]
  },
  {
   "cell_type": "code",
   "execution_count": 162,
   "id": "664bc24e",
   "metadata": {},
   "outputs": [
    {
     "data": {
      "image/png": "[encoded data removed]",
      "text/plain": [
       "<Figure size 1500x400 with 3 Axes>"
      ]
     },
     "metadata": {},
     "output_type": "display_data"
    }
   ],
   "source": [
    "import matplotlib.patches as mpatches\n",
    "import matplotlib.colors as mcolors\n",
    "\n",
    "#visualize \n",
    "fig , ax= plt.subplots(1, 3, figsize=(15, 4))\n",
    "\n",
    "#\n",
    "cmap = plt.cm.viridis\n",
    "norm = mcolors.Normalize(vmin=rfm_final['Cluster'].min(),\n",
    "                         vmax=rfm_final['Cluster'].max())\n",
    "\n",
    "#Recency vs Frequency\n",
    "ax[0].scatter(rfm_final['Recency'], rfm_final['Frequency'], c=rfm_final['Cluster'], cmap=cmap, norm=norm)\n",
    "ax[0].set_title('Recency vs Frequency')\n",
    "ax[0].set_xlabel('Recency')\n",
    "ax[0].set_ylabel('Frequency')\n",
    "\n",
    "#Frequency vs Monetary\n",
    "ax[1].scatter(rfm_final['Frequency'], rfm_final['Monetary'], c=rfm_final['Cluster'], cmap=cmap, norm=norm)\n",
    "ax[1].set_title('Frequency vs Monetary')\n",
    "ax[1].set_xlabel('Frequency')\n",
    "ax[1].set_ylabel('Monetary')\n",
    "\n",
    "#Recency vs Monetary\n",
    "ax[2].scatter(rfm_final['Recency'], rfm_final['Monetary'], c=rfm_final['Cluster'], cmap=cmap, norm=norm)\n",
    "ax[2].set_title('Recency vs Monetary')\n",
    "ax[2].set_xlabel('Recency')\n",
    "ax[2].set_ylabel('Monetary')\n",
    "\n",
    "#create& add legend\n",
    "unique_clusters= np.sort(rfm_final['Cluster'].unique())\n",
    "handles = [mpatches.Patch(color=cmap(norm(k)), label=f'Cluster {k}') for k in unique_clusters]\n",
    "fig.legend(handles=handles, title='Customer Segment', loc='upper right')\n",
    "\n",
    "\n",
    "plt.tight_layout()\n",
    "plt.show()"
   ]
  },
  {
   "cell_type": "markdown",
   "id": "52851ed9",
   "metadata": {},
   "source": [
    "Interpretation:\n",
    "+ **Recency vs Frequency**\n",
    "This graph demonstrates the relationship between customer's recent purchase and their purchase frequency. Cluster 0 (purple) is characterized by high frequency(purchased a lot) and low to medium recency (the majority are recent buyers). Cluster 1 (blue) is characterized with medium to the highest recency (haven't purchased for a while) and low frequency (they buy rarely). Cluster 2 (yellow) is charecterized with low to medium recency (relatively recent) and low frequency (purchase occasionally).\n",
    "\n",
    "+ **Monetary vs Frequency**\n",
    "This plot illustrates how often customer's buy and how much they spend. Cluster 0 appears to have the highest spenders. For better visualization, 3D plots will be used. \n",
    "\n",
    "+ **Recency vs Monetary**\n",
    "This plot shows that customer's who purchased most recently (low recency) also tend to spend more. Cluster 0's purchase extends to very high monetary values. Cluster 1 and 2 are characterized by low Monetary values, not spending much."
   ]
  },
  {
   "cell_type": "code",
   "execution_count": 163,
   "id": "8f3360c3",
   "metadata": {},
   "outputs": [
    {
     "data": {
      "image/png": "[encoded data removed]",
      "text/plain": [
       "<Figure size 800x600 with 1 Axes>"
      ]
     },
     "metadata": {},
     "output_type": "display_data"
    }
   ],
   "source": [
    "#3D visualization for better demonstration\n",
    "from mpl_toolkits.mplot3d import Axes3D\n",
    "\n",
    "fig = plt.figure(figsize=(8,6))\n",
    "ax = fig.add_subplot(111, projection='3d')\n",
    "ax.scatter(rfm_final['Recency'], rfm_final['Frequency'], rfm_final['Monetary'], c=rfm_final['Cluster'], cmap='viridis', s=50)\n",
    "\n",
    "ax.set_xlabel('Recency')\n",
    "ax.set_ylabel('Frequency')\n",
    "ax.set_zlabel('Monetary')\n",
    "plt.title('3D View of Customer Segments')\n",
    "plt.savefig('cluster_3d.png', dpi=300, bbox_inches='tight') #saving it\n",
    "\n",
    "plt.show()\n"
   ]
  },
  {
   "cell_type": "code",
   "execution_count": 164,
   "id": "b9fa1f89",
   "metadata": {},
   "outputs": [
    {
     "data": {
      "application/vnd.plotly.v1+json": {
       "config": {
        "plotlyServerURL": "https://plot.ly"
       },
       "data": [
        {
         "customdata": {
          "bdata": "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",
          "dtype": "i2",
          "shape": "3920, 1"
         },
         "hovertemplate": "Recency=%{x}<br>Frequency=%{y}<br>Monetary=%{z}<br>CustomerID=%{customdata[0]}<br>Cluster=%{marker.color}<extra></extra>",
         "legendgroup": "",
         "marker": {
          "color": {
           "bdata": "AAAAAAAAAAAAAAAAAAAAAAEAAAACAAAAAQAAAAAAAAABAAAAAAAAAAEAAAAAAAAAAgAAAAAAAAACAAAAAQAAAAEAAAACAAAAAAAAAAIAAAABAAAAAAAAAAAAAAAAAAAAAQAAAAAAAAABAAAAAgAAAAEAAAABAAAAAQAAAAIAAAAAAAAAAQAAAAIAAAAAAAAAAgAAAAEAAAACAAAAAAAAAAAAAAABAAAAAgAAAAIAAAABAAAAAAAAAAIAAAABAAAAAgAAAAEAAAABAAAAAQAAAAEAAAABAAAAAgAAAAEAAAACAAAAAQAAAAEAAAACAAAAAAAAAAIAAAABAAAAAAAAAAIAAAAAAAAAAAAAAAAAAAAAAAAAAQAAAAAAAAABAAAAAAAAAAEAAAAAAAAAAgAAAAEAAAABAAAAAQAAAAAAAAACAAAAAQAAAAAAAAABAAAAAAAAAAAAAAAAAAAAAQAAAAAAAAABAAAAAQAAAAEAAAACAAAAAAAAAAAAAAAAAAAAAAAAAAAAAAAAAAAAAQAAAAAAAAACAAAAAAAAAAEAAAAAAAAAAQAAAAEAAAACAAAAAQAAAAEAAAAAAAAAAgAAAAIAAAACAAAAAAAAAAEAAAACAAAAAQAAAAEAAAABAAAAAgAAAAAAAAABAAAAAQAAAAEAAAABAAAAAQAAAAAAAAACAAAAAQAAAAAAAAACAAAAAQAAAAAAAAACAAAAAQAAAAIAAAACAAAAAAAAAAAAAAAAAAAAAAAAAAEAAAABAAAAAAAAAAAAAAABAAAAAAAAAAAAAAABAAAAAQAAAAEAAAABAAAAAgAAAAEAAAABAAAAAQAAAAEAAAABAAAAAgAAAAIAAAABAAAAAQAAAAAAAAAAAAAAAQAAAAAAAAACAAAAAQAAAAEAAAACAAAAAgAAAAEAAAACAAAAAAAAAAIAAAABAAAAAQAAAAEAAAAAAAAAAgAAAAIAAAABAAAAAQAAAAAAAAABAAAAAgAAAAAAAAAAAAAAAQAAAAEAAAAAAAAAAAAAAAEAAAABAAAAAAAAAAAAAAABAAAAAAAAAAAAAAABAAAAAgAAAAAAAAABAAAAAAAAAAIAAAAAAAAAAgAAAAEAAAAAAAAAAAAAAAAAAAABAAAAAAAAAAAAAAACAAAAAgAAAAEAAAAAAAAAAAAAAAEAAAABAAAAAQAAAAIAAAACAAAAAAAAAAIAAAAAAAAAAAAAAAAAAAAAAAAAAQAAAAAAAAABAAAAAgAAAAEAAAABAAAAAQAAAAAAAAAAAAAAAgAAAAEAAAABAAAAAAAAAAEAAAAAAAAAAQAAAAIAAAAAAAAAAQAAAAIAAAABAAAAAAAAAAEAAAABAAAAAQAAAAEAAAAAAAAAAQAAAAEAAAAAAAAAAQAAAAAAAAAAAAAAAgAAAAEAAAACAAAAAQAAAAEAAAABAAAAAQAAAAIAAAAAAAAAAAAAAAAAAAABAAAAAQAAAAEAAAAAAAAAAAAAAAEAAAABAAAAAQAAAAAAAAACAAAAAQAAAAIAAAABAAAAAgAAAAIAAAABAAAAAAAAAAIAAAACAAAAAQAAAAIAAAAAAAAAAAAAAAEAAAACAAAAAQAAAAEAAAACAAAAAQAAAAEAAAACAAAAAQAAAAEAAAAAAAAAAQAAAAEAAAABAAAAAQAAAAEAAAABAAAAAQAAAAEAAAACAAAAAgAAAAAAAAAAAAAAAAAAAAAAAAAAAAAAAAAAAAIAAAABAAAAAQAAAAEAAAABAAAAAQAAAAEAAAABAAAAAQAAAAEAAAABAAAAAgAAAAAAAAACAAAAAQAAAAIAAAACAAAAAgAAAAAAAAABAAAAAgAAAAIAAAABAAAAAgAAAAIAAAAAAAAAAgAAAAEAAAAAAAAAAQAAAAEAAAAAAAAAAQAAAAAAAAAAAAAAAQAAAAAAAAAAAAAAAQAAAAEAAAAAAAAAAAAAAAEAAAAAAAAAAgAAAAEAAAABAAAAAQAAAAAAAAABAAAAAgAAAAIAAAAAAAAAAgAAAAIAAAAAAAAAAgAAAAEAAAABAAAAAQAAAAEAAAABAAAAAQAAAAEAAAABAAAAAQAAAAIAAAACAAAAAQAAAAAAAAABAAAAAQAAAAEAAAABAAAAAgAAAAIAAAACAAAAAQAAAAAAAAABAAAAAQAAAAEAAAAAAAAAAgAAAAAAAAACAAAAAQAAAAEAAAABAAAAAgAAAAAAAAACAAAAAQAAAAAAAAACAAAAAQAAAAEAAAABAAAAAQAAAAAAAAAAAAAAAQAAAAEAAAABAAAAAQAAAAAAAAABAAAAAgAAAAEAAAABAAAAAQAAAAAAAAABAAAAAQAAAAEAAAABAAAAAQAAAAEAAAAAAAAAAQAAAAAAAAACAAAAAQAAAAEAAAAAAAAAAQAAAAAAAAAAAAAAAgAAAAIAAAABAAAAAAAAAAAAAAABAAAAAQAAAAIAAAABAAAAAgAAAAEAAAAAAAAAAQAAAAAAAAABAAAAAgAAAAEAAAABAAAAAAAAAAIAAAAAAAAAAgAAAAEAAAACAAAAAgAAAAEAAAABAAAAAAAAAAEAAAAAAAAAAgAAAAAAAAABAAAAAgAAAAAAAAABAAAAAQAAAAEAAAABAAAAAgAAAAAAAAACAAAAAAAAAAAAAAACAAAAAQAAAAEAAAABAAAAAQAAAAAAAAABAAAAAQAAAAEAAAABAAAAAAAAAAEAAAABAAAAAAAAAAEAAAACAAAAAQAAAAIAAAAAAAAAAAAAAAAAAAABAAAAAQAAAAEAAAABAAAAAAAAAAIAAAAAAAAAAAAAAAEAAAABAAAAAQAAAAIAAAABAAAAAQAAAAEAAAABAAAAAQAAAAIAAAABAAAAAgAAAAAAAAACAAAAAQAAAAEAAAAAAAAAAAAAAAEAAAACAAAAAQAAAAIAAAABAAAAAAAAAAEAAAAAAAAAAQAAAAEAAAAAAAAAAQAAAAEAAAABAAAAAAAAAAIAAAABAAAAAQAAAAEAAAABAAAAAQAAAAAAAAABAAAAAAAAAAIAAAABAAAAAgAAAAEAAAABAAAAAgAAAAAAAAAAAAAAAAAAAAAAAAAAAAAAAAAAAAEAAAAAAAAAAQAAAAEAAAABAAAAAgAAAAEAAAAAAAAAAQAAAAAAAAACAAAAAAAAAAEAAAABAAAAAAAAAAEAAAACAAAAAQAAAAAAAAACAAAAAQAAAAIAAAABAAAAAgAAAAAAAAABAAAAAQAAAAIAAAABAAAAAQAAAAIAAAAAAAAAAQAAAAIAAAACAAAAAAAAAAIAAAABAAAAAQAAAAEAAAAAAAAAAAAAAAEAAAACAAAAAAAAAAIAAAAAAAAAAQAAAAIAAAACAAAAAgAAAAAAAAABAAAAAgAAAAIAAAACAAAAAgAAAAAAAAACAAAAAAAAAAEAAAABAAAAAAAAAAIAAAAAAAAAAQAAAAEAAAAAAAAAAQAAAAIAAAABAAAAAAAAAAEAAAACAAAAAQAAAAIAAAABAAAAAAAAAAAAAAABAAAAAgAAAAIAAAAAAAAAAAAAAAIAAAAAAAAAAgAAAAEAAAAAAAAAAAAAAAAAAAABAAAAAQAAAAEAAAACAAAAAQAAAAEAAAAAAAAAAAAAAAAAAAABAAAAAQAAAAAAAAABAAAAAQAAAAIAAAAAAAAAAAAAAAIAAAABAAAAAQAAAAEAAAABAAAAAAAAAAEAAAACAAAAAQAAAAAAAAACAAAAAAAAAAEAAAABAAAAAgAAAAAAAAACAAAAAQAAAAEAAAABAAAAAAAAAAIAAAABAAAAAQAAAAAAAAABAAAAAgAAAAEAAAACAAAAAQAAAAIAAAAAAAAAAQAAAAEAAAABAAAAAQAAAAEAAAABAAAAAAAAAAEAAAAAAAAAAgAAAAEAAAACAAAAAAAAAAAAAAACAAAAAQAAAAEAAAABAAAAAAAAAAAAAAAAAAAAAAAAAAEAAAACAAAAAAAAAAEAAAABAAAAAQAAAAAAAAAAAAAAAAAAAAAAAAAAAAAAAgAAAAEAAAACAAAAAQAAAAEAAAAAAAAAAQAAAAIAAAABAAAAAAAAAAEAAAACAAAAAQAAAAIAAAAAAAAAAQAAAAAAAAAAAAAAAQAAAAEAAAABAAAAAgAAAAEAAAAAAAAAAQAAAAEAAAABAAAAAQAAAAEAAAABAAAAAQAAAAIAAAABAAAAAgAAAAIAAAACAAAAAQAAAAEAAAABAAAAAAAAAAEAAAABAAAAAgAAAAAAAAABAAAAAgAAAAIAAAAAAAAAAQAAAAEAAAAAAAAAAQAAAAEAAAABAAAAAgAAAAIAAAAAAAAAAAAAAAEAAAACAAAAAQAAAAAAAAACAAAAAQAAAAEAAAABAAAAAAAAAAAAAAAAAAAAAAAAAAEAAAAAAAAAAQAAAAIAAAAAAAAAAQAAAAAAAAAAAAAAAAAAAAAAAAACAAAAAAAAAAEAAAAAAAAAAAAAAAEAAAACAAAAAgAAAAEAAAABAAAAAQAAAAEAAAABAAAAAQAAAAIAAAABAAAAAQAAAAEAAAABAAAAAAAAAAAAAAAAAAAAAQAAAAAAAAACAAAAAgAAAAEAAAABAAAAAAAAAAIAAAABAAAAAAAAAAIAAAAAAAAAAgAAAAAAAAABAAAAAAAAAAEAAAABAAAAAQAAAAEAAAAAAAAAAAAAAAIAAAAAAAAAAAAAAAAAAAACAAAAAQAAAAIAAAAAAAAAAQAAAAEAAAABAAAAAQAAAAAAAAABAAAAAQAAAAIAAAACAAAAAAAAAAAAAAABAAAAAAAAAAEAAAACAAAAAAAAAAEAAAAAAAAAAQAAAAAAAAABAAAAAAAAAAAAAAACAAAAAgAAAAAAAAABAAAAAQAAAAAAAAABAAAAAAAAAAAAAAACAAAAAAAAAAIAAAAAAAAAAQAAAAAAAAABAAAAAQAAAAEAAAAAAAAAAgAAAAAAAAABAAAAAAAAAAEAAAABAAAAAQAAAAEAAAACAAAAAgAAAAAAAAAAAAAAAQAAAAIAAAACAAAAAQAAAAEAAAACAAAAAgAAAAEAAAABAAAAAAAAAAIAAAACAAAAAAAAAAEAAAACAAAAAQAAAAEAAAABAAAAAQAAAAAAAAACAAAAAQAAAAAAAAABAAAAAAAAAAEAAAACAAAAAAAAAAAAAAAAAAAAAQAAAAAAAAACAAAAAQAAAAEAAAACAAAAAAAAAAEAAAABAAAAAgAAAAEAAAAAAAAAAAAAAAAAAAABAAAAAAAAAAAAAAAAAAAAAAAAAAEAAAABAAAAAgAAAAAAAAACAAAAAQAAAAEAAAAAAAAAAAAAAAEAAAACAAAAAAAAAAAAAAABAAAAAAAAAAEAAAACAAAAAgAAAAAAAAABAAAAAgAAAAIAAAAAAAAAAgAAAAEAAAACAAAAAgAAAAAAAAAAAAAAAgAAAAAAAAAAAAAAAgAAAAEAAAAAAAAAAQAAAAEAAAACAAAAAgAAAAEAAAABAAAAAQAAAAIAAAAAAAAAAQAAAAAAAAAAAAAAAQAAAAIAAAAAAAAAAAAAAAAAAAAAAAAAAAAAAAEAAAAAAAAAAAAAAAAAAAABAAAAAQAAAAIAAAAAAAAAAQAAAAAAAAAAAAAAAgAAAAAAAAABAAAAAAAAAAEAAAACAAAAAAAAAAEAAAACAAAAAgAAAAAAAAABAAAAAQAAAAEAAAAAAAAAAAAAAAEAAAACAAAAAgAAAAAAAAABAAAAAAAAAAEAAAABAAAAAgAAAAEAAAACAAAAAgAAAAEAAAACAAAAAQAAAAIAAAABAAAAAQAAAAEAAAAAAAAAAQAAAAAAAAAAAAAAAgAAAAIAAAACAAAAAgAAAAIAAAABAAAAAQAAAAEAAAABAAAAAQAAAAIAAAAAAAAAAAAAAAEAAAAAAAAAAgAAAAAAAAABAAAAAAAAAAEAAAAAAAAAAAAAAAAAAAABAAAAAAAAAAAAAAAAAAAAAAAAAAIAAAABAAAAAgAAAAAAAAAAAAAAAQAAAAAAAAAAAAAAAQAAAAEAAAAAAAAAAgAAAAEAAAAAAAAAAQAAAAAAAAACAAAAAAAAAAAAAAABAAAAAgAAAAIAAAAAAAAAAAAAAAAAAAAAAAAAAAAAAAEAAAABAAAAAgAAAAEAAAABAAAAAgAAAAAAAAACAAAAAQAAAAEAAAABAAAAAAAAAAEAAAACAAAAAAAAAAEAAAABAAAAAAAAAAEAAAABAAAAAQAAAAIAAAAAAAAAAgAAAAEAAAABAAAAAAAAAAIAAAABAAAAAQAAAAAAAAABAAAAAgAAAAIAAAAAAAAAAQAAAAEAAAACAAAAAgAAAAAAAAABAAAAAQAAAAIAAAAAAAAAAAAAAAEAAAAAAAAAAAAAAAAAAAABAAAAAAAAAAIAAAABAAAAAQAAAAAAAAABAAAAAQAAAAEAAAABAAAAAQAAAAAAAAAAAAAAAAAAAAEAAAABAAAAAAAAAAIAAAAAAAAAAAAAAAAAAAACAAAAAQAAAAEAAAABAAAAAQAAAAAAAAACAAAAAAAAAAEAAAAAAAAAAAAAAAEAAAACAAAAAQAAAAEAAAACAAAAAAAAAAAAAAABAAAAAQAAAAAAAAABAAAAAAAAAAAAAAABAAAAAQAAAAIAAAAAAAAAAAAAAAIAAAABAAAAAQAAAAEAAAABAAAAAAAAAAEAAAABAAAAAgAAAAAAAAACAAAAAAAAAAEAAAABAAAAAQAAAAAAAAABAAAAAQAAAAIAAAABAAAAAgAAAAAAAAAAAAAAAAAAAAEAAAACAAAAAQAAAAIAAAACAAAAAAAAAAIAAAAAAAAAAQAAAAIAAAAAAAAAAQAAAAEAAAABAAAAAgAAAAIAAAABAAAAAQAAAAAAAAAAAAAAAQAAAAEAAAACAAAAAQAAAAEAAAACAAAAAAAAAAEAAAABAAAAAAAAAAAAAAACAAAAAQAAAAEAAAAAAAAAAQAAAAEAAAABAAAAAQAAAAAAAAABAAAAAAAAAAIAAAACAAAAAgAAAAAAAAABAAAAAAAAAAAAAAABAAAAAgAAAAAAAAABAAAAAAAAAAIAAAABAAAAAAAAAAEAAAACAAAAAAAAAAIAAAAAAAAAAgAAAAAAAAAAAAAAAAAAAAEAAAAAAAAAAgAAAAEAAAAAAAAAAQAAAAAAAAABAAAAAAAAAAEAAAABAAAAAQAAAAAAAAABAAAAAgAAAAAAAAABAAAAAgAAAAIAAAAAAAAAAQAAAAAAAAAAAAAAAAAAAAEAAAAAAAAAAAAAAAIAAAAAAAAAAAAAAAAAAAACAAAAAAAAAAEAAAABAAAAAQAAAAAAAAABAAAAAQAAAAAAAAAAAAAAAgAAAAEAAAACAAAAAQAAAAEAAAAAAAAAAQAAAAAAAAACAAAAAQAAAAEAAAAAAAAAAQAAAAIAAAABAAAAAgAAAAEAAAABAAAAAQAAAAEAAAABAAAAAQAAAAEAAAAAAAAAAgAAAAAAAAABAAAAAQAAAAAAAAABAAAAAQAAAAEAAAABAAAAAQAAAAAAAAAAAAAAAgAAAAEAAAACAAAAAgAAAAEAAAABAAAAAQAAAAIAAAACAAAAAAAAAAAAAAACAAAAAQAAAAEAAAAAAAAAAQAAAAAAAAACAAAAAAAAAAAAAAAAAAAAAgAAAAAAAAACAAAAAQAAAAAAAAABAAAAAAAAAAEAAAABAAAAAQAAAAAAAAABAAAAAQAAAAEAAAABAAAAAQAAAAAAAAACAAAAAAAAAAEAAAACAAAAAQAAAAIAAAABAAAAAAAAAAEAAAABAAAAAQAAAAAAAAABAAAAAgAAAAEAAAACAAAAAgAAAAIAAAABAAAAAQAAAAEAAAAAAAAAAgAAAAAAAAAAAAAAAAAAAAEAAAAAAAAAAQAAAAEAAAAAAAAAAQAAAAEAAAAAAAAAAQAAAAAAAAABAAAAAgAAAAEAAAABAAAAAgAAAAEAAAAAAAAAAQAAAAEAAAAAAAAAAQAAAAEAAAAAAAAAAQAAAAEAAAACAAAAAQAAAAEAAAABAAAAAAAAAAIAAAAAAAAAAgAAAAEAAAABAAAAAQAAAAEAAAAAAAAAAQAAAAEAAAABAAAAAQAAAAEAAAAAAAAAAAAAAAIAAAABAAAAAgAAAAEAAAACAAAAAQAAAAEAAAACAAAAAQAAAAAAAAABAAAAAAAAAAEAAAACAAAAAQAAAAEAAAABAAAAAQAAAAIAAAABAAAAAQAAAAIAAAAAAAAAAQAAAAAAAAAAAAAAAQAAAAEAAAABAAAAAQAAAAEAAAABAAAAAgAAAAAAAAAAAAAAAQAAAAEAAAAAAAAAAAAAAAIAAAACAAAAAQAAAAAAAAABAAAAAAAAAAIAAAABAAAAAgAAAAAAAAABAAAAAgAAAAEAAAABAAAAAgAAAAAAAAAAAAAAAQAAAAAAAAABAAAAAgAAAAAAAAABAAAAAQAAAAEAAAACAAAAAgAAAAEAAAABAAAAAQAAAAEAAAACAAAAAAAAAAIAAAABAAAAAgAAAAIAAAABAAAAAAAAAAIAAAABAAAAAgAAAAAAAAAAAAAAAQAAAAEAAAAAAAAAAQAAAAIAAAABAAAAAQAAAAIAAAAAAAAAAAAAAAIAAAACAAAAAQAAAAEAAAAAAAAAAAAAAAEAAAAAAAAAAAAAAAEAAAACAAAAAQAAAAEAAAABAAAAAQAAAAEAAAAAAAAAAQAAAAAAAAAAAAAAAgAAAAAAAAABAAAAAAAAAAIAAAAAAAAAAgAAAAAAAAABAAAAAgAAAAAAAAAAAAAAAQAAAAIAAAABAAAAAQAAAAAAAAAAAAAAAQAAAAEAAAABAAAAAAAAAAEAAAAAAAAAAgAAAAEAAAABAAAAAgAAAAIAAAABAAAAAgAAAAAAAAACAAAAAQAAAAIAAAAAAAAAAgAAAAEAAAABAAAAAQAAAAEAAAABAAAAAAAAAAAAAAABAAAAAQAAAAAAAAABAAAAAQAAAAEAAAAAAAAAAAAAAAAAAAACAAAAAQAAAAEAAAAAAAAAAgAAAAEAAAACAAAAAgAAAAAAAAABAAAAAQAAAAAAAAACAAAAAAAAAAIAAAACAAAAAgAAAAIAAAACAAAAAgAAAAAAAAAAAAAAAgAAAAEAAAACAAAAAAAAAAIAAAAAAAAAAQAAAAEAAAAAAAAAAAAAAAEAAAABAAAAAAAAAAIAAAABAAAAAAAAAAAAAAABAAAAAAAAAAEAAAABAAAAAgAAAAIAAAACAAAAAAAAAAEAAAACAAAAAQAAAAEAAAABAAAAAgAAAAAAAAABAAAAAAAAAAAAAAABAAAAAQAAAAEAAAABAAAAAQAAAAIAAAACAAAAAAAAAAEAAAABAAAAAAAAAAEAAAAAAAAAAAAAAAIAAAAAAAAAAQAAAAAAAAAAAAAAAQAAAAAAAAACAAAAAAAAAAEAAAABAAAAAgAAAAAAAAABAAAAAQAAAAIAAAABAAAAAgAAAAEAAAACAAAAAQAAAAAAAAABAAAAAQAAAAIAAAABAAAAAQAAAAEAAAACAAAAAQAAAAEAAAABAAAAAQAAAAEAAAABAAAAAQAAAAEAAAACAAAAAgAAAAEAAAABAAAAAgAAAAAAAAACAAAAAQAAAAAAAAAAAAAAAQAAAAIAAAACAAAAAQAAAAAAAAABAAAAAAAAAAEAAAAAAAAAAQAAAAAAAAABAAAAAQAAAAAAAAAAAAAAAgAAAAAAAAACAAAAAQAAAAIAAAACAAAAAAAAAAEAAAAAAAAAAgAAAAEAAAACAAAAAQAAAAEAAAABAAAAAQAAAAIAAAABAAAAAQAAAAIAAAAAAAAAAAAAAAIAAAABAAAAAgAAAAAAAAABAAAAAQAAAAEAAAACAAAAAQAAAAIAAAAAAAAAAQAAAAEAAAABAAAAAQAAAAIAAAAAAAAAAQAAAAEAAAACAAAAAQAAAAEAAAACAAAAAAAAAAEAAAACAAAAAgAAAAIAAAABAAAAAQAAAAEAAAAAAAAAAgAAAAIAAAACAAAAAQAAAAIAAAABAAAAAQAAAAIAAAAAAAAAAQAAAAEAAAABAAAAAQAAAAEAAAABAAAAAAAAAAEAAAABAAAAAAAAAAEAAAAAAAAAAAAAAAEAAAABAAAAAAAAAAEAAAAAAAAAAQAAAAEAAAAAAAAAAAAAAAAAAAACAAAAAQAAAAAAAAABAAAAAgAAAAAAAAACAAAAAAAAAAIAAAAAAAAAAAAAAAEAAAACAAAAAAAAAAEAAAAAAAAAAQAAAAEAAAABAAAAAQAAAAEAAAAAAAAAAgAAAAAAAAAAAAAAAQAAAAAAAAABAAAAAQAAAAIAAAABAAAAAQAAAAEAAAACAAAAAAAAAAEAAAAAAAAAAQAAAAEAAAABAAAAAgAAAAEAAAACAAAAAAAAAAEAAAABAAAAAQAAAAIAAAAAAAAAAQAAAAEAAAABAAAAAAAAAAAAAAABAAAAAAAAAAEAAAABAAAAAQAAAAEAAAACAAAAAQAAAAAAAAABAAAAAQAAAAIAAAABAAAAAgAAAAEAAAABAAAAAAAAAAAAAAABAAAAAQAAAAEAAAAAAAAAAAAAAAEAAAABAAAAAAAAAAAAAAACAAAAAAAAAAIAAAABAAAAAAAAAAEAAAAAAAAAAQAAAAEAAAABAAAAAAAAAAAAAAABAAAAAQAAAAAAAAABAAAAAAAAAAEAAAAAAAAAAQAAAAEAAAABAAAAAQAAAAAAAAAAAAAAAgAAAAEAAAABAAAAAQAAAAIAAAACAAAAAQAAAAEAAAABAAAAAQAAAAIAAAABAAAAAQAAAAEAAAABAAAAAAAAAAIAAAABAAAAAQAAAAEAAAABAAAAAgAAAAEAAAACAAAAAAAAAAAAAAAAAAAAAQAAAAAAAAABAAAAAQAAAAEAAAABAAAAAAAAAAEAAAAAAAAAAQAAAAEAAAACAAAAAQAAAAAAAAACAAAAAAAAAAEAAAACAAAAAAAAAAIAAAAAAAAAAgAAAAEAAAABAAAAAAAAAAIAAAAAAAAAAQAAAAEAAAABAAAAAgAAAAAAAAABAAAAAQAAAAAAAAACAAAAAgAAAAEAAAAAAAAAAgAAAAEAAAACAAAAAgAAAAEAAAAAAAAAAAAAAAEAAAABAAAAAQAAAAEAAAAAAAAAAQAAAAEAAAABAAAAAAAAAAAAAAAAAAAAAgAAAAEAAAAAAAAAAQAAAAEAAAABAAAAAgAAAAEAAAABAAAAAAAAAAEAAAABAAAAAAAAAAEAAAABAAAAAgAAAAEAAAACAAAAAgAAAAEAAAAAAAAAAQAAAAAAAAAAAAAAAQAAAAIAAAABAAAAAQAAAAEAAAABAAAAAAAAAAAAAAABAAAAAQAAAAEAAAABAAAAAQAAAAAAAAAAAAAAAQAAAAEAAAACAAAAAQAAAAAAAAAAAAAAAAAAAAIAAAAAAAAAAAAAAAAAAAACAAAAAQAAAAEAAAACAAAAAgAAAAEAAAAAAAAAAQAAAAEAAAABAAAAAgAAAAAAAAABAAAAAQAAAAEAAAAAAAAAAQAAAAEAAAAAAAAAAgAAAAEAAAAAAAAAAQAAAAEAAAACAAAAAQAAAAAAAAABAAAAAAAAAAEAAAAAAAAAAAAAAAAAAAABAAAAAQAAAAAAAAABAAAAAQAAAAAAAAACAAAAAQAAAAEAAAAAAAAAAQAAAAIAAAACAAAAAgAAAAEAAAABAAAAAQAAAAEAAAABAAAAAgAAAAIAAAACAAAAAgAAAAAAAAACAAAAAQAAAAEAAAAAAAAAAQAAAAAAAAABAAAAAgAAAAAAAAACAAAAAAAAAAIAAAACAAAAAQAAAAEAAAACAAAAAgAAAAIAAAACAAAAAQAAAAAAAAABAAAAAgAAAAEAAAABAAAAAAAAAAIAAAABAAAAAgAAAAIAAAABAAAAAQAAAAEAAAAAAAAAAQAAAAEAAAAAAAAAAAAAAAEAAAABAAAAAQAAAAEAAAABAAAAAQAAAAIAAAAAAAAAAgAAAAAAAAABAAAAAgAAAAEAAAABAAAAAAAAAAAAAAAAAAAAAAAAAAEAAAABAAAAAAAAAAEAAAABAAAAAQAAAAAAAAABAAAAAAAAAAAAAAAAAAAAAAAAAAEAAAACAAAAAAAAAAEAAAABAAAAAgAAAAAAAAABAAAAAAAAAAEAAAABAAAAAAAAAAEAAAABAAAAAAAAAAEAAAACAAAAAQAAAAEAAAABAAAAAQAAAAAAAAAAAAAAAgAAAAEAAAAAAAAAAgAAAAEAAAACAAAAAQAAAAEAAAAAAAAAAAAAAAEAAAAAAAAAAgAAAAEAAAACAAAAAQAAAAEAAAABAAAAAgAAAAEAAAAAAAAAAAAAAAAAAAACAAAAAgAAAAAAAAABAAAAAQAAAAIAAAACAAAAAAAAAAIAAAABAAAAAQAAAAAAAAABAAAAAgAAAAAAAAAAAAAAAQAAAAEAAAACAAAAAAAAAAIAAAACAAAAAAAAAAEAAAABAAAAAAAAAAAAAAABAAAAAgAAAAEAAAAAAAAAAQAAAAIAAAABAAAAAQAAAAIAAAACAAAAAAAAAAIAAAACAAAAAQAAAAAAAAABAAAAAQAAAAEAAAACAAAAAgAAAAAAAAABAAAAAAAAAAAAAAAAAAAAAQAAAAIAAAABAAAAAQAAAAEAAAABAAAAAgAAAAAAAAACAAAAAAAAAAEAAAABAAAAAgAAAAEAAAAAAAAAAgAAAAAAAAAAAAAAAQAAAAIAAAABAAAAAAAAAAIAAAACAAAAAQAAAAAAAAAAAAAAAAAAAAEAAAAAAAAAAAAAAAEAAAABAAAAAQAAAAEAAAABAAAAAAAAAAEAAAAAAAAAAQAAAAAAAAABAAAAAAAAAAAAAAABAAAAAQAAAAEAAAAAAAAAAgAAAAEAAAABAAAAAAAAAAIAAAABAAAAAQAAAAEAAAABAAAAAQAAAAEAAAAAAAAAAAAAAAEAAAABAAAAAQAAAAEAAAABAAAAAgAAAAIAAAAAAAAAAQAAAAIAAAAAAAAAAAAAAAIAAAACAAAAAQAAAAIAAAABAAAAAQAAAAAAAAABAAAAAQAAAAAAAAAAAAAAAAAAAAEAAAACAAAAAQAAAAIAAAABAAAAAAAAAAIAAAAAAAAAAAAAAAIAAAACAAAAAAAAAAEAAAABAAAAAAAAAAAAAAABAAAAAgAAAAAAAAABAAAAAgAAAAIAAAACAAAAAQAAAAEAAAABAAAAAgAAAAAAAAABAAAAAgAAAAEAAAAAAAAAAAAAAAIAAAABAAAAAQAAAAAAAAABAAAAAgAAAAAAAAABAAAAAQAAAAEAAAACAAAAAAAAAAEAAAABAAAAAgAAAAEAAAACAAAAAQAAAAEAAAAAAAAAAAAAAAEAAAAAAAAAAAAAAAEAAAACAAAAAgAAAAEAAAAAAAAAAQAAAAEAAAACAAAAAQAAAAEAAAAAAAAAAgAAAAAAAAACAAAAAQAAAAAAAAABAAAAAgAAAAEAAAAAAAAAAAAAAAAAAAABAAAAAQAAAAEAAAABAAAAAAAAAAEAAAABAAAAAQAAAAEAAAAAAAAAAQAAAAEAAAABAAAAAgAAAAIAAAAAAAAAAQAAAAEAAAABAAAAAQAAAAEAAAACAAAAAAAAAAIAAAAAAAAAAAAAAAAAAAABAAAAAQAAAAEAAAAAAAAAAgAAAAIAAAABAAAAAgAAAAEAAAAAAAAAAAAAAAEAAAABAAAAAQAAAAEAAAABAAAAAQAAAAEAAAAAAAAAAAAAAAEAAAACAAAAAgAAAAAAAAACAAAAAQAAAAEAAAACAAAAAQAAAAEAAAAAAAAAAAAAAAAAAAABAAAAAQAAAAEAAAABAAAAAAAAAAEAAAACAAAAAgAAAAIAAAABAAAAAQAAAAAAAAAAAAAAAgAAAAAAAAABAAAAAgAAAAEAAAAAAAAAAQAAAAAAAAABAAAAAQAAAAEAAAACAAAAAgAAAAAAAAABAAAAAAAAAAEAAAABAAAAAQAAAAEAAAACAAAAAgAAAAEAAAABAAAAAQAAAAAAAAACAAAAAQAAAAEAAAAAAAAAAgAAAAIAAAABAAAAAAAAAAEAAAABAAAAAQAAAAIAAAACAAAAAQAAAAEAAAAAAAAAAQAAAAIAAAABAAAAAQAAAAIAAAAAAAAAAAAAAAIAAAABAAAAAQAAAAIAAAAAAAAAAAAAAAEAAAABAAAAAQAAAAAAAAABAAAAAgAAAAIAAAAAAAAAAAAAAAEAAAACAAAAAAAAAAEAAAABAAAAAAAAAAEAAAAAAAAAAQAAAAEAAAABAAAAAgAAAAEAAAACAAAAAQAAAAAAAAABAAAAAQAAAAEAAAABAAAAAgAAAAEAAAACAAAAAQAAAAIAAAACAAAAAQAAAAEAAAAAAAAAAQAAAAEAAAABAAAAAQAAAAEAAAACAAAAAAAAAAEAAAABAAAAAQAAAAAAAAAAAAAAAgAAAAIAAAAAAAAAAQAAAAIAAAABAAAAAgAAAAAAAAACAAAAAQAAAAEAAAACAAAAAQAAAAIAAAAAAAAAAQAAAAAAAAABAAAAAAAAAAIAAAAAAAAAAAAAAAEAAAABAAAAAQAAAAIAAAACAAAAAgAAAAEAAAABAAAAAAAAAAEAAAABAAAAAAAAAAAAAAABAAAAAgAAAAIAAAAAAAAAAgAAAAEAAAABAAAAAQAAAAEAAAAAAAAAAAAAAAAAAAABAAAAAAAAAAAAAAACAAAAAQAAAAAAAAAAAAAAAAAAAAEAAAAAAAAAAAAAAAEAAAABAAAAAgAAAAEAAAABAAAAAgAAAAIAAAAAAAAAAAAAAAAAAAABAAAAAQAAAAAAAAAAAAAAAAAAAAAAAAAAAAAAAgAAAAEAAAACAAAAAAAAAAIAAAAAAAAAAQAAAAIAAAAAAAAAAQAAAAIAAAAAAAAAAgAAAAEAAAAAAAAAAQAAAAEAAAABAAAAAAAAAAEAAAACAAAAAgAAAAEAAAAAAAAAAAAAAAAAAAAAAAAAAQAAAAAAAAABAAAAAQAAAAIAAAABAAAAAgAAAAEAAAACAAAAAgAAAAEAAAABAAAAAQAAAAEAAAACAAAAAAAAAAIAAAACAAAAAAAAAAEAAAACAAAAAQAAAAAAAAABAAAAAQAAAAAAAAABAAAAAQAAAAEAAAAAAAAAAQAAAAIAAAAAAAAAAQAAAAEAAAABAAAAAAAAAAAAAAACAAAAAQAAAAAAAAACAAAAAQAAAAEAAAAAAAAAAQAAAAEAAAACAAAAAQAAAAEAAAABAAAAAAAAAAIAAAABAAAAAgAAAAAAAAAAAAAAAQAAAAAAAAAAAAAAAQAAAAIAAAABAAAAAQAAAAEAAAABAAAAAgAAAAEAAAACAAAAAAAAAAIAAAABAAAAAQAAAAAAAAACAAAAAAAAAAAAAAABAAAAAAAAAAEAAAABAAAAAQAAAAIAAAACAAAAAQAAAAEAAAABAAAAAQAAAAIAAAABAAAAAQAAAAEAAAABAAAAAQAAAAAAAAABAAAAAAAAAAAAAAAAAAAAAQAAAAAAAAABAAAAAQAAAAIAAAABAAAAAQAAAAEAAAACAAAAAAAAAAEAAAACAAAAAQAAAAIAAAABAAAAAAAAAAEAAAABAAAAAQAAAAAAAAAAAAAAAQAAAAAAAAABAAAAAAAAAAAAAAACAAAAAQAAAAAAAAABAAAAAgAAAAAAAAAAAAAAAQAAAAAAAAABAAAAAgAAAAEAAAAAAAAAAAAAAAEAAAAAAAAAAQAAAAEAAAABAAAAAQAAAAAAAAAAAAAAAAAAAAIAAAAAAAAAAgAAAAEAAAAAAAAAAQAAAAEAAAABAAAAAQAAAAAAAAACAAAAAQAAAAIAAAABAAAAAQAAAAEAAAACAAAAAgAAAAAAAAACAAAAAQAAAAEAAAABAAAAAgAAAAEAAAAAAAAAAgAAAAEAAAAAAAAAAAAAAAAAAAABAAAAAAAAAAEAAAAAAAAAAgAAAAAAAAAAAAAAAgAAAAEAAAABAAAAAAAAAAEAAAABAAAAAQAAAAAAAAABAAAAAQAAAAEAAAAAAAAAAAAAAAEAAAAAAAAAAQAAAAEAAAABAAAAAgAAAAAAAAABAAAAAQAAAAEAAAABAAAAAQAAAAIAAAABAAAAAQAAAAEAAAABAAAAAAAAAAAAAAABAAAAAQAAAAEAAAABAAAAAQAAAAAAAAAAAAAAAgAAAAEAAAABAAAAAAAAAAEAAAAAAAAAAgAAAAAAAAACAAAAAAAAAAEAAAAAAAAAAAAAAAEAAAAAAAAAAAAAAAEAAAABAAAAAQAAAAEAAAABAAAAAQAAAAEAAAABAAAAAQAAAAAAAAAAAAAAAAAAAAAAAAAAAAAAAAAAAAIAAAABAAAAAQAAAAEAAAAAAAAAAgAAAAEAAAAAAAAAAAAAAAIAAAABAAAAAAAAAAEAAAACAAAAAgAAAAEAAAACAAAAAQAAAAIAAAACAAAAAQAAAAAAAAACAAAAAAAAAAAAAAABAAAAAAAAAAIAAAAAAAAAAgAAAAIAAAABAAAAAQAAAAAAAAABAAAAAgAAAAEAAAABAAAAAQAAAAEAAAABAAAAAQAAAAAAAAAAAAAAAQAAAAAAAAACAAAAAQAAAAEAAAACAAAAAQAAAAAAAAACAAAAAAAAAAIAAAACAAAAAQAAAAEAAAAAAAAAAQAAAAIAAAAAAAAAAQAAAAEAAAAAAAAAAAAAAAIAAAABAAAAAQAAAAEAAAAAAAAAAAAAAAEAAAABAAAAAAAAAAIAAAAAAAAAAAAAAAIAAAAAAAAAAQAAAAAAAAABAAAAAQAAAAIAAAACAAAAAAAAAAAAAAABAAAAAAAAAAAAAAABAAAAAQAAAAIAAAABAAAAAAAAAAEAAAAAAAAAAgAAAAEAAAAAAAAAAQAAAAIAAAABAAAAAQAAAAEAAAACAAAAAQAAAAEAAAABAAAAAQAAAAEAAAABAAAAAAAAAAIAAAABAAAAAQAAAAEAAAABAAAAAAAAAAEAAAACAAAAAgAAAAEAAAABAAAAAAAAAAEAAAAAAAAAAAAAAAEAAAABAAAAAgAAAAAAAAABAAAAAQAAAAEAAAABAAAAAQAAAAAAAAACAAAAAAAAAAEAAAABAAAAAQAAAAEAAAAAAAAAAAAAAAAAAAABAAAAAQAAAAAAAAABAAAAAgAAAAEAAAABAAAAAQAAAAEAAAACAAAAAAAAAAAAAAABAAAAAAAAAAEAAAACAAAAAQAAAAEAAAAAAAAAAQAAAAAAAAACAAAAAAAAAAEAAAABAAAAAQAAAAIAAAABAAAAAgAAAAEAAAABAAAAAQAAAAIAAAAAAAAAAAAAAAIAAAAAAAAAAQAAAAEAAAAAAAAAAQAAAAIAAAACAAAAAQAAAAAAAAABAAAAAAAAAAEAAAABAAAAAQAAAAEAAAAAAAAAAQAAAAAAAAAAAAAAAQAAAAIAAAACAAAAAAAAAAEAAAABAAAAAAAAAAAAAAABAAAAAQAAAAIAAAACAAAAAgAAAAAAAAABAAAAAAAAAAEAAAABAAAAAAAAAAEAAAAAAAAAAQAAAAAAAAABAAAAAQAAAAAAAAABAAAAAAAAAAEAAAABAAAAAgAAAAEAAAABAAAAAAAAAAEAAAACAAAAAgAAAAAAAAACAAAAAQAAAAAAAAAAAAAAAAAAAAEAAAACAAAAAgAAAAIAAAAAAAAAAQAAAAEAAAABAAAAAQAAAAEAAAAAAAAAAgAAAAEAAAABAAAAAAAAAAAAAAACAAAAAQAAAAEAAAAAAAAAAQAAAAIAAAABAAAAAAAAAAAAAAACAAAAAQAAAAIAAAABAAAAAgAAAAEAAAACAAAAAQAAAAEAAAAAAAAAAQAAAAEAAAACAAAAAAAAAAEAAAAAAAAAAAAAAAEAAAABAAAAAQAAAAAAAAACAAAAAAAAAAEAAAABAAAAAAAAAAEAAAACAAAAAgAAAAAAAAABAAAAAAAAAAAAAAACAAAAAQAAAAIAAAACAAAAAQAAAAEAAAABAAAAAgAAAAEAAAACAAAAAQAAAAIAAAACAAAAAQAAAAEAAAAAAAAAAQAAAAIAAAABAAAAAQAAAAEAAAAAAAAAAQAAAAEAAAAAAAAAAgAAAAAAAAABAAAAAQAAAAIAAAAAAAAAAgAAAAEAAAACAAAAAAAAAAIAAAABAAAAAQAAAAEAAAAAAAAAAQAAAAAAAAAAAAAAAQAAAAEAAAAAAAAAAgAAAAEAAAACAAAAAAAAAAEAAAACAAAAAQAAAAAAAAAAAAAAAAAAAAAAAAABAAAAAQAAAAIAAAABAAAAAgAAAAEAAAABAAAAAQAAAAEAAAAAAAAAAQAAAAAAAAACAAAAAQAAAAAAAAAAAAAAAQAAAAEAAAACAAAAAQAAAAEAAAACAAAAAAAAAAIAAAABAAAAAAAAAAEAAAABAAAAAAAAAAAAAAAAAAAAAgAAAAAAAAAAAAAAAQAAAAAAAAACAAAAAAAAAAEAAAABAAAAAAAAAAEAAAAAAAAAAgAAAAAAAAAAAAAAAAAAAAEAAAAAAAAAAAAAAAAAAAACAAAAAQAAAAEAAAAAAAAAAQAAAAAAAAAAAAAAAAAAAAIAAAABAAAAAQAAAAEAAAABAAAAAAAAAAIAAAACAAAAAAAAAAIAAAAAAAAAAQAAAAEAAAAAAAAAAAAAAAIAAAACAAAAAgAAAAEAAAABAAAAAgAAAAIAAAAAAAAAAgAAAAAAAAAAAAAAAAAAAAAAAAABAAAAAAAAAAEAAAAAAAAAAAAAAAAAAAACAAAAAQAAAAEAAAAAAAAAAQAAAAEAAAAAAAAAAAAAAAEAAAAAAAAAAgAAAAEAAAACAAAAAAAAAAIAAAAAAAAAAAAAAAAAAAABAAAAAQAAAAEAAAACAAAAAQAAAAEAAAABAAAAAAAAAAAAAAAAAAAAAQAAAAEAAAABAAAAAgAAAAEAAAABAAAAAgAAAAEAAAABAAAAAQAAAAAAAAABAAAAAgAAAAAAAAABAAAAAQAAAAIAAAABAAAAAQAAAAAAAAAAAAAAAQAAAAEAAAABAAAAAAAAAAAAAAABAAAAAAAAAAEAAAABAAAAAAAAAAEAAAAAAAAAAQAAAAEAAAABAAAAAQAAAAEAAAAAAAAAAAAAAAEAAAAAAAAAAgAAAAEAAAAAAAAAAgAAAAAAAAABAAAAAgAAAAIAAAAAAAAAAAAAAAAAAAACAAAAAgAAAAAAAAACAAAAAAAAAAEAAAAAAAAAAQAAAAAAAAABAAAAAAAAAAIAAAAAAAAAAQAAAAIAAAABAAAAAgAAAAIAAAACAAAAAQAAAAEAAAABAAAAAQAAAAIAAAAAAAAAAgAAAAIAAAACAAAAAQAAAAIAAAAAAAAAAQAAAAEAAAABAAAAAQAAAAIAAAACAAAAAQAAAAEAAAABAAAAAgAAAAIAAAABAAAAAgAAAAEAAAABAAAAAQAAAAEAAAAAAAAAAQAAAAIAAAAAAAAAAgAAAAEAAAABAAAAAQAAAAAAAAABAAAAAQAAAAEAAAABAAAAAQAAAAAAAAACAAAAAAAAAAEAAAABAAAAAgAAAAEAAAABAAAAAAAAAAEAAAABAAAAAAAAAAIAAAACAAAAAQAAAAEAAAACAAAAAAAAAAIAAAABAAAAAAAAAAAAAAACAAAAAgAAAAIAAAACAAAAAgAAAAEAAAABAAAAAAAAAAIAAAABAAAAAgAAAAEAAAABAAAAAgAAAAEAAAABAAAAAgAAAAEAAAACAAAAAgAAAAEAAAACAAAAAAAAAAEAAAABAAAAAgAAAAEAAAABAAAAAAAAAAIAAAACAAAAAgAAAAIAAAABAAAAAQAAAAAAAAABAAAAAQAAAAEAAAABAAAAAQAAAAEAAAABAAAAAgAAAAEAAAABAAAAAQAAAAEAAAACAAAAAQAAAAAAAAABAAAAAQAAAAAAAAABAAAAAgAAAAIAAAABAAAAAAAAAAIAAAABAAAAAQAAAAAAAAABAAAAAQAAAAAAAAABAAAAAQAAAAIAAAAAAAAAAgAAAAIAAAAAAAAAAgAAAAAAAAAAAAAAAgAAAAAAAAABAAAAAQAAAAEAAAABAAAAAgAAAAIAAAAAAAAAAQAAAAAAAAAAAAAAAAAAAAIAAAABAAAAAAAAAAEAAAABAAAAAAAAAAEAAAABAAAAAgAAAAIAAAAAAAAAAQAAAAEAAAACAAAAAgAAAAAAAAABAAAAAAAAAAIAAAACAAAAAQAAAAAAAAABAAAAAAAAAAEAAAABAAAAAgAAAAEAAAACAAAAAQAAAAEAAAACAAAAAAAAAAEAAAABAAAAAAAAAAAAAAABAAAAAQAAAAEAAAABAAAAAQAAAAEAAAABAAAAAQAAAAEAAAACAAAAAQAAAAAAAAABAAAAAgAAAAEAAAAAAAAAAQAAAAEAAAAAAAAAAAAAAAAAAAABAAAAAgAAAAAAAAAAAAAAAAAAAAAAAAABAAAAAgAAAAEAAAACAAAAAAAAAAEAAAACAAAAAgAAAAEAAAACAAAAAQAAAAEAAAAAAAAAAQAAAAIAAAACAAAAAAAAAAEAAAABAAAAAAAAAAEAAAACAAAAAgAAAAEAAAABAAAAAQAAAAIAAAAAAAAAAgAAAAAAAAABAAAAAAAAAAIAAAAAAAAAAAAAAAIAAAABAAAAAAAAAAAAAAAAAAAAAQAAAAIAAAABAAAAAAAAAAAAAAAAAAAAAQAAAAAAAAAAAAAAAAAAAAEAAAABAAAAAQAAAAIAAAABAAAAAQAAAAEAAAAAAAAAAAAAAAAAAAABAAAAAgAAAAEAAAABAAAAAgAAAAIAAAABAAAAAAAAAAEAAAABAAAAAQAAAAEAAAABAAAAAgAAAAIAAAABAAAAAAAAAAAAAAA=",
           "dtype": "i4"
          },
          "coloraxis": "coloraxis",
          "opacity": 0.7,
          "size": 4,
          "symbol": "circle"
         },
         "mode": "markers",
         "name": "",
         "scene": "scene",
         "showlegend": false,
         "type": "scatter3d",
         "x": {
          "bdata": "RgEDAAEABAAEANcARwBLADwAAwAGAAMAUQEmAAcBIQCSABsBPACuACIAAwCQAAUARwBCAB4ADAEXACAAYQAnAYcATwB1AQgA0wA1AIsAGwC6AFUARwEbAZAABADtAC0AFAEKABkAWQBAAEQA1wAZALoAHwArAM0ACQAJARMADACxACgAGAADAAUAlQCLAIEACQASAAoAogBBAFkABQAkADgBTwAWABkAAwASABAAGgBBADcAhAAkACEBkAARAB8AAwAJAAYACgACADMBCgAIAAkAWgAKAGcBcQAIAAQAxgDUAJ0AngAeAPMAEwABAEoAJQEEACAAGAAYAAUAVgAXAMUAawAFAD8BagAMAK4AOQBEAXUBCgACAAsANgBKAAgAEQAFAEEAAgByABcAHwAMADUAZgE3AEoAiwBRAAkAEgEkAWQAHwAgAA8AQQAPANUATwAZAPoA/gBJAMAADQB2ARkAUwALAAEAwQALAYIAAgAEAAUAtAAMAH8ABQCeAAMACQAdAEcAFAEWAEcAIQACAGQA6wACACgABACGAC0AdQE8ACAAAQAMAIsAFgAUAO8ADgFfAFoABQBOAF8AGAAGARIBVgDFADkACwAXABEAbQBVABQATQEoABsACwAeAA8AKAEGACIAMgBfAAkAFwA6AXsALwAcARMAJQBAABsAFgAFABEALwBBABsALgAIAA8ADAEoAFIBDAATAGAAPgCIAAwACwAEABQACgAQADsAHwBeAAsAFAA5AAwBewCAAE8A8QDJAD0ABAASAcoAUgDiAAUADQBLANUAGQASAAYBYQBxAMwAXQAzABMAEgB9AF0AnQAKAAwAPgA+AA0BCAECADYADAADABIAAgBvASYAIAByAEAAEAApAE8AewATADwASwEYAJwAJwC+AGgBigAIAAIADQGqAGgAnABgAQUAeQAXAAgAHQAFABcAAgAmAEMAAgAGAE8ASQASAAQAJQBSACcAPQEgAF0ADwBTAE4AngDJAC4ABQGyAEQAIAFHAEEACwARAEMAPQBIAHsAUQACAQ0BQAAKABIASAAiADMAAQFuAXQBWgA9AFkAZAAbACAAGQEfAEoBhAAMAEsAzAACALoAHgBJAMEAgAASAAIASwACABkAbACGACwABQAMAEAAlgApAEEAbQABABQACwALABMARABLAAYAAgAPAAABXAAYABEAGAAbABsABAGmABkAEgAIAB4AJwD9ADsAuQALAAIAZAACAD0A7QDAALMAJgDJAC4A6QBCAPIA6gBPADoAEgBqADQAOAEIAAsAGwESABgAEQBIAEEAPQEEAPQACQACAAUBfwBKAEkAFgA8AFYATwACAB8AIgApAA8AIgBPAM4AIgC3AAMAAgAsAFYAKAANAGEAGgBAAUMASgAdAAYACADYAFIAVQCRABQAKQCuABIA9AANAM4AMwAYAAsAGgAPADYBnAAzAUAAEAAPAAwAQQAkAG0ANQAGADAAAgA5AS4AQQAbAB4AKQANAFoAGQA/ASkArgB1AB8A/QA8ABgABgBkABkAIgBEACUANQAQAEsA2AAgABEAeQAKAAEBEQAkAC4ALABzAKUACwAKAM4AVgC0AD0AlgADADMATAAuARMAmACYAAIAEgC8AB4BAwC3AEAAPAAZAAQAIAAnAJwAGwA/AQYACAAvAQwBEAEEACAA2wD3ABoBDgEhAPcAEAB1ACUAhADaADIAJwAdACUAiADcAB0AGQAGAMkAEwDxAEgAEQADAGAAowB2AWAANgAhAX0AIAGYAAQAAwAMACIANwAzANsAQABHAAMAAwBBACIAUgABAGgACAD7AA0ACgBwAUwABQCAAEMAAgB1ADYBQwCLAAABHwA1AEAAcAEGAC4BkQAGABMAIQCxADoAFwARABQAoAAaANQABgD9ADsADABBABkAXQA0AIIAYAA6AAkAqQA6AEcBAgATAPgAOwBLACAACAB8AAMAFwB4AGcBNgBAAFcANwAWAAQAAwALAAgAvgBIAM0AeABdAAIAGwAqARgAHQAzAEYBEQC4AEkAJgBQADoADAAyADIAYAE2AAIAXQAYAEsACwCqADoAYAAnAW4ACAG0AKoAJAAYABIAFgBQAEIAaQEDAAwAsQDaAAgAAgCbAAYAUAAWABYANQGSAAgAEwBHACABMgAgAM8ADwBKAD0AKAAeABsABQASABQAQgDWAA0AHwArAAQAEAALANQALgCHACwACgB0AMcAFgFvAE4ANQAvABEAnADiAAgAegA9AEAAEwAIAAMAFwAdAB0BsQBPACIAKQALARsAbgAdAQkAMgERACAAAQAUAH0AQgBrAAIAGAALAQUACgAeAAsBQABBAQQAIQAFAIIAKQBmAH0AIQAvAW0BBQADAAMACwA5AEUBCAANAAUAJQARAIoASgAGAJsA8AA0AB8ASQAEAA8AFwAEABIBFACQAAQAVQALAAgAewA9AAIAQAEDAIIAAgACAC8ABAADAHYBhgAvAAkATwDqAN0AJABMAPAACwEUACkAFADYAK4AWABHABQBKABjAAsAIgA8ACoBVwAJACkACwBDAEwBHwADAAIARAAFAMoAawATANsAPQADABEA8ABfAAsAagA2AFoAHwAMAAQAAgArAAUA+AArALIAXQBvAB0AGwA0ALgAKwAyABcATABRAHYBRwEsAB8AuADrAAkA3ABvABcBPwEIAAIABQFBAAoAjgAzAAkAmwCjAEwB4gBKADQAYwDFAAQAHwAWABgACQDWAAkADAACAAgABAApABIACQAJABMAdgDfAEgANABZAAkA8wAvAGsALQBBAM8ACwBzAPMApAASAH0AFwBEABEAEQCiAPMA2wAuABYAgAAnAHkABQELABMBpQCeANgABgBuAVAALAAUACAAFwBtAAkAQAEoAWcBugDAAC0ANQAbACcACgApASEACwBCAAsA2wADAEIAAwCWAAUAgwAiAHgAbAALAEgAXQA3ASsAawFcAAIAFwAEAAsAZAA6AAEA2wASABgAMwAIAC8BCgAWAGMAbgEzAQkAAQA2AAEAEwAKABMAtQA9AAsAvwAGADcBnABvAJUAQwBjAPcAHgASAAwAaABLAC8ASAACARQA/gAMAKUAEwAaATMAJwAbAEQA0ACwAAgAGgAzADgBNgErABsAWQC4ABQABAAwABIAEgAYABcADAC8AGUAPgASACIAQQACABkAbQAgABQAAwAmAD0AGgDtABkAAwA9AAQBOgBBABAACgA7ALoAHQAZAAYABACXADgBCwATAJgAFAALADoAVgAIAEwABABgADkAAgAZAQQAtAB1AQ0ABAARACkABgCqADMAFQETAHQBEAAkABYACAAUAAwALQAyAQsAEwECABAABQBJAPMACgD2AM4AAgC5ACEAOgDFABgAXAAFADMABwELASUAMwA1ABkAFgA7AKsARACdAMoABQBEAE4AAgAJAKoAEgAGAAkAVwAbAB0AFAA9ABkACwDyABkB6wAEABEAIAAaAEgAvAAaAGsACADRAC0AHwCKAAkBBQDbAAIA1wAhAAsAAgAPAAwAxwADABAADwALAB4ACgAZABkALAACAAYAlAALABkAEwF2AQIAMAAJABEABAAEACsABQDGAAwAEQBxAPoAHgAsAFgALQAKABAATACRAAUAKgE7AAgBLwAeAAkAEgADAOkAcQA7ADQAgAAZATcAQAEbAAsACAAdABEAQAAWAAMApwACADUANAAwAD4AowAJABAATAAoACkAcgElAMYAyQBKAEEAFgBvAbUACwAEAMUAHgA2ABIACwBaAAwBNgAsAEAAlQAWADgBGAA7ABkATwB4ACUAPAANABQANQAaAB4ACAALALoABAAJAAYBBADTAGwADQBOABQAGwATAIQA/QBQANAAUQH+AJUACgBWAAgAzQAIABgADAAaABYAAwCeAAQASwADACQAXABHAHQA1QAfADMA9gAhAB4ADwBJABgAFABQADwAGgANAP4AlABBAAkACwAPAQoA+ABhAA8AMgAfAEUAJACBAGwAJgA6ADoASQD3ABQAxwAQANQAJwAvAKsAMAB0AJQAEAA0AKAADQAkADYALACtACIAJwALAQkADAAEAAoAIgBRAB8ACQBIAAUAAQEFABAAWgBJADsACgCrAMgAIAAUAJgACgAOAUIAEgEaABgAQAEFAA0AFAEaACkACQAEAEgA1gAmADYATwAvALQAdQFeAAoAagBOAK0ACADVABcAAQEaARYACwA1AUQA2AATAGgAKwAFALcAVQBOAQkAIADFABMAEgA4AfYAGAAeAAoAHwATABIADwCHAPYAhgAzAHMACAAXABoAQgA9ADMAqgATAIAADwDwAAMA8AA1AC8A4gAJAAUApQDxAAsAhgASAAoAIABMAAIABAAuAAIAZgETAEUAdgFBARoATAEJAEMBSAAFARMAcAFDAJsAHgBHAA8AAgACAHgAPQAEAAMACwBdADwAWAAaAGYBVgALAAIA4gA9APIAPwECAC8AWAALALEANABvAT8B4gBnAesANwElAEMA8AByABUB2gArAQIAHgALAC0AQwBLAEIAhwDvAHsAIAAKACUAEQCAAEMAlQAcAakAZQCIAEQBawBBAJgAUwEXABgAEAAIADoABQAmAEMALwBjAa0AOwAyABcALAAeAAUAGgDKADMACwADAEQAQQAzACMBPQBBAGAAEwEBAEwAbwDIAEEARwEEABwBLQBHAFYAaABOATUAKAAhANEAnQA2AEMAUQCCAFgAAQAuAE0BbwFJAJ8AdgENAP8AHgAgAAUAKABqAXUBYAAaAEwAOgAWACkAigAJAIEAKQCqAAkA1gAPAKoAKQC7AK0ABQARAAoARgFxACIBEQACAF0AlQC+ACAAIgAJAVUAGwCsAAoAOgFBAFYAGQA7AEQBJwD/ABQAIgAQABsAGADWAAkAFwANAAcBhAA3APkAAgAKAAkBSwE5ARsAHwAeAAIAawEcAQcBGgBjAV8AHgBTARQAVgAKADQAMwADAHIADwBOACkAEACiAAIAHwBdABcAYAAdACEAFgASAAMACQAQAGsBUgA1ABcArAC+AEsBDACcACIADQAtAOoAQQACACkAIQBVABkAAwAiABMA/wAXABYACQAaABQArgCkAAgADABzACEBCgA3AAgATgAFACUA2gA9ABYBDQAZAB0ADABgARcAMwATAAMAaAAIAAwABQAgALIAJgCYAKMARQB5ABkAGACxADMAAAEvAEcAEABlACQANgAbAAwACQBPADUAJQA+AFEBHQC5ADQACgAlAAsAIQALADkABQAsAI4AdQBoAEsABQAuABAAEgBaADUAhwAFAGoAwACnABMAngDNAFEBJQBcAF0ACgD0AC4AFwC/ACwAGgA+AWsAMwCpACgA2gApACkBEwBZAEoAUgATADIANQAZAAoAGgB2AAkAeAAFAP0AHQABAAsBIgASAK0AAwAJAY0AygBAACQAKQAcAQoAkAAMAJIA6wAhABkADAAkAG0BygAQABEA1QBCANUAGwFzAA8AEwBDADIAEQBOABQAhwANACkA7AADACgAMQE0AAsAPgBCABkA2wBCACAAWQBBAHQACAAGAEUA9gCGAPIAuAAaAAoACwAhAC8AGwBnAQsALAAPAJYAAgByAEwAbAAvAI8ANAABABgALwAzADMBJQBPABcAbADQABEAQAAyAEABLQAEAHUBrQA5AEoAZAAmADsA/wBHAC0AMwBBAAwAIgA7AEkAMAEvABIAJwAUALsANAAFAIkABQATABAAKQANAAkAGgAXACkAZgAGABYBIQAPAEAAAgByATkBxwADAF0APQBRAJ0A4wD+AJYAwwACAHEBGAARAAoACQAUAAQArgABALMAEQD4AL8AFACbAK0AdgF1AcMARAAFABYA8ABBAHEAWgA4AYYAFQFuAVMACQARACAACQAiABAAGQAgAEsAFAASABgAAwAwARIAbwEoAFUApgASAE4AWQAZABcAAwB8AB8ADQAUAC0ABAAJADcAWQAlAAMAHgANANQAMAAYABcA9gAJACQABAAmAAQABAAwACgALwARAAUBLwANAB4ALABcACcANgFdAAYAxQBYAA4BCABCAB8AFwAmAHgAdgEpAK4ANwAhAJIA3QAuABEAQgAKAAUBbgERABcALQAhASoBBAAcAREAUgA5AGUALAEYADwAmwBzAGsADAAJAfEAWAAzAEcAKwAIAD4A+QBCABIAVQDbAC4AkAC4AKsACgDUAL4ACQA8ADoASgA0AD4BcAEeACgAEgA0AAQAFgAHATwAEwBCAFkA+gAEAPcACQCeAIYAKQEFACsADQEyAAkAEAAaAUIAAgD9AOkAEgALAAkAMwA8AGAAEAB/AF8AMwCLAD0AZQBKAEkARABBABEAFwAgAC0AEAApAAMA7QBMAAUABABpATsAGAAfADcAGgAtAFkAAgBZABQATwCrAFEADAHsAB4AJQA/AToALQDMAOIAWAC+ACwASAApAE8AOQAZAAoACQAiANQAGACrAD4ANQAGAUMAEQALAbEALgAzABIACgBKAEgAYgEDAHUAdgHFALEAZQAWAEkAVAEGACAAqgB6ABYACgANARcAfwAaAIsA1gAmAGsAEgAEAEsBQQB4ACQA2gACAMUAgQAvAAYADwASAB0ACAAlAJ4AHQFsABkATAARAJ8ALQAMACEAIwEWAE0BEgAEAEAAxgAiAAIACAAFAAoAIQA2AAwAEgATACYAAwATAFMAIgBDAAkADAH4AAUAPgBLAFoAPQAdAEMBNgAOAQMAOQA9AJsAFABfAAIACQE5AUcALwETAA0AJQAUADYAOQAWAC0AGwAtAHEAEgAZAMAALwEDAAgBawA6ANYAQQAdAB4ABgAIAEQAAgAvACIAAQCIAMcAxgCWAFgALQBAAGQA2wADAB0AsgBKABYAFAAiAEsAGAA0ABMBpQAIAFkAQAAaAAsATAAQAMEArgBOACIALwBQACkBBAAJADIAogBpAQUAawAaACAAFAApAXUBFgAFADUAHwAWAT4AGgC7AAIAAwCsAFIABAC/ABcAEgAUAAYAbwADADYApQAjAQsAbQBgAPMApAArACQAQwAZAAEAGwAGADYAbQEQAMMABAAQABsAgABVAEgAtwByAHYBUQD5AOkASABFAAUAMwBMAD4AEAAFAB4BBQApACUASwASABAA3AC7ACEARwC3ABAA7AAgAAgBBAA0APYAUQATAQEAUAAeAEoAEgDfACEAFwAgAGoABQD2ALIAqgArAEgAOwARAI4AEgAXAAoAcQG+ABEAawEUAEUAEAAYABEAHQADADcAIgADAG8BLABJAAUABQA+ADAAAgBMAEkAAQFFAIgA8gDjAAkACQABACYALgBVABQABAAKABMA2wBPAAsBGAByAQ8AGwAHARIAXAAvARsAbQEvACcANQAgADUATwA2ACoBsQAvAB4ADABXAAUAJgASAC0AHwB1ATsAdQFzANcAPwFCAAgAYQAUAMcABAAnARIBHwAwAAUBOgAiADoARAALAD0AUQBLAAMAZQB1AQsAFAB8AAkABAAeABsBOgACAG4BWgAMAKQAQgAYAK4AaACPAGQAGADBAAUAaQEJAA8AaAADAAsAYADkABAAJwA0AF4AnQAnALkAAgDkAIEAKAAgAMYACQAlAGUAKwAzACwANQC7AE4BBQALABgADwBxAZEAPAAgAI0AFwAXAE4ABQBEAA0AVQAfAEMAQwC8ACYAEAAkAMMAAgACAG8BQQAsARsACAARAHUAHgAFAAYAUgAeAEkABQAdACMBJQAKABgAFQEyAJ0APgANABYAdAF0AFEABAAbAAYANgACADcAGgAJADUADQDUABYA7ACLAAQAOQCHAG4AHwABALkAEgDwAFgAJwB1ALwA4wAJAL4ABQAoACcADAFOAAQAAAE9AA0AWQASAB4ABAAGAAgA2wALAB8AIQGWABgAAQBWAC8ABQAzABMAHwAJAB0AAwApAAwAIAAuAD0AugBPAG8AQAAMAFcAEQD2AFgAHwCKABsAAwAhABoAcgCeAFYAdgADAGEAwwAdAIMAHQBSAB4ACwFKADoBFgA7AA0AHQBzAB0AEgASACUAJQBPABcAGgAiAG4AJAB8AAgAHQAFAAMAMwBDARcAEAATAAsABgGgACIAHgCmADAABgAJACEBPgEEAOoAeACiALoAMwCZAE8BBgAQAGsAEQAUARAA+ADwAAIAagAXADQAwwAZAEwAEgAIACEAFgAgAB0AFgAhAB0BJwA6ACIBTwAGANoALQDKALMAOQA6AAgALwDjAAwAawA7AB0AJAASAR4AGAA2ACQAsAA2ADYAGwD+ACkAPQDrAAUAIAAZAAgAQgA3ATUBEwAQAGEACQENAAMAJAC3ABoADQAMAAMAOQFtAAIANgDNABAAeQAEAGsBdQATAAUAKQBsAJUANQDRAIsAAwCAAGwAKwAkAOQA8gA6AIMAPQAWABsACgAgAAQANQEJAB0AEgBmAAwAFgAPAGoBCwBgAE8AiwAgABkAAgAvAGUACQAQABIAGQEPABcAfABWAC8BmAASAF8AHgCdAGQBLwAQAAQAVwAPALQACQAlAIIAMwA4ARkAMAEMABIAMgDwAAEADQDvABgASQASACkAKQDbAMgARwAYAAwACQBCAAUAFAAPAAgAFABOAAEApAAzAdwAKAAXAHMAfwAFACUAAgBOAaQAuQARAA0AAwAsAFAAHgArAAwAMwARAC8AFAAJAEgAAQCBACEAOgETAFkAAwACAP4AnQAlALEAKQADAAkAAgASAMEAzABuAX8AEAAsAF8AFwA9ABEAnwALAAsAEQAtAMAAUABOAAQAQgAGATsAAQACAPkACABnAUwAIgESAN0ACgADAM8AogBMAAYBOgAZAAMAHQBJAIEAIAAQADUBEgA2AB4AAgAMAGoBaAEFADYAAgACAL8ANgAZAbIAHgAaABkADgEsAOoAGADGAGgBPQCCAAIAFADOAA8AXwAUAA8AGQAJAAgATQEzAEgAHgDzAAkA2wAFAP0AAQDtAAgAbgBlAD0AAwBKAAQAVgANABgA1gASAPAAAwBPANoAIgApAAgANgAXADoAgwCuAAYAOQE8ABYAIQAPABMAUgAGAKoAAgAgACUAFAAgABUBVwB4AHYBAgDcAEIAPQCLABYADAAaACUAFgELAEoAGgASAI4AGgATAAQAQwACACsA5AAQADMAAgBLAAIABQACAAgBNQAYAAsALAARAAgAHwBnAYAAigCOAIQAJwDtAAUBEQD9AB8AJACpAAQABQC6ALwAqgALAC0AQQHJABcA6QAmABsAYQCAAEgAEQAQAAQABABQAHUBJwA2AAMACgAKABQADAByAAQA8QBxALMABgBoAQEAAgAUABIAFgAhAAgBMwCfABAACQANAMcAOQALAGEA/wAZABYAoABJADYAVgCZAEoAGgEbAB4AGgC0ACkAFwAXACYAUwBKAAwAEQAFAA0ADwAlAAUASAA0AAYAAgAiADIAAwAwACsAGwArAAIAMAFWAFIA2wB1AQwAugB1AQIABQAGADEBcQEEAEQBPAANAB8AjwAfAGwAAwDNAFEAugCrACwArgBtATEBBAAEAA0AIACCABYA1QBDAaMAOQDiAEgALQAYAK0AVgCgAL8AHgAWAEgA+AB2AQoANwE7AAQALgBZAAUAQQAbAQwAdQGGAC4ADAAkAIcAHgA0AIsABgAJAKAAMgCDAAgA6gAmAJQAAgBJACgABgDHAPoAQwB1AKwAFgCPACAAJgAmAHQBdgGnANQA8gA0ABkAEAB1AR4AbgEkAKYAkgAXADkAugAMAO0A4gB6ABoBSwAmAA0AawEEABgARwDsAAEBdgGcAB0ABQAhAFIAbQA0ACQAmQBjAAUATwFCABYAJAAhAJsAFAAMADYAGQAFAC4AzABoAUcACAAhAQoAGAAWAK4AhgAGAEwAKQAiARsAAgG6AHMAdgEYAAkA2gAuABMAJQAaABEASwETAWMAPgADAF4AUgA5AQwACACAAAwAAQAmACYASgH/AAIAFAANAHEBIwFEABoACwBwAdcAlgAJABkAHgA9ABQA9AAQANUAHgBAACgBEgCeAHUACAANAI0ALgAzACEAhwAEAEwADQAKAC4BOgAQACYAsgAYALEAPQAiADsADwBXAAgAZwEgAIEACgAFABkA5AAQAPoAEABOAMEABgFIAKYAUwBgAAUAawDIAJ4ASAAlAB0AAgAaAEcB7QBaACAAHgDUAAMA4wAXAF0ABQAIAQQALQDaADkADAAKAMEAUgBGAUgAHgADANsALwAKAEkACAAYAHsAEgA3AVgAMwBaACgAGQCtACwAjQAaAEkAhwBvAScAAwADAB8ALAA7AEoAFgG1AAgABAArAA==",
          "dtype": "i2"
         },
         "y": {
          "bdata": "AQALANEABQAEAAEAAgAFAAEABwADAAYAAgAGAAEAAgABAAEABAABAAIADgAEABkAAgAIAAIABAABAAIAAQABAAYAAwABAAYAAgABAAEABwAGAAIAAgABAAIADAACAAMAAQACAAQAAQADAAIAAgABAAMAAQACAAIAHAABAAIABQACAAUACAAFAAUAAgAEAAEABgABACUAAQABAAQAAgAFAAEAAgAPAAMABwAEAAQAAQAIAAIAAwACAAEABgAHAAgAAwAGAAQAAQALAAEACAACAAgAAQABAAIAAQAEAFYAAQABAAEACQACAAEAAQACAAIAAQAPAAMAAgAEAAMAAQAEAAMAAwANAAEAAwASAAIAAQABAAEACAANAAoABQADAAEAHAAJAAIABQAGAAIAAwACAAIAAQACAAIAAwADAAIAAQABAAEAAgAKAAQAAgARAAEAAwADAAEAAQABAAEABAABAAIAAQACABgAAQABAAEABAAaAAUAAQALAAkAAgACAGEADgABAAUACAAMAAEACgAcAAEAAQAYAAEABgABAAQAAQACAAcAGAAEAAEACAAFAAEAAQACAAMACAABAAEAAwABAAIABAABAAUACAAGAAcAAwAFAAEAAQAEAAEABAAMAAQAAQABAAQABAAEAAQAAQABAAQAAgABAAQABAACAAEAAwACAAMAAQABAAsAAQAJAAoAAQADAAEAAQACAAIAAQABAAQABgAmAAQABAACAAYACAABAAMAAwAFAAEAAwABAAQAAgACAAIABwABAAEAAQABAA4ABwACAAEAAgAEAAEABAADAAEAAQABAAYABAACAAMAAgACAAMAAQABAAIAAQAjAAUADAATAAsADwABAAEAAgABAAIABAABAAEAAwADAAIAAQAEAAEAAgACAAEAAQAEAAEAAQABAAQAAQABAAoAAQADAAUAAwACAAUAAwAEAAYAAwAaAAQAAgABAAUACgABAAgAAQACAAMAAQADAAEAAQABAAcAAQABAAMAAQABAAEAAQACAAEAAQABAAEAAQABAAEAAQAEAAIAAQACAAEAAgABAAEAAQADAAEAAwADAAYAAQAHAAEAAgADAAEAAQAIAAEAAgAFAAEAAgABAAIAAwA+AAUAAQADAAIAAgASAAEAAgACAAEAAwAKAAMAAQAEAAIAAgACAAcAAQAHAAEAAQADAAYAAQAGAAUAAgACAAIABgAOAAIAAwABAAEAAQACACUAAgAEAAIAAQAEAAIABgACAAUAAQABAAEAAQADAAMADQAEAAoAAQAFAAIAAgAFAAMAAwABAAEAAgAEAAEABwAEAAEAAQABAAQAAwADAAEAAQADAAEABQAFAAIABwACAAIAAQADABkABwAHAAMAAgADAAIABwABAAwABAACAAQAAQABAAMAAgADAAIAAgABAAIAAQAMAAEAAgAFABIABAACAAEAAQABAAEACQACAAYAAwAEAAUAAQACAAEAFQABAAIAAQABAAMAAQAHAAMABAABAAMAAQABAAUAAQAFAAsABwALAAUABQABAAUAAwABAAEAAQADAAQAAQAEAAIABgACAAMABgACAAIAAgAFAAIAAwABAAMAAQAVAAIAAQACAAIAAgABAAQABAABAAEABwABAAEAAQADADIADwABAAEACgABAAkAAwABAAIAAQANAAEAAgABAAUAAQAGAAIABQAEAAEAAwABAAgAAgACAAYAAgACAAEABAACAAEAAQABAAMADAAHAAIAAQABAAUABQABAAYAAQACAAkADgAHAAIAAgACAAEAAQADACUACgAEAAMAAQAhAAEAAgABAAYACwABAAIAAQACAAIAOQACAAEAAQADAAEABwACAAEAAQAFAAMAAgACAAIABQABAAMAAQAGAAEAAQAEAAIABAABAAkAAQABAAMAAwACAAEAAwABABkAAwABAAEABQAIAAEABAABAAMAAgAEAAgADQADAAEABQABAAEAAQANABQABQAFAAUAAgABAAEAAgABAAoABAABAAMABAABAAEAAgADAAUAAgAEAAkAAgACAAIAAQABAAYABAABAAEABAACAAIAAgABAAIAAQABAAEAAQADAAQABQADAAEAAQAGAAQAAwACAAcAAgACAAUAAwACAAIABAABABIACAACAAEAAQAGAAEAAgABAAEABAAMAAUADwABAAYAAgABAAYAAQAJAAYABQAMAAEAAwACAAcABQADAAIAAQADAAEAAQADAAIAAwABAAIAAgABAAIACAATAAsAAwAFAAEAAgADAAEADAABAAQABAABAAUAAQAEAAIAFwABAAIAAQABABcAEQABABMADAAFAAEAAgABAAgAAQADAAEABQAGAAEAAQACAAEACQASAAEADQABAAEADgABABEAAQALAAEABgAFAAIAAQAHAAIAAQAMAAQABwAEAAIABQABAAQAAQADAAMAAwACAAUAAQALAAMADwACAAEAAgAEAAEAAQAEAAUAAgABAAEAAgACAAIAAQACAAEACwADAAIABAACAAEABAABAAQAAQADAAQABAAHAAIAGQABAAEABgAPAA0AAgAVAAIAAQAEAAEABwABAAIAAQABAAYABgAJAAEABQAGAAQAEQABAAEAAgAJAAEAAwAEAAUACgADAAMABQAEAAQABQACAAEAAQALAAIAAQACAAoAAgADAAEAAQADAAUAAgAFAAkAAQACAAgAAgADAAEAAQACAAQAAwABAA8AAgAEAAMAAwABAAYABQALAAkABAABAAQALAAJAAEAAQABAAMAAgAGAAkAAQAGAAEABgABAAIABQACAAEAAQAHAAIAAwABAAgABAACAAEAAQAIAAQACAABAAIAAQABAAEAAQAEAAEAAgABAAIAAQADAAQAAQAIABAAAQABAAEAAQACAAIAAQABAAMAAwABAAMACAACAAkAAQAJAAIAEwABAA0ABAAGAAEABgAHAAYACQABAAIAAQAHAA0AAgADAAYAAQACAAYAAQABAAoAAgAFAAEABgAGAAEAAQABAAUABAAEAAQABQACAAQAAwACAAIAAQAJAAEAAQADAAMACwADAAMABwAEAAIACAACAAEAAwABAAQAAgABAAIABgABAAEAAQAGAAEAAQACAAUAAQACAAIAAQAFAAMAAwACAAsABgAEAAgABQAGAAIABQACAAMAAwAGAAIAAQACAAQAAQAJAAkANwABAAMABgAEAAcAEgADAAEAAQACAAIAAwAIAAEAEAACAAUACAACAAEAAgACAAEABQAEAAIAAQAWAAMAEgAEAAIAAQACAAcACQABAAQAAQABAAEABQAEAAEAAQAJAAEABAADAAMAAgAGAAIAAQABAAEAAQBdAA4ABAAEAAMAAwABAAIABQABAAUAAgACAAQAAgACAAMAAQABAAIAAQAGAAYAAQABAAIAAgACAAEABAACAAEABwAEAAIABAACAAkAAgABAAQAAgAFAAEAGQADAAIAAgAFAAEABgAQAAMAAgAFAAEAFQABAAIABQAEAAEABwACAAUAAQADAAkAEQABAAkAAQADAA0ABAALAAMACwABAAQAAgAFAAMAAQAGAAEAAQABAAgAAwAIAAwAIAADAAcABwADAAYABwAFAAEABQABAAEAAgALAAEAAQAEAAMAAQACAAEAAQADAAYAAgAIAAIAAQADAAsAAgADAAIAAQACAAIAAgABAAQAAQABAAcAAQARAAMAAQAMAAEAAwABAAQAAQAIAAsAAgACAAEAAgADAAIABAABAAMABAAMAAMABAABAAYAAwAEAAEABgAEAAQAAQAZAAEAAgAGAAIABwACAAMAAgAEAAEAAQACAAEAAgAMAAMACAACAAEABAABAAIACQADAAEAAgAGAAEAAQABAAEAAQABAAIAAgABABQAAgAEAAYACQABAAUAAgACAAcAAQAEAAQAAgAEAAIAAgACAAEAAQABAAwAAQACAAYAAQABAAsAAQABAAEAAwAEAAIACQABAAUAAQACAAEAAQABAAQAAwABAAMAAQABAAcABQABAAIAAgACAAEAAgADAAIAAQAEAAEAHAABAAEAAwABAAIAAgABAAEAAwABAAkABAALAAoAAQADAAQABAACAAQAAwAKAAgAAQADAAYALwABAAEAAQARAAIADwABAAQAAQADAAMAAQADAAIAAgALAAkABAAwAAQAAQAEAAEAAwACAAEAAQACAAMAAQABAAEAIAAEAAUAAQABAAIABgABAAEAAgAGAAQAAQABAAMAAQADAAIAAgACAAcABQAGAAEABAADAAMACgABAAQABQABAAEAAQACAAMAAgACAA8AAQAEAAsAAQAFAAMACAABAAQAAgAHAAEAAQARAAQAAgABAAEAAQAKAA0AAQABAAMAAwABAB4AAQACAAMAAQABAAEAAQAFAAEAAQABAAUAAQADAAIAAgABAAIAEAApAAMAAQAPAAEAAwACAAQABQAGAAEAAgAEAAUAAQACAAEAAgAIAAMAAQALAAEABgABAAEAAgACAAEAAQAFAAQAAgACAAEADAABAAQAAwACAAUACAABAAIAAwACAAEADQALAAIABQABAAEAAQABAAIABwABAAEAAQABAAIAAQAFAAEABwAPAAIAAgABAAEAAQABAAEACQABAAIABQADABIADwABAAYAAwAMAAcAAQAMAAEACAADAAEAAQBbAAQAAQABAAIAAQABAAEAAQADAAEAAQABAAEAAwACAAEAAwABAAIAAQABAAEAAwABAAEAAQABAAIAAQAHAAIAAgAKABYAAQABAAEAAgAHAAIABAABAAcAAQAMAAEAAwAHAAUAAgAGAAIAAQABAAEABAACAAQAAQABAAEAAgADAAUAAgABAAIABAABAAgABAABAAMAAQAEAAEAAQAEAAIAAQACAAUAAwABAAIAAQACAAUAAQADAAEAAQADAAEABwACAAEAAQABAAMAAQADAAcAAQADAAEAAQABAAMAAQABABIAAQADAAIAAgABAAEABwABAAIADAAEAAQAAwABAAMABgACAAUAAgACABsABAAMAAEAAQAFAAMAAQAGAAEABQACABMACwADAAEACAABAAgAAgABAAEAAwACAAgAAQALAAQAAgAEAAMABAABAAEAAQABAAEACQACAA4AAwAEAAEAAQABAAEAEAABAAEABAABAAQAAgABAAMABQAMAAQABwACAAQAAQADAAEAAgANAAMABAABAAQAAwABAAEABQAFAAEAAQACAA4ACQABAAEABQAJAAEABAABAAEADQACABcABAABAAMABAAJAAEABAAEAAIACQACAAgAAQACAAEAAQAPAAQAAwAEAAEAAwACAAIAAwABAAIAAgABAAQAAQAFAAEACQACAAEAAQACAAEAAQAEAAEABwAEAAUAAwADAAEAAQAEAAMABQABAAkAAgACAAEAAQAOAAIACAABAAIABAABAAQAAQAEAAQABwABAAUAAgACAAQAAQANAAEAAQAFAAEAAgABAAcAAQADAAIAAQACAAgAEAABAAEABAABAAQAAQADAAEAAwAIAAcAAQADAAYABAACAAEAAwACAAIABgABAAMAGgABAAEAAQABAAQAAwADAAMAAQAFAAMAAwABAAEAAgADAAEACAAEAAMAAgADAAEAAQANABEAAwADAAQABQAEAAYABQACAAQABQAEAAEAAgACAAEAAQADAA4AAgABAAMAAQAEAAQAAQABABMAAwACAAQAAQABAAgAAgACAAIAAQAMAAUAGwABAAUACAAIAAQAAgAGAAMAAQAPAAIAAQACAAcAAgABAAUABAACAAMAAQABAAIAAQACAAEAAgAFAAEAAQADAAcAAQAHAAMAAQAIAAIACAABAAIAAgAEAAEAAQABAAEAAQAIAAMAAgABAAUADwABAAEAAQABAAEAAgACAAQAAgAEAAgADgABAAEAAgAEAAIAAwABAAwAAQAHAAEAAgACAAEAAwAIAAQACgACAAEABwABAAIAAQAHAAEABgAFAAMABQAEAAEABAADAAQAAwAQAAMALwADAAMACAABAAIACQADAAEAAwABAAEAAQAGAD8AAQACABQAAwACAAMAAwADAAMABQAEAAQAAgADAAEAAQACAAEAAQABAAcABgAEAAEAAQAFAAIAAQABAAEACgABAAMAAgAFAAIAAQAFAAUAAgADAAEABAABAAEABwADAAEAAwAGAAEAAQABAAcAAQACAAMABAABAAEACAABAAEAAgAEAAIABAABAAEAAQAEAAEABQAGACEAAgABAAMAAwACAAEAAQAGAAEACwADAAEAAQACAAUAAQAFAAkAAwABAAIAEwABAAIAAwAbAAQABgABAAUABgADAAQAAQABAAEACAABAAQAAQAGAAIADAAPAAQAAgABAA0AAQABAAIABAABAAQAAQAEAAQAAQACAAUAEgABAAIAAQADAAEAAQACAAcAAwABAAQABQADAAEAAgACAAQAAwAFAAEAAgACAA0ABwACAAIAAwABAAEABQACAAIACAABAAEABQABAAQACQAHAAIAAQAFAAEAAQABAAEAAQADAAEAAQAFAAIAAQABAAoABAABAAMAAQADAAEABgAEAAIAAgACAAEACAADAAEAAQACAAEAAwADAA4ABgADAAcAFgABAAEAAQABAAQABAACAAEAAQACAAcAAQAEAAEAAgAXAAIAAwADAAQACQAGAAQABQABAAIACQABAAIAAgADAAQAAgACAAIAAQADAAQAAQACAAIAAwACAAEABAABAA0ABQAFAAIAAgABAAwAAgABAAEAAgABAAoABQACAAEAAQACAAEAAwADAAYAMwABAAEAAQAKAAIAAQABAAMAAQABAAcABQAFAAIAAwAEAAEAAgABAAEAAgABAAEAAgAHAAUAAQASAAMAAQADAAQAAwAHAAEABAAEAAEAAwAHAAQABwADAAIAAQABAAEAAgABAAMAAQAEAAEAAwADAAYAAgACAAYABAABAAEAAgABAAEAAwAEAAUAAQABAAIAAgADABUAGgABAAEAAQABAAcAAwADAAEAAQAEAAEAAQACAAoABQADAAIADAADAAIABwACABQAAgACAAEAAQAFAAIAAQAKAAMAAwACAAEAAQABAAEAAgABAAEAAwABABAAAwABAAEAAgABAAEABgABAAEAAgAOAAcAAQABAAQAAQABAAIAAQAFAAEAAgAEAAEAAgABABEAAQAFAAIABgACAAQACgADAAEAAgABAAIAAgABAAEABwACAAQABgAPAAQAAQABAAQAAQABAAIABgADAAsAAwAUAAIABAAMAAEAAQAGAAUAHAACAAcABAACAAIAAgACAAQAAQACAA0ADQAUAAMAAQAFAAoABQALAA8AAwABAAIABgABAAcAAQABAA0AAgAHAAUAAQAEABUAAwABAAMABQABAAEAAQABAAcABwARABIAAgAFAAUAAQABAAEAAQADAAEAAQABAAMAAQADAAEADQABAAIACwADAAEABQAFAAEABAALAAEAAgACABYAAgABAA0AAQACAAEABgAHAAIAAQAKAAEAAQABAAQAAQADAAIABAADAAIABQABAAIAAQAKABUABAAJAAsAAQABAAIAAgABAAIAAQABAAMABAABAAIAAgALAAIAIgAGAAMAEAABAAEAAQABAAEAAwACAAIAAQABAAIAAgACAAMABAAGAAMABgAFAAYAAQAHAAEAAwACAAIAAwABAAMABQAFAAEAAQACAAMABgADAAEAAQAQAAcABAAFAAEACAALAAEAAQAGAAIAAQAGAAsAAQATAAMAAQADABEABwADABUAAQACAAIAAQAEAAMACQADABMAAQADAAYAAwADAAIAAQAJAAQAAQACAAEAAwABAAEAAQAHAAEAAgADAAEAAQABAAYAAgABAAcAAgAKAAIABwABAAYAAQAFAAYAAwAEAAIACwADAAIABAAGAAEAAQADAAMAFAACAAQAAQADAAMAAgAGAAIAAQACAAMAAwACAAEAAQABAAMABQAEAAEAAwABAAMAAwAJAAYAAQABAAEABQADAAUAAQALAAQABwADABUACQABAAkABAAEAAMAAgABAAIAAgACAAMAAgAFAAYABAAHAAkABAABAAMABAACAAQAAQACAAYABgABAAEACAADAAEAAQACAAEAAQABAAEAAQAFAAEABQAHAAIABwABAAwAAQABAAIAAwAEAAEAAwABAAEAAgACAAMAAwAGAAoAAgAHAAEAAgACAAEAAQAIAAEABAABAAMABAACAAYAAgABAAcAAgACAAcABwACAAEAAwABAAYABAABAAEACAABAAcABgABAAoAAQAOAAIAAQACAAEABgAIAAIACAAKAAIAAQABAAIABgACABEAAQACABoAAQABAAEAAQACAAEAAgABAAIAAgACAAIABQABAAIAAwACAAQABAABAAIAAQABAAMABgABAAcABwADAAIAAQAJAAMAAQACAAQAAQAFAAEAEwABAAIAAwABAAgAJgADAAMAAgAHAAQAAQACAAIAAQABAAIABAAIAAIACwADAAEAAQAEAA8AAQAFAAEABAADAAIAAQABAAIAAgABAAMAAwACAAsACAABAAgABAADAAgABAACAAMAAgAUAAEAHQABAAEAAgABAAYAAgAEACIAAgACAAEACAACAAMABQANAAEAAwADAAEAAgAFAAMABwACAAEABwACAAwAAwAGAAIAAgAGAAEAHAADAAIAAQACAAEABwACAAEAAwAGAAIAAgAHAC4ABwACAAQAAQABAAUAAQACAAYAAwACAAUAAQACAAIABQAFAAMAAQABAAQAAwABAAIABwAKAAEAAgABAAEAAQADAAIABAACAAkAAgABAAIACAABAB8ACgABAAEABAAFAAEABgABAAMABQAEAAEAAQAEAAQACAAKAAEAAQABAAEAAgABAAIAAQADAAEAAgADAAEABAABAAUAAgABAAMABAABAAcAAwACAAgAAQAEAAQAAwABABMAAQADAAMAGQABAAIABAADAAQAAwAHAAUAAgACAAcAAQABAAEABgABAAIAAgAFAA8ABgAOAAEAAwADAAMAAQABAAMAAQACAAQAAQAIAAIAAwAEAAkAAQACAAEAAQACAAEACwADAAEABAABAAEACgAMAAQAAQAHAAUAAgAMAAEABwACAAIABQACAAcAAQAEAAIABgACAB8ABgAeAAEAAgABAAYAAQAHAAcADwACAAQAAQABAAIACAABAAEABAABAAQAAwACAAkAEQACAAIAAQACAAEAAQABAAsAAQAPAAQABAAGAAMACwABAAMADQAEAAEAAgADABMAAwACAAQABwACAAYAAQABAAIACQABAAUAHgAIAAMAAgABAAEAAgADAAEAAwAKAAUAAgACAAQAAQADAAMAAgACAAEAAgAEAAIAAQAOAAEAAQACAAQAAwAKAAkAAwABAAEADAAnAAQABQAEAAMABwABAAUAAwABAAEAAwABAAgABQABAHwAAQABAAkABAAiAAIAAgABAAQAFwAMAAEAAQAIAAEABgADABQAAQAGAAUADAABAAUABgABAAEAAQABAAEABAAEAAEAAwABAAgAAgACAAEAAwABAAgAAQABAAMAAgABAAIAAQABAAQAAQABAAEABQACAAEAAwABABEABAABAAcAAQACAAIABAAFAAIAAwACAAIAAQAHAAEACgABAAEAAgABAAEALQADAAMADAAEAAEAAQABAAEAJwABAAIADgAFAAEAAQACAAEAAQABAAMADQABAAEAAQAEAAMAAQABAAEAAQAHAAMAAgAEAAEACAACAAIAAQACAAEACQABAAEAAQACAAEAAQAFAAMAAgABAAEAAgABAAIAAQABAAIAAwADAAYAAgAVAAEAAwAKAAEAAgABAAEACgABAAEAAwAKAAMAAgAOAAEAAQABAAUAAgABAAwAAQAKAAsAAgAEAAIAAwABAAEAAgABAAIAAQALAAQABwACAAMABgABAAIAPAABAAEAAQABABoAAQACAAEAAQAIAAEAGgABAAEAAgAGAAIABAABAAMAAQADAAEABQADAAEABgACAAIADAAEAAIAAgADAAMAAgACAAMAAgACAAEAAgAFAAEAAQADAAYAAQADAAUAFAAEAAEAAQAGAAQABgAGAAEAAgABAAEAAwACAAIAAQABAAEAAQACABEAAQADAAEAAwACAAEABgAFAAEAAQABAAEAAgACAAoAAQAFAAEADgABAAwACwABAAIAFAAHAAUABAABAAMABgAFAAUAAQARAAQABwACAAIAAQABAAEAAgABAAgAAwAGAAIAAQADAAIAAQABAAIABgADAAEAAQABAAEAAQABAAIAEAADAA==",
          "dtype": "i2"
         },
         "z": {
          "bdata": "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",
          "dtype": "f8"
         }
        }
       ],
       "layout": {
        "coloraxis": {
         "colorbar": {
          "title": {
           "text": "Cluster"
          }
         },
         "colorscale": [
          [
           0,
           "#440154"
          ],
          [
           0.1111111111111111,
           "#482878"
          ],
          [
           0.2222222222222222,
           "#3e4989"
          ],
          [
           0.3333333333333333,
           "#31688e"
          ],
          [
           0.4444444444444444,
           "#26828e"
          ],
          [
           0.5555555555555556,
           "#1f9e89"
          ],
          [
           0.6666666666666666,
           "#35b779"
          ],
          [
           0.7777777777777778,
           "#6ece58"
          ],
          [
           0.8888888888888888,
           "#b5de2b"
          ],
          [
           1,
           "#fde725"
          ]
         ],
         "showscale": false
        },
        "height": 600,
        "legend": {
         "tracegroupgap": 0
        },
        "scene": {
         "camera": {
          "eye": {
           "x": 1.5,
           "y": 1.5,
           "z": 0.5
          }
         },
         "domain": {
          "x": [
           0,
           1
          ],
          "y": [
           0,
           1
          ]
         },
         "xaxis": {
          "title": {
           "text": "Recency"
          }
         },
         "yaxis": {
          "title": {
           "text": "Frequency"
          }
         },
         "zaxis": {
          "title": {
           "text": "Monetary"
          }
         }
        },
        "template": {
         "data": {
          "bar": [
           {
            "error_x": {
             "color": "#2a3f5f"
            },
            "error_y": {
             "color": "#2a3f5f"
            },
            "marker": {
             "line": {
              "color": "#E5ECF6",
              "width": 0.5
             },
             "pattern": {
              "fillmode": "overlay",
              "size": 10,
              "solidity": 0.2
             }
            },
            "type": "bar"
           }
          ],
          "barpolar": [
           {
            "marker": {
             "line": {
              "color": "#E5ECF6",
              "width": 0.5
             },
             "pattern": {
              "fillmode": "overlay",
              "size": 10,
              "solidity": 0.2
             }
            },
            "type": "barpolar"
           }
          ],
          "carpet": [
           {
            "aaxis": {
             "endlinecolor": "#2a3f5f",
             "gridcolor": "white",
             "linecolor": "white",
             "minorgridcolor": "white",
             "startlinecolor": "#2a3f5f"
            },
            "baxis": {
             "endlinecolor": "#2a3f5f",
             "gridcolor": "white",
             "linecolor": "white",
             "minorgridcolor": "white",
             "startlinecolor": "#2a3f5f"
            },
            "type": "carpet"
           }
          ],
          "choropleth": [
           {
            "colorbar": {
             "outlinewidth": 0,
             "ticks": ""
            },
            "type": "choropleth"
           }
          ],
          "contour": [
           {
            "colorbar": {
             "outlinewidth": 0,
             "ticks": ""
            },
            "colorscale": [
             [
              0,
              "#0d0887"
             ],
             [
              0.1111111111111111,
              "#46039f"
             ],
             [
              0.2222222222222222,
              "#7201a8"
             ],
             [
              0.3333333333333333,
              "#9c179e"
             ],
             [
              0.4444444444444444,
              "#bd3786"
             ],
             [
              0.5555555555555556,
              "#d8576b"
             ],
             [
              0.6666666666666666,
              "#ed7953"
             ],
             [
              0.7777777777777778,
              "#fb9f3a"
             ],
             [
              0.8888888888888888,
              "#fdca26"
             ],
             [
              1,
              "#f0f921"
             ]
            ],
            "type": "contour"
           }
          ],
          "contourcarpet": [
           {
            "colorbar": {
             "outlinewidth": 0,
             "ticks": ""
            },
            "type": "contourcarpet"
           }
          ],
          "heatmap": [
           {
            "colorbar": {
             "outlinewidth": 0,
             "ticks": ""
            },
            "colorscale": [
             [
              0,
              "#0d0887"
             ],
             [
              0.1111111111111111,
              "#46039f"
             ],
             [
              0.2222222222222222,
              "#7201a8"
             ],
             [
              0.3333333333333333,
              "#9c179e"
             ],
             [
              0.4444444444444444,
              "#bd3786"
             ],
             [
              0.5555555555555556,
              "#d8576b"
             ],
             [
              0.6666666666666666,
              "#ed7953"
             ],
             [
              0.7777777777777778,
              "#fb9f3a"
             ],
             [
              0.8888888888888888,
              "#fdca26"
             ],
             [
              1,
              "#f0f921"
             ]
            ],
            "type": "heatmap"
           }
          ],
          "histogram": [
           {
            "marker": {
             "pattern": {
              "fillmode": "overlay",
              "size": 10,
              "solidity": 0.2
             }
            },
            "type": "histogram"
           }
          ],
          "histogram2d": [
           {
            "colorbar": {
             "outlinewidth": 0,
             "ticks": ""
            },
            "colorscale": [
             [
              0,
              "#0d0887"
             ],
             [
              0.1111111111111111,
              "#46039f"
             ],
             [
              0.2222222222222222,
              "#7201a8"
             ],
             [
              0.3333333333333333,
              "#9c179e"
             ],
             [
              0.4444444444444444,
              "#bd3786"
             ],
             [
              0.5555555555555556,
              "#d8576b"
             ],
             [
              0.6666666666666666,
              "#ed7953"
             ],
             [
              0.7777777777777778,
              "#fb9f3a"
             ],
             [
              0.8888888888888888,
              "#fdca26"
             ],
             [
              1,
              "#f0f921"
             ]
            ],
            "type": "histogram2d"
           }
          ],
          "histogram2dcontour": [
           {
            "colorbar": {
             "outlinewidth": 0,
             "ticks": ""
            },
            "colorscale": [
             [
              0,
              "#0d0887"
             ],
             [
              0.1111111111111111,
              "#46039f"
             ],
             [
              0.2222222222222222,
              "#7201a8"
             ],
             [
              0.3333333333333333,
              "#9c179e"
             ],
             [
              0.4444444444444444,
              "#bd3786"
             ],
             [
              0.5555555555555556,
              "#d8576b"
             ],
             [
              0.6666666666666666,
              "#ed7953"
             ],
             [
              0.7777777777777778,
              "#fb9f3a"
             ],
             [
              0.8888888888888888,
              "#fdca26"
             ],
             [
              1,
              "#f0f921"
             ]
            ],
            "type": "histogram2dcontour"
           }
          ],
          "mesh3d": [
           {
            "colorbar": {
             "outlinewidth": 0,
             "ticks": ""
            },
            "type": "mesh3d"
           }
          ],
          "parcoords": [
           {
            "line": {
             "colorbar": {
              "outlinewidth": 0,
              "ticks": ""
             }
            },
            "type": "parcoords"
           }
          ],
          "pie": [
           {
            "automargin": true,
            "type": "pie"
           }
          ],
          "scatter": [
           {
            "fillpattern": {
             "fillmode": "overlay",
             "size": 10,
             "solidity": 0.2
            },
            "type": "scatter"
           }
          ],
          "scatter3d": [
           {
            "line": {
             "colorbar": {
              "outlinewidth": 0,
              "ticks": ""
             }
            },
            "marker": {
             "colorbar": {
              "outlinewidth": 0,
              "ticks": ""
             }
            },
            "type": "scatter3d"
           }
          ],
          "scattercarpet": [
           {
            "marker": {
             "colorbar": {
              "outlinewidth": 0,
              "ticks": ""
             }
            },
            "type": "scattercarpet"
           }
          ],
          "scattergeo": [
           {
            "marker": {
             "colorbar": {
              "outlinewidth": 0,
              "ticks": ""
             }
            },
            "type": "scattergeo"
           }
          ],
          "scattergl": [
           {
            "marker": {
             "colorbar": {
              "outlinewidth": 0,
              "ticks": ""
             }
            },
            "type": "scattergl"
           }
          ],
          "scattermap": [
           {
            "marker": {
             "colorbar": {
              "outlinewidth": 0,
              "ticks": ""
             }
            },
            "type": "scattermap"
           }
          ],
          "scattermapbox": [
           {
            "marker": {
             "colorbar": {
              "outlinewidth": 0,
              "ticks": ""
             }
            },
            "type": "scattermapbox"
           }
          ],
          "scatterpolar": [
           {
            "marker": {
             "colorbar": {
              "outlinewidth": 0,
              "ticks": ""
             }
            },
            "type": "scatterpolar"
           }
          ],
          "scatterpolargl": [
           {
            "marker": {
             "colorbar": {
              "outlinewidth": 0,
              "ticks": ""
             }
            },
            "type": "scatterpolargl"
           }
          ],
          "scatterternary": [
           {
            "marker": {
             "colorbar": {
              "outlinewidth": 0,
              "ticks": ""
             }
            },
            "type": "scatterternary"
           }
          ],
          "surface": [
           {
            "colorbar": {
             "outlinewidth": 0,
             "ticks": ""
            },
            "colorscale": [
             [
              0,
              "#0d0887"
             ],
             [
              0.1111111111111111,
              "#46039f"
             ],
             [
              0.2222222222222222,
              "#7201a8"
             ],
             [
              0.3333333333333333,
              "#9c179e"
             ],
             [
              0.4444444444444444,
              "#bd3786"
             ],
             [
              0.5555555555555556,
              "#d8576b"
             ],
             [
              0.6666666666666666,
              "#ed7953"
             ],
             [
              0.7777777777777778,
              "#fb9f3a"
             ],
             [
              0.8888888888888888,
              "#fdca26"
             ],
             [
              1,
              "#f0f921"
             ]
            ],
            "type": "surface"
           }
          ],
          "table": [
           {
            "cells": {
             "fill": {
              "color": "#EBF0F8"
             },
             "line": {
              "color": "white"
             }
            },
            "header": {
             "fill": {
              "color": "#C8D4E3"
             },
             "line": {
              "color": "white"
             }
            },
            "type": "table"
           }
          ]
         },
         "layout": {
          "annotationdefaults": {
           "arrowcolor": "#2a3f5f",
           "arrowhead": 0,
           "arrowwidth": 1
          },
          "autotypenumbers": "strict",
          "coloraxis": {
           "colorbar": {
            "outlinewidth": 0,
            "ticks": ""
           }
          },
          "colorscale": {
           "diverging": [
            [
             0,
             "#8e0152"
            ],
            [
             0.1,
             "#c51b7d"
            ],
            [
             0.2,
             "#de77ae"
            ],
            [
             0.3,
             "#f1b6da"
            ],
            [
             0.4,
             "#fde0ef"
            ],
            [
             0.5,
             "#f7f7f7"
            ],
            [
             0.6,
             "#e6f5d0"
            ],
            [
             0.7,
             "#b8e186"
            ],
            [
             0.8,
             "#7fbc41"
            ],
            [
             0.9,
             "#4d9221"
            ],
            [
             1,
             "#276419"
            ]
           ],
           "sequential": [
            [
             0,
             "#0d0887"
            ],
            [
             0.1111111111111111,
             "#46039f"
            ],
            [
             0.2222222222222222,
             "#7201a8"
            ],
            [
             0.3333333333333333,
             "#9c179e"
            ],
            [
             0.4444444444444444,
             "#bd3786"
            ],
            [
             0.5555555555555556,
             "#d8576b"
            ],
            [
             0.6666666666666666,
             "#ed7953"
            ],
            [
             0.7777777777777778,
             "#fb9f3a"
            ],
            [
             0.8888888888888888,
             "#fdca26"
            ],
            [
             1,
             "#f0f921"
            ]
           ],
           "sequentialminus": [
            [
             0,
             "#0d0887"
            ],
            [
             0.1111111111111111,
             "#46039f"
            ],
            [
             0.2222222222222222,
             "#7201a8"
            ],
            [
             0.3333333333333333,
             "#9c179e"
            ],
            [
             0.4444444444444444,
             "#bd3786"
            ],
            [
             0.5555555555555556,
             "#d8576b"
            ],
            [
             0.6666666666666666,
             "#ed7953"
            ],
            [
             0.7777777777777778,
             "#fb9f3a"
            ],
            [
             0.8888888888888888,
             "#fdca26"
            ],
            [
             1,
             "#f0f921"
            ]
           ]
          },
          "colorway": [
           "#636efa",
           "#EF553B",
           "#00cc96",
           "#ab63fa",
           "#FFA15A",
           "#19d3f3",
           "#FF6692",
           "#B6E880",
           "#FF97FF",
           "#FECB52"
          ],
          "font": {
           "color": "#2a3f5f"
          },
          "geo": {
           "bgcolor": "white",
           "lakecolor": "white",
           "landcolor": "#E5ECF6",
           "showlakes": true,
           "showland": true,
           "subunitcolor": "white"
          },
          "hoverlabel": {
           "align": "left"
          },
          "hovermode": "closest",
          "mapbox": {
           "style": "light"
          },
          "paper_bgcolor": "white",
          "plot_bgcolor": "#E5ECF6",
          "polar": {
           "angularaxis": {
            "gridcolor": "white",
            "linecolor": "white",
            "ticks": ""
           },
           "bgcolor": "#E5ECF6",
           "radialaxis": {
            "gridcolor": "white",
            "linecolor": "white",
            "ticks": ""
           }
          },
          "scene": {
           "xaxis": {
            "backgroundcolor": "#E5ECF6",
            "gridcolor": "white",
            "gridwidth": 2,
            "linecolor": "white",
            "showbackground": true,
            "ticks": "",
            "zerolinecolor": "white"
           },
           "yaxis": {
            "backgroundcolor": "#E5ECF6",
            "gridcolor": "white",
            "gridwidth": 2,
            "linecolor": "white",
            "showbackground": true,
            "ticks": "",
            "zerolinecolor": "white"
           },
           "zaxis": {
            "backgroundcolor": "#E5ECF6",
            "gridcolor": "white",
            "gridwidth": 2,
            "linecolor": "white",
            "showbackground": true,
            "ticks": "",
            "zerolinecolor": "white"
           }
          },
          "shapedefaults": {
           "line": {
            "color": "#2a3f5f"
           }
          },
          "ternary": {
           "aaxis": {
            "gridcolor": "white",
            "linecolor": "white",
            "ticks": ""
           },
           "baxis": {
            "gridcolor": "white",
            "linecolor": "white",
            "ticks": ""
           },
           "bgcolor": "#E5ECF6",
           "caxis": {
            "gridcolor": "white",
            "linecolor": "white",
            "ticks": ""
           }
          },
          "title": {
           "x": 0.05
          },
          "xaxis": {
           "automargin": true,
           "gridcolor": "white",
           "linecolor": "white",
           "ticks": "",
           "title": {
            "standoff": 15
           },
           "zerolinecolor": "white",
           "zerolinewidth": 2
          },
          "yaxis": {
           "automargin": true,
           "gridcolor": "white",
           "linecolor": "white",
           "ticks": "",
           "title": {
            "standoff": 15
           },
           "zerolinecolor": "white",
           "zerolinewidth": 2
          }
         }
        },
        "title": {
         "text": "3D Interactive Customer Segmentation (RFM)"
        },
        "width": 850
       }
      }
     },
     "metadata": {},
     "output_type": "display_data"
    }
   ],
   "source": [
    "#further visualization\n",
    "\n",
    "import plotly.express as px\n",
    "\n",
    "# Create interactive 3D scatter plot\n",
    "fig = px.scatter_3d(rfm_final, x='Recency', y='Frequency', z='Monetary',\n",
    "                    color='Cluster', hover_data=['CustomerID'], opacity=0.7, color_continuous_scale='viridis', \n",
    "                    title='3D Interactive Customer Segmentation (RFM)')\n",
    "\n",
    "# Customize look\n",
    "fig.update_traces(marker=dict(size=4))\n",
    "fig.update_layout(width=850, height=600,\n",
    "                  scene_camera=dict(eye=dict(x=1.5, y=1.5, z=0.5)),\n",
    "                  scene=dict(\n",
    "                      xaxis_title='Recency', yaxis_title='Frequency', zaxis_title='Monetary'), \n",
    "                  coloraxis_showscale=False)\n",
    "\n",
    "\n",
    "fig.show()\n"
   ]
  },
  {
   "cell_type": "markdown",
   "id": "7c69688c",
   "metadata": {},
   "source": [
    "Interpretation:\n",
    "\n",
    "The 3D plot integrates all RFM metrics, visually reinforcing that Cluster 0 forms a high-value group with low recency and high frequency/monetary values, while Cluster 1 and Cluster 2 are spread across lower value regions in both Frequency/Monetary (low spenders). Cluster 1 buyers purchased less recently than Cluster 2 buyers."
   ]
  },
  {
   "cell_type": "markdown",
   "id": "b2045591",
   "metadata": {},
   "source": [
    "Let's confirm the visualizations **Quantitatively**"
   ]
  },
  {
   "cell_type": "code",
   "execution_count": 165,
   "id": "48a5ae3d",
   "metadata": {},
   "outputs": [
    {
     "data": {
      "text/html": [
       "<div>\n",
       "<style scoped>\n",
       "    .dataframe tbody tr th:only-of-type {\n",
       "        vertical-align: middle;\n",
       "    }\n",
       "\n",
       "    .dataframe tbody tr th {\n",
       "        vertical-align: top;\n",
       "    }\n",
       "\n",
       "    .dataframe thead th {\n",
       "        text-align: right;\n",
       "    }\n",
       "</style>\n",
       "<table border=\"1\" class=\"dataframe\">\n",
       "  <thead>\n",
       "    <tr style=\"text-align: right;\">\n",
       "      <th></th>\n",
       "      <th>Recency</th>\n",
       "      <th>Frequency</th>\n",
       "      <th>Monetary</th>\n",
       "    </tr>\n",
       "    <tr>\n",
       "      <th>Cluster</th>\n",
       "      <th></th>\n",
       "      <th></th>\n",
       "      <th></th>\n",
       "    </tr>\n",
       "  </thead>\n",
       "  <tbody>\n",
       "    <tr>\n",
       "      <th>0</th>\n",
       "      <td>31.16</td>\n",
       "      <td>9.69</td>\n",
       "      <td>4913.36</td>\n",
       "    </tr>\n",
       "    <tr>\n",
       "      <th>1</th>\n",
       "      <td>54.94</td>\n",
       "      <td>2.04</td>\n",
       "      <td>575.19</td>\n",
       "    </tr>\n",
       "    <tr>\n",
       "      <th>2</th>\n",
       "      <td>253.69</td>\n",
       "      <td>1.39</td>\n",
       "      <td>370.11</td>\n",
       "    </tr>\n",
       "  </tbody>\n",
       "</table>\n",
       "</div>"
      ],
      "text/plain": [
       "         Recency  Frequency  Monetary\n",
       "Cluster                              \n",
       "0          31.16       9.69   4913.36\n",
       "1          54.94       2.04    575.19\n",
       "2         253.69       1.39    370.11"
      ]
     },
     "execution_count": 165,
     "metadata": {},
     "output_type": "execute_result"
    }
   ],
   "source": [
    "cluster_summary=rfm_final.groupby('Cluster')[['Recency','Frequency','Monetary']].mean().round(2)\n",
    "cluster_summary "
   ]
  },
  {
   "cell_type": "markdown",
   "id": "d8c3cbe0",
   "metadata": {},
   "source": [
    "Interpretation:\n",
    "+ Cluster 0:\n",
    "    + Recency: 31 days = very recent\n",
    "    + Frequency: 9.7 = shop very often\n",
    "    + Monetary: 4922 = spend the most.\n",
    "\n",
    "+ Cluster 1:\n",
    "    + Recency = 253 days = haven’t bought in months.\n",
    "    + Frequency = 1.4 = almost one-time buyers.\n",
    "    + Monetary = 371 = very low spending.\n",
    "\n",
    "+ Cluster 2:\n",
    "    + Recency = 55 days = moderately recent\n",
    "    + Frequency = 2.0 = occasional buyers\n",
    "    + Monetary = 576 = low spenders\n",
    "\n",
    "### **Conclusion** \n",
    "Overall, the RFM based clustering revealed three distinct groups of customers. \n",
    "1) Cluster 0: Loyal/Active High-value Customers\n",
    "2) Cluster 1: Inactive or One-time-customers\n",
    "3) Cluster 2: Occasional Customers"
   ]
  },
  {
   "cell_type": "markdown",
   "id": "f1c1ac4a",
   "metadata": {},
   "source": [
    "## 6. Behavioral, Psychological & Business Interpretation\n",
    "Let's examine each cluste's RFM profile and make deduction on the type of shopper they represent."
   ]
  },
  {
   "cell_type": "markdown",
   "id": "c1e31cdb",
   "metadata": {},
   "source": [
    "### **Cluster 0** | **Loyal/Active High-value Customers**\n",
    "\n",
    "| Metric   (average)             | Value            | Interpretation                |\n",
    "| ---------------------- | ---------------- | ----------------------------- |\n",
    "| Recency = 31 days      | Recently active  | Engaged |\n",
    "| Frequency = 9.7       | High repeat rate | Habitual buyers               |\n",
    "| Monetary = ≈ 4,922 GBP | High spending    | Strong lifetime value         |\n"
   ]
  },
  {
   "cell_type": "markdown",
   "id": "224a6716",
   "metadata": {},
   "source": [
    "**Psychological Profile:**\n",
    "These are the behavioral loyalists, exhibiting consistent purchase patterns. This implies their strong commitment and high trust.\n",
    "\n",
    "It is recommended to conduct qualitative methods such as Net Promoter Score (NPS) and Customer Satisfaction (CSAT) scores to determine whether they acquire a strong preferance and emotional/psychological connection for the brand, infering whether loyalty will be \n",
    "\n",
    "**Marketing Implication:**\n",
    "To reinforce their loyalty, positive reinforcement must be given by rewarding them with exclusive perks, loyalty rewards program, and premium tiers."
   ]
  },
  {
   "cell_type": "markdown",
   "id": "1766a706",
   "metadata": {},
   "source": [
    "### **Cluster 1** | **Inactive Low-Value Customers**\n",
    "\n",
    "| Metric               | Value                  | Interpretation                |\n",
    "| -------------------- | ---------------------- | ----------------------------- |\n",
    "| Recency = 253 days   | Very inactive          | Possibly churned              |\n",
    "| Frequency = 1.4     | Almost one-time buyers | Weak attachment               |\n",
    "| Monetary = ≈ 371 GBP | Low value              | Price-sensitive or disengaged |\n"
   ]
  },
  {
   "cell_type": "markdown",
   "id": "c9d46e6b",
   "metadata": {},
   "source": [
    "**Psychological Profile:**\n",
    "These are one-time buyers or lost customers. Their behavior aligns with impulse buyers, making a purchase out of curiosity or spontaniety. \n",
    "\n",
    "**Marketing Implications:**\n",
    "Discount emails & offers for price-sensitive customers. Upsell & cross-sell to increase revenue"
   ]
  },
  {
   "cell_type": "markdown",
   "id": "218d0526",
   "metadata": {},
   "source": [
    "### **Cluster 2** | **Occasional Customers**\n",
    "\n",
    "| Metric               | Value             | Interpretation          |\n",
    "| -------------------- | ----------------- | ----------------------- |\n",
    "| Recency = 55 days    | Moderately recent | Still engaged           |\n",
    "| Frequency = 2.0     | Occasional        | Balanced buying pattern |\n",
    "| Monetary = ≈ 576 GBP | Mid spending      | Stable but not premium  |\n",
    "\n"
   ]
  },
  {
   "cell_type": "markdown",
   "id": "0ba54ab6",
   "metadata": {},
   "source": [
    "**Psychological Profile:** \n",
    "These are casual buyers, or potential loyalists. They shop occasionally and despite their habits of buying aren't strong yet, they're reachable. Behaviorally, it is implied that they are satisficers, they might seem like they are committed to this brand but they lack emotional brand connection. To turn them to loyal customers, one must make their customer experience consistently reliable and efficient. emotionally satisfying\n",
    "\n",
    "**Marketing Implications:**\n",
    "Send personalized offers, gamified incentives, acquiring points for repeated purchases."
   ]
  },
  {
   "cell_type": "markdown",
   "id": "37d5491f",
   "metadata": {},
   "source": [
    "## 7. Visualization & Storytelling\n",
    "To represent the results clearly, we'll visualize the findings using heatmaps and bar plot."
   ]
  },
  {
   "cell_type": "code",
   "execution_count": 166,
   "id": "8b3851be",
   "metadata": {},
   "outputs": [
    {
     "data": {
      "image/png": "[encoded data removed]",
      "text/plain": [
       "<Figure size 800x600 with 2 Axes>"
      ]
     },
     "metadata": {},
     "output_type": "display_data"
    }
   ],
   "source": [
    "#lets normalize so all data are on same 1-0 scale\n",
    "from sklearn.preprocessing import MinMaxScaler\n",
    "scaler=MinMaxScaler()\n",
    "normalized=scaler.fit_transform(cluster_summary)\n",
    "\n",
    "cluster_sum_norm=pd.DataFrame(normalized, index=cluster_summary.index, columns=cluster_summary.columns)\n",
    "\n",
    "#heatmap\n",
    "plt.figure(figsize=(8,6))\n",
    "sns.heatmap(cluster_sum_norm, annot=True, cmap='coolwarm')\n",
    "plt.title('RFM Heatmap by Cluster')\n",
    "plt.savefig('cluster_heatmap.png', dpi=300, bbox_inches='tight') #saving it\n",
    "plt.show()"
   ]
  },
  {
   "cell_type": "markdown",
   "id": "4cf62c50",
   "metadata": {},
   "source": [
    "The heatmap provides a normalized comparison of the three RFM metrics across clusters.\n",
    "It visually confirms the distinctions identified earlier:\n",
    "\n",
    "+ Cluster 0 shows low recency and high frequency and monetary values, confirming these as the loyal/high-value customers.\n",
    "\n",
    "+ Cluster 1 displays high recency and low frequency/monetary, representing inactive or at-risk customers.\n",
    "\n",
    "+ Cluster 2 remains moderate across all dimensions, indicating potential loyalists or regular buyers.\n",
    "\n",
    "This visualization reinforces the earlier interpretation, showing a clear behavioral separation between customer groups."
   ]
  },
  {
   "cell_type": "code",
   "execution_count": 167,
   "id": "bdb3ef5f",
   "metadata": {},
   "outputs": [
    {
     "data": {
      "image/png": "[encoded data removed]",
      "text/plain": [
       "<Figure size 1000x400 with 1 Axes>"
      ]
     },
     "metadata": {},
     "output_type": "display_data"
    }
   ],
   "source": [
    "#bar chart\n",
    "\n",
    "cluster_sum_norm.plot(kind='bar', figsize=(10,4))\n",
    "plt.title('Cluster Profiles by RFM Metrics', fontsize=14)\n",
    "plt.xlabel('Cluster')\n",
    "plt.ylabel('Normalized Mean Value')\n",
    "plt.xticks(rotation=0)\n",
    "plt.legend(title='RFM Metric')\n",
    "plt.show()\n"
   ]
  },
  {
   "cell_type": "markdown",
   "id": "77ea8178",
   "metadata": {},
   "source": [
    "Overall, the normalized bar chart reinforces the segmentation patterns found in the heatmap, but emphasizes the proportional differences among metrics within each cluster. It visually highlights where each segment performs strongest or weakest, guiding targeted marketing or retention strategies."
   ]
  },
  {
   "cell_type": "markdown",
   "id": "f2b1b6e0",
   "metadata": {},
   "source": [
    "## 8. Conclusion\n",
    "To conclude, this project aimed to segment online retail customers based on their purchasing behavior using RFM (Recency, Frequency, Monetary) analysis and K-Means clustering. After extensive data cleaning, feature engineering, and standardization, the optimal number of clusters was determined to be k = 3 using the Elbow and Silhouette methods.\n",
    "\n",
    "The clustering results revealed three distinct customer segments, as illustrated below:"
   ]
  },
  {
   "cell_type": "markdown",
   "id": "6d917ae7",
   "metadata": {},
   "source": [
    "| Cluster | Recency | Frequency | Monetary | Customer Type                | Insight                                                   |\n",
    "| ------- | ------- | --------- | -------- | ---------------------------- | --------------------------------------------------------- |\n",
    "| 0       | Low     | High      | High     | **Loyal / High-value Customers**    | Frequent, recent, and high-spending buyers.               |\n",
    "| 1       | High    | Low       | Low      | **Inactive / Low-value Customers** | Haven’t purchased recently; minimal engagement.           |\n",
    "| 2       | Medium  | Medium  | Medium   | **Occasional Customers**      | Potential Loyalists; can be nurtured with retention offers. |\n"
   ]
  },
  {
   "cell_type": "markdown",
   "id": "e25bcbc6",
   "metadata": {},
   "source": [
    "From a business perspective, these insights enable targeted marketing strategies, as demonstrated below:\n",
    "\n",
    "### **Actionable recommendations**\n",
    "| **Cluster** | **Customer Type**      | **Key Strategy** | **Action**                                                |\n",
    "| ----------- | ---------------------- | ---------------- | --------------------------------------------------------- |\n",
    "| **0**       | Loyal / High-Value     | Retain & Reward  | Loyalty programs, VIP perks           |\n",
    "| **1**       | Inactive / Low-Value   | Reactivate       | Win-back emails, time-limited discounts      |\n",
    "| **2**       | Occasional / Mid-Value | Engage & Grow    | Personalized offers, cross-sell bundles, gamified rewards |\n",
    "\n"
   ]
  },
  {
   "cell_type": "markdown",
   "id": "2837816a",
   "metadata": {},
   "source": [
    "These insights can directly support data-driven marketing strategists aimed at enhance customer engagement and profitability.\n",
    "\n",
    "In future work, additional features such as product categories or seasonal behavior could enhance segmentation. Exploring advanced models like hierarchical clustering may also reveal finer behavioral subgroups.\n",
    "\n",
    "\n",
    "\n",
    "\n",
    "----"
   ]
  },
  {
   "cell_type": "markdown",
   "id": "e1057f54",
   "metadata": {},
   "source": []
  }
 ],
 "metadata": {
  "kernelspec": {
   "display_name": "Python (portfolio_env)",
   "language": "python",
   "name": "portfolio_env"
  },
  "language_info": {
   "codemirror_mode": {
    "name": "ipython",
    "version": 3
   },
   "file_extension": ".py",
   "mimetype": "text/x-python",
   "name": "python",
   "nbconvert_exporter": "python",
   "pygments_lexer": "ipython3",
   "version": "3.13.5"
  }
 },
 "nbformat": 4,
 "nbformat_minor": 5
}
